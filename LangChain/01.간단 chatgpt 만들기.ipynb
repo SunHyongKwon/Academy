{
 "cells": [
  {
   "cell_type": "code",
   "execution_count": 14,
   "metadata": {},
   "outputs": [
    {
     "ename": "ModuleNotFoundError",
     "evalue": "No module named 'dotenv'",
     "output_type": "error",
     "traceback": [
      "\u001b[0;31m---------------------------------------------------------------------------\u001b[0m",
      "\u001b[0;31mModuleNotFoundError\u001b[0m                       Traceback (most recent call last)",
      "Cell \u001b[0;32mIn[14], line 2\u001b[0m\n\u001b[1;32m      1\u001b[0m \u001b[38;5;28;01mimport\u001b[39;00m \u001b[38;5;21;01mos\u001b[39;00m\n\u001b[0;32m----> 2\u001b[0m \u001b[38;5;28;01mimport\u001b[39;00m \u001b[38;5;21;01mdotenv\u001b[39;00m\n\u001b[1;32m      3\u001b[0m dotenv\u001b[38;5;241m.\u001b[39mload_env()\n\u001b[1;32m      4\u001b[0m \u001b[38;5;66;03m# os.environ[\"OPENAI_API_KEY\"] = \u001b[39;00m\n",
      "\u001b[0;31mModuleNotFoundError\u001b[0m: No module named 'dotenv'"
     ]
    }
   ],
   "source": [
    "import os\n",
    "from dotenv import dotenv_values\n",
    "\n",
    "config = dotenv_values(\".env\") \n",
    "os.environ[\"OPENAI_API_KEY\"] = config['OPENAI_API_KEY']"
   ]
  },
  {
   "cell_type": "code",
   "execution_count": 13,
   "metadata": {},
   "outputs": [
    {
     "name": "stdout",
     "output_type": "stream",
     "text": [
      "\n",
      "1. 간결하고 쉬운 문법\n",
      "파이썬은 문법이 간결하고 읽기 쉽기 때문에 처음 프로그래밍을 배우는 사람들도 쉽게 익힐 수 있습니다. 또한 들여쓰기를 강제하여 가독성을 높여주기 때문에 코드의 가독성이 뛰어나며, 코드를 작성하는 데 필요한 시간도 줄일 수 있습니다.\n",
      "\n",
      "2. 다양한 용도로 사용 가능\n",
      "파이썬은 다양한 분야에서 사용할 수 있습니다. 데이터 분석, 인공지능, 웹 개발, 게임 개발 등 다양한 분야에서 사용되며, 특히 데이터 분석 분야에서는 매우 인기가 높습니다.\n",
      "\n",
      "3. 라이브러리와 프레임워크가 풍부\n",
      "파이썬은 많은 라이브러리와 프레임워크를 제공하여 개발자들이 쉽게 작업을 할 수 있도록 도와줍니다. 또한 오픈소스 생태계가 발전하여 다양한 라이브러리와 프레임워크가 지속적으로 개발되고 있어, 개발자들이 효율적으로 작업할 수 있습니다.\n",
      "\n",
      "4. 크로스 플랫폼 지원\n",
      "파이썬은 윈도우, 맥, 리눅스 등 다양한 운영체제에서 사용할 수 있으며, 코드를 수정하지 않고도 여러 플랫폼에서 동작할 수 있습니다.\n",
      "\n",
      "5. 커뮤니티의 활발함\n",
      "파이썬은 전 세계적으로 많은 사용자들이 있는 인기있는 프로그래밍 언어입니다. 따라서 온라인 커뮤니티에서는 다양한 정보와 지원을 얻을 수 있으며, 문제가 발생했을 때 해결할 수 있는 가능성이 높습니다.\n",
      "\n",
      "6. 배우기 쉽고 유연한 언어\n",
      "파이썬은 배우기 쉽고 유연한 언어로, 다른 프로그래밍 언어에 비해 상대적으로 학습이 쉽습니다. 또한 다른 언어와의 호환성이 좋아 다른 언어를 배우는 데도 도움이 됩니다.\n",
      "\n",
      "7. 빠른 개발 속도\n",
      "파이썬은 코드를 작성하는 데 필요한 시간을 줄여주는 기능들이 많습니다. 간단한 코드로도 원하는 결과를 얻을 수 있으며, 개발자들이 생산적으로 일할 수 있도록 도와줍니다.\n",
      "\n",
      "8. 대학과 학습 과정에서의 인기\n",
      "파이썬은 학교에서 가르치기에도 적합한 언어로 인기가 있습니다. 따라서 많은 대학과 학원에서 파이썬을 가르치고 있으며, 학생들이 배우기 쉽고 재미있게 프로그래밍을 시작할 수 있도록 도와줍니다.\n",
      "\n",
      "9. 무료이면서도 강력한 언어\n",
      "파이썬은 무료로 사용할 수 있으며, 강력한 기능을 제공합니다. 따라서 기업이나 개인 프로젝트에서도 비용을 들이지 않고 파이썬을 사용할 수 있습니다.\n",
      "\n",
      "10. 지속적인 발전\n",
      "파이썬은 계속해서 발전하고 있습니다. 새로운 기능과 업데이트가 지속적으로 이루어지며, 사용자들의 피드백을 수용하여 더욱 발전하고 있습니다. 따라서 앞으로도 계속해서 인기를 유지할 것으로 예상됩니다.\n"
     ]
    }
   ],
   "source": [
    "from langchain_openai import OpenAI\n",
    "llm = OpenAI()\n",
    "llm = OpenAI(model_name = 'gpt-3.5-turbo-instruct', max_tokens = -1)\n",
    "result = llm.invoke('왜 파이썬이 가장 인기있는 프로그래밍 언어야?')\n",
    "print(result)"
   ]
  },
  {
   "cell_type": "code",
   "execution_count": null,
   "metadata": {},
   "outputs": [],
   "source": []
  }
 ],
 "metadata": {
  "kernelspec": {
   "display_name": "tf",
   "language": "python",
   "name": "python3"
  },
  "language_info": {
   "codemirror_mode": {
    "name": "ipython",
    "version": 3
   },
   "file_extension": ".py",
   "mimetype": "text/x-python",
   "name": "python",
   "nbconvert_exporter": "python",
   "pygments_lexer": "ipython3",
   "version": "3.8.18"
  }
 },
 "nbformat": 4,
 "nbformat_minor": 2
}

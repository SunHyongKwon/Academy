{
 "cells": [
  {
   "cell_type": "code",
   "execution_count": 25,
   "metadata": {},
   "outputs": [],
   "source": [
    "import os\n",
    "from dotenv import dotenv_values\n",
    "\n",
    "config = dotenv_values(\".env\") \n",
    "os.environ[\"OPENAI_API_KEY\"] = config['OPENAI_API_KEY']"
   ]
  },
  {
   "cell_type": "markdown",
   "metadata": {},
   "source": [
    "- 아래의 langchain_openai의 OpenAI() 기본 모델은 'gpt-3.5-turbo-instruct'입니다."
   ]
  },
  {
   "cell_type": "code",
   "execution_count": 28,
   "metadata": {},
   "outputs": [
    {
     "name": "stdout",
     "output_type": "stream",
     "text": [
      "\n",
      "\n",
      "1. 쉬운 문법과 배우기 쉬운 언어\n",
      "파이썬은 다른 프로그래밍 언어에 비해 문법이 간단하고 배우기 쉬운 언어입니다. 이는 이해하기 쉽고 빠르게 코드를 작성할 수 있게 해줍니다.\n",
      "\n",
      "2. 다양한 용도로 사용 가능\n",
      "파이썬은 데이터 분석, 웹 개발, 인공지능, 게임 개발 등 다양한 분야에서 사용되는 범용 프로그래밍 언어입니다. 이러한 다양한 용도로 사용할 수 있기 때문에 많은 사람들이 파이썬을 학습하고 있습니다.\n",
      "\n",
      "3. 높은 생산성\n",
      "파이썬은 다른 프로그래밍 언어에 비해 간결한 문법을 가지고 있어 코드를 작성하기 쉬우며,\n"
     ]
    }
   ],
   "source": [
    "from langchain_openai import OpenAI\n",
    "llm = OpenAI()\n",
    "result = llm.invoke('왜 파이썬이 가장 인기있는 프로그래밍 언어야?')\n",
    "print(result)"
   ]
  },
  {
   "cell_type": "code",
   "execution_count": 31,
   "metadata": {},
   "outputs": [
    {
     "name": "stdout",
     "output_type": "stream",
     "text": [
      "\n",
      "\n",
      "1. 간결하고 읽기 쉬운 문법: 파이썬은 문법이 간결하고 읽기 쉽기 때문에 초보자도 쉽게 배울 수 있습니다. 또한 코드를 작성할 때 들여쓰기가 강제되어 가독성이 좋아집니다.\n",
      "\n",
      "2. 다양한 용도로 사용 가능: 파이썬은 데이터 분석, 웹 개발, 인공지능, 게임 개발 등 다양한 분야에서 사용될 수 있습니다. 따라서 다양한 분야의 개발자들이 파이썬을 선택하는 경향이 있습니다.\n",
      "\n",
      "3. 강력한 라이브러리: 파이썬은 다양한 라이브러리를 제공하여 개발자들이 효율적으로 프로그래밍을 할 수 있도록 도와줍니다. 또한 라이브러리를 직접 만들어서 사용할 수 있기 때문에 개발 속도를 크게 높일 수 있습니다.\n",
      "\n",
      "4. 커뮤니티의 지속적인 발전: 파이썬은 커뮤니티가 활발하게 활동하고 있어서 지속적으로 발전하고 있습니다. 새로운 라이브러리, 프레임워크, 도구 등이 계속해서 등장하고 있어서 개발자들이 사용하기에 매우 유용합니다.\n",
      "\n",
      "5. 크로스 플랫폼 지원: 파이썬은 윈도우, 맥, 리눅스 등 다양한 운영체제에서 모두 동작하기 때문에 개발 환경에 제약이 없습니다.\n",
      "\n",
      "6. 배우기 쉽고 배우기가 재미있음: 파이썬은 배우기 쉽고 배우는 과정이 재미있기 때문에 초보자들도 쉽게 접근할 수 있습니다. 또한 파이썬을 사용해 문제를 해결하는 과정이 즐겁기 때문에 개발자들이 좋아하는 언어 중 하나입니다.\n",
      "\n",
      "7. 빠른 개발 속도: 파이썬은 문법이 간결하고 다양한 라이브러리를 제공하기 때문에 개발 속도가 빠릅니다. 따라서 프로젝트를 빠르게 완료할 수 있습니다.\n",
      "\n",
      "8. 인기있는 기업에서 사용: 구글, 넷플릭스, 페이스북 등 인기있는 기업들이 파이썬을 채택하여 사용하고 있기 때문에 파이썬 개발자들에게는 많은 일자리가 있습니다.\n",
      "\n",
      "9. 무료로 사용 가능: 파이썬은 오픈소스로 무료로 사용할 수 있기 때문에 비용 부담 없이 개발을 할 수 있습니다.\n",
      "\n",
      "10. 커뮤니티의 지원: 파이썬 커뮤니티는 매우 활발하고 친절하며 서로 도움을 주고 받는 문화가 있기 때문에 개발자들이 쉽게 도움을 얻을 수 있습니다.\n"
     ]
    }
   ],
   "source": [
    "from langchain_openai import OpenAI\n",
    "\n",
    "llm = OpenAI(model_name = 'gpt-3.5-turbo-instruct', max_tokens = -1) # -1 시 끝까지 나온다.\n",
    "result = llm.invoke('왜 파이썬이 가장 인기있는 프로그래밍 언어야?')\n",
    "print(result)\n"
   ]
  },
  {
   "cell_type": "code",
   "execution_count": null,
   "metadata": {},
   "outputs": [],
   "source": []
  }
 ],
 "metadata": {
  "kernelspec": {
   "display_name": "tf",
   "language": "python",
   "name": "python3"
  },
  "language_info": {
   "codemirror_mode": {
    "name": "ipython",
    "version": 3
   },
   "file_extension": ".py",
   "mimetype": "text/x-python",
   "name": "python",
   "nbconvert_exporter": "python",
   "pygments_lexer": "ipython3",
   "version": "3.8.0"
  }
 },
 "nbformat": 4,
 "nbformat_minor": 2
}

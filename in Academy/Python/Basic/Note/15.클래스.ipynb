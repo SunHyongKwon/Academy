{
 "cells": [
  {
   "cell_type": "code",
   "execution_count": 19,
   "metadata": {},
   "outputs": [],
   "source": [
    "class Services:\n",
    "    secret = \"임금님 귀는 당나귀 귀다!\"\n",
    "\n",
    "    # 생성자\n",
    "    def __init__(self,name):\n",
    "        self.name = name\n",
    "\n",
    "    # self 라는 키워드가 없으면 함수가 실행이 안된다.\n",
    "    def sum(self,num1,num2):\n",
    "         print(f\"{self.name}님! {num1} + {num2} = {num1 + num2}\")\n",
    "\n",
    "    def setName(self,name):\n",
    "        self.name = name"
   ]
  },
  {
   "cell_type": "code",
   "execution_count": 20,
   "metadata": {},
   "outputs": [
    {
     "name": "stdout",
     "output_type": "stream",
     "text": [
      "관우님! 2 + 3 = 5\n"
     ]
    }
   ],
   "source": [
    "instance01 = Services(\"관우\")\n",
    "instance01.secret\n",
    "instance01.sum(2,3)"
   ]
  },
  {
   "cell_type": "code",
   "execution_count": 26,
   "metadata": {},
   "outputs": [],
   "source": [
    "class Calc:\n",
    "    def __init__(self,num1,num2):\n",
    "        self.num1 = num1\n",
    "        self.num2 = num2\n",
    "    \n",
    "    def sum(self):\n",
    "        return self.num1 + self.num2\n",
    "    \n",
    "    def mul(self):\n",
    "        return self.num1 * self.num2\n",
    "    \n",
    "    def sub(self):\n",
    "        return self.num1 - self.num2\n",
    "\n",
    "    def div(self):\n",
    "        return self.num1 / self.num2\n",
    "\n"
   ]
  },
  {
   "cell_type": "code",
   "execution_count": 27,
   "metadata": {},
   "outputs": [
    {
     "name": "stdout",
     "output_type": "stream",
     "text": [
      "덧셈: 6\n",
      "곱셈: 8\n",
      "뺄셈: 2\n",
      "나눗셈: 2.0\n"
     ]
    }
   ],
   "source": [
    "calc01 = Calc(4,2)\n",
    "print('덧셈:', calc01.sum())\n",
    "print('곱셈:', calc01.mul())\n",
    "print('뺄셈:', calc01.sub())\n",
    "print('나눗셈:', calc01.div())"
   ]
  },
  {
   "cell_type": "code",
   "execution_count": null,
   "metadata": {},
   "outputs": [],
   "source": []
  }
 ],
 "metadata": {
  "kernelspec": {
   "display_name": "tensorflow",
   "language": "python",
   "name": "python3"
  },
  "language_info": {
   "codemirror_mode": {
    "name": "ipython",
    "version": 3
   },
   "file_extension": ".py",
   "mimetype": "text/x-python",
   "name": "python",
   "nbconvert_exporter": "python",
   "pygments_lexer": "ipython3",
   "version": "3.9.13 | packaged by conda-forge | (main, May 27 2022, 17:01:00) \n[Clang 13.0.1 ]"
  },
  "orig_nbformat": 4,
  "vscode": {
   "interpreter": {
    "hash": "a3680a952170aa4879024e73d39878b7aac962f0b16bced1a9689b2321800c8b"
   }
  }
 },
 "nbformat": 4,
 "nbformat_minor": 2
}

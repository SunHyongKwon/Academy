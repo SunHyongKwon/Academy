{
 "cells": [
  {
   "attachments": {},
   "cell_type": "markdown",
   "metadata": {},
   "source": [
    "# while문"
   ]
  },
  {
   "cell_type": "code",
   "execution_count": 1,
   "metadata": {},
   "outputs": [
    {
     "name": "stdout",
     "output_type": "stream",
     "text": [
      "나무를 1번 찍었습니다.\n",
      "나무를 2번 찍었습니다.\n",
      "나무를 3번 찍었습니다.\n",
      "나무를 4번 찍었습니다.\n",
      "나무를 5번 찍었습니다.\n",
      "나무를 6번 찍었습니다.\n",
      "나무를 7번 찍었습니다.\n",
      "나무를 8번 찍었습니다.\n",
      "나무를 9번 찍었습니다.\n",
      "나무를 10번 찍었습니다.\n",
      "나무 넘어 갑니다.\n"
     ]
    }
   ],
   "source": [
    "treeHit = 0\n",
    "\n",
    "while treeHit < 10:\n",
    "    treeHit += 1 \n",
    "    print(f\"나무를 {treeHit}번 찍었습니다.\")\n",
    "    print(\"나무 넘어 갑니다.\") if treeHit == 10 else \"\""
   ]
  },
  {
   "cell_type": "code",
   "execution_count": 1,
   "metadata": {},
   "outputs": [],
   "source": [
    "prompt = \"\"\"\n",
    "1. 덧셈\n",
    "2. 뺄셈\n",
    "3. 곱셈\n",
    "4. 나눗셈\n",
    "5. 종료\n",
    "\n",
    "숫자를 입력하세요\n",
    "\"\"\""
   ]
  },
  {
   "cell_type": "code",
   "execution_count": 2,
   "metadata": {},
   "outputs": [
    {
     "ename": "ValueError",
     "evalue": "invalid literal for int() with base 10: ''",
     "output_type": "error",
     "traceback": [
      "\u001b[0;31m---------------------------------------------------------------------------\u001b[0m",
      "\u001b[0;31mValueError\u001b[0m                                Traceback (most recent call last)",
      "Cell \u001b[0;32mIn[2], line 1\u001b[0m\n\u001b[0;32m----> 1\u001b[0m promptNum \u001b[39m=\u001b[39m \u001b[39mint\u001b[39;49m(\u001b[39minput\u001b[39;49m(\u001b[39m\"\u001b[39;49m\u001b[39m숫자를 입력해주세요\u001b[39;49m\u001b[39m\"\u001b[39;49m))\n\u001b[1;32m      3\u001b[0m \u001b[39mwhile\u001b[39;00m promptNum \u001b[39m!=\u001b[39m \u001b[39m5\u001b[39m:\n\u001b[1;32m      4\u001b[0m     prompt \u001b[39m=\u001b[39m \u001b[39m\"\"\"\u001b[39m\n\u001b[1;32m      5\u001b[0m \u001b[39m1. 덧셈\u001b[39m\n\u001b[1;32m      6\u001b[0m \u001b[39m2. 뺄셈\u001b[39m\n\u001b[0;32m   (...)\u001b[0m\n\u001b[1;32m     11\u001b[0m \u001b[39m숫자를 입력하세요\u001b[39m\n\u001b[1;32m     12\u001b[0m \u001b[39m\"\"\"\u001b[39m\n",
      "\u001b[0;31mValueError\u001b[0m: invalid literal for int() with base 10: ''"
     ]
    }
   ],
   "source": [
    "promptNum = int(input(\"숫자를 입력해주세요\"))\n",
    "\n",
    "while promptNum != 5:\n",
    "    prompt = \"\"\"\n",
    "1. 덧셈\n",
    "2. 뺄셈\n",
    "3. 곱셈\n",
    "4. 나눗셈\n",
    "5. 종료\n",
    "\n",
    "숫자를 입력하세요\n",
    "\"\"\"\n",
    "    promptNum = int(input(\"숫자를 입력해주세요\"))\n",
    "\n",
    "    if promptNum == 1:\n",
    "        print()\n"
   ]
  },
  {
   "cell_type": "code",
   "execution_count": 11,
   "metadata": {},
   "outputs": [
    {
     "name": "stdout",
     "output_type": "stream",
     "text": [
      "커피를 줍니다.\n",
      "남은 커피의 양은 4개 입니다.\n",
      "거스름돈 200를 주고 커피를 줍니다.\n",
      "남은 커피의 양은 3개 입니다.\n",
      "돈을 다시 돌려주고 커피를 주지 않습니다.\n",
      "남은 커피의 양은 3개 입니다.\n",
      "돈을 다시 돌려주고 커피를 주지 않습니다.\n",
      "남은 커피의 양은 3개 입니다.\n",
      "커피를 줍니다.\n",
      "남은 커피의 양은 2개 입니다.\n",
      "커피를 줍니다.\n",
      "남은 커피의 양은 1개 입니다.\n",
      "커피를 줍니다.\n",
      "커피가 다 떨어졌습니다. 판매를 중지 합니다.\n"
     ]
    }
   ],
   "source": [
    "coffee = 5\n",
    "\n",
    "while coffee > 0:\n",
    "    money = int(input(\"돈을 넣어 주세요! \"))\n",
    "    (coffee,str) = (coffee-1,\"커피를 줍니다.\") if money == 300 else (coffee -1,f\"거스름돈 {money-300}를 주고 커피를 줍니다.\") if money > 300 else (coffee,\"돈을 다시 돌려주고 커피를 주지 않습니다.\")\n",
    "    print(str)\n",
    "    print(f\"남은 커피의 양은 {coffee}개 입니다.\") if coffee > 0 else print(\"커피가 다 떨어졌습니다. 판매를 중지 합니다.\")\n",
    "\n"
   ]
  },
  {
   "cell_type": "code",
   "execution_count": 4,
   "metadata": {},
   "outputs": [
    {
     "name": "stdout",
     "output_type": "stream",
     "text": [
      "1\n",
      "2\n",
      "3\n",
      "4\n",
      "6\n",
      "7\n",
      "8\n",
      "9\n",
      "10\n"
     ]
    }
   ],
   "source": [
    "# continue\n",
    "var = 0\n",
    "while var < 10:\n",
    "    var += 1\n",
    "    if var == 5:\n",
    "        continue\n",
    "    print(var)\n",
    "\n"
   ]
  },
  {
   "cell_type": "code",
   "execution_count": 5,
   "metadata": {},
   "outputs": [
    {
     "name": "stdout",
     "output_type": "stream",
     "text": [
      "1\n",
      "3\n",
      "5\n",
      "7\n",
      "9\n"
     ]
    }
   ],
   "source": [
    "# continue문을 사용하여 홀수 숫자만 출력\n",
    "var = 0 \n",
    "while var < 10:\n",
    "    var += 1\n",
    "    if var % 2 == 0:\n",
    "        continue\n",
    "    print(var)"
   ]
  },
  {
   "cell_type": "code",
   "execution_count": 7,
   "metadata": {},
   "outputs": [
    {
     "name": "stdout",
     "output_type": "stream",
     "text": [
      "노력\n",
      "우수\n",
      "우수\n",
      "노력\n"
     ]
    }
   ],
   "source": [
    "# 점수가 80점 이상이면 우수, 나머지는 노력으로 출력\n",
    "scores = [78, 85, 95, 65]\n",
    "\n",
    "var = 0\n",
    "\n",
    "while var < len(scores):\n",
    "    if scores[var] >= 80:\n",
    "        print('우수')\n",
    "    else:\n",
    "        print('노력')\n",
    "    var += 1"
   ]
  },
  {
   "cell_type": "code",
   "execution_count": 10,
   "metadata": {},
   "outputs": [
    {
     "name": "stdout",
     "output_type": "stream",
     "text": [
      "노력\n",
      "우수\n",
      "우수\n",
      "노력\n"
     ]
    }
   ],
   "source": [
    "\n",
    "# pop에 인덱스를 넣으면 거기서 부터 pop 한다. \n",
    "scores = [78, 85, 95, 65]\n",
    "\n",
    "while scores:\n",
    "    if scores.pop(0) >= 80:\n",
    "        print('우수')\n",
    "    else:\n",
    "        print('노력')"
   ]
  },
  {
   "cell_type": "code",
   "execution_count": 11,
   "metadata": {},
   "outputs": [
    {
     "name": "stdout",
     "output_type": "stream",
     "text": [
      "80.75\n"
     ]
    }
   ],
   "source": [
    "# 평균 구하기\n",
    "scores = [78, 85, 95, 65]\n",
    "total = 0\n",
    "list_length = len(scores)\n",
    "\n",
    "while scores:\n",
    "    total += scores.pop()\n",
    "\n",
    "print(total / list_length)"
   ]
  },
  {
   "attachments": {},
   "cell_type": "markdown",
   "metadata": {},
   "source": [
    "---\n",
    "### numpy\n",
    "- pandas 는 excel과 같다. \n",
    "- 계산형 모듈은 numpy가 맞다."
   ]
  },
  {
   "cell_type": "code",
   "execution_count": 12,
   "metadata": {},
   "outputs": [],
   "source": [
    "import numpy as np"
   ]
  },
  {
   "cell_type": "code",
   "execution_count": 14,
   "metadata": {},
   "outputs": [
    {
     "data": {
      "text/plain": [
       "80.75"
      ]
     },
     "execution_count": 14,
     "metadata": {},
     "output_type": "execute_result"
    }
   ],
   "source": [
    "scores = [78, 85, 95, 65]\n",
    "\n",
    "# 평균 구하기\n",
    "np.mean(scores)"
   ]
  },
  {
   "cell_type": "code",
   "execution_count": 18,
   "metadata": {},
   "outputs": [
    {
     "name": "stdout",
     "output_type": "stream",
     "text": [
      "10.917302780449024\n",
      "10.917302780449024\n"
     ]
    }
   ],
   "source": [
    "# 표준편차 구하기\n",
    "# (측정값 - 평균)^2 한 것들의 평균을 내서 이를 제곱근을 한게 표준편차 이다. \n",
    "import math\n",
    "print(math.sqrt(np.mean([math.pow(score - np.mean(scores),2) for score in scores])))\n",
    "print(np.std(scores))\n"
   ]
  },
  {
   "cell_type": "code",
   "execution_count": null,
   "metadata": {},
   "outputs": [],
   "source": []
  }
 ],
 "metadata": {
  "kernelspec": {
   "display_name": "tensorflow",
   "language": "python",
   "name": "python3"
  },
  "language_info": {
   "codemirror_mode": {
    "name": "ipython",
    "version": 3
   },
   "file_extension": ".py",
   "mimetype": "text/x-python",
   "name": "python",
   "nbconvert_exporter": "python",
   "pygments_lexer": "ipython3",
   "version": "3.9.13"
  },
  "orig_nbformat": 4,
  "vscode": {
   "interpreter": {
    "hash": "a3680a952170aa4879024e73d39878b7aac962f0b16bced1a9689b2321800c8b"
   }
  }
 },
 "nbformat": 4,
 "nbformat_minor": 2
}

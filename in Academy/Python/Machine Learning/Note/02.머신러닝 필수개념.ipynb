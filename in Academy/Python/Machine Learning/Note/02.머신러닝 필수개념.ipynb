{
 "cells": [
  {
   "attachments": {},
   "cell_type": "markdown",
   "metadata": {},
   "source": [
    "# 지도학습과 비지도 학습\n",
    "학습 : 데이터를 특별한 알고리즘에 적용해 ML모델을 정의된 문제에 최적화 (가장 근접한 답을 내놓는 것) 시키는 과정"
   ]
  },
  {
   "attachments": {},
   "cell_type": "markdown",
   "metadata": {},
   "source": [
    "### 지도학습 (SL , Supervised Learning)\n",
    "- 비지도학습을 제외하곤 모두 지도학습 <br><br>\n",
    "- 정답을 알려주면서 진행하는 학습 <br><br> \n",
    "- 데이터의 원래값 : 실제값, 정답-레이블(label), 타겟-클래스(class), y값 <br><br>\n",
    "- ML모델을 통해 예측한 값 : 예측값 , 분류값 , y^(hat) <br><br>\n",
    "- 예 ) 분류 , 회귀 "
   ]
  },
  {
   "attachments": {},
   "cell_type": "markdown",
   "metadata": {},
   "source": [
    "### 비지도학습(UL, Unsupervised Learning)\n",
    "- 정답(레이블) 없이 진행하는 학습 <br><br>\n",
    "- 데이터 자체에서 패턴을 찾아내야 할 때 사용 <br><br>\n",
    "- 예 ) 군집화 , 차원축소 (주성분 분석) "
   ]
  },
  {
   "attachments": {},
   "cell_type": "markdown",
   "metadata": {},
   "source": [
    "### 분류와 회귀\n",
    "- 분류 : 범주형 데이터로 예측 <br><br>\n",
    "- 회귀 : 연속형 데이터로 예측 <br><br>"
   ]
  },
  {
   "attachments": {},
   "cell_type": "markdown",
   "metadata": {},
   "source": [
    "##### 분류 (classification)\n",
    "- 데이터가 입력 되었을 때, 지도학습을 통해 학습된 Label 중 하나 또는 여러개의 Label로 예측 <br><br>\n",
    "- 이진 분류 (binary classification) : 둘 중 하나의 값으로 분류하는 경우 <br><br>\n",
    "    - <strong>sigmoid</strong> 함수를 사용한다. <br><br>\n",
    "    - <strong>sigmoid</strong> 함수는 0에서 1사이의 값을 갖는다. <br><br>\n",
    "- 다중 분류 (multiple classification) : 세개 이상의 값으로 분류하는 경우 <br><br>\n",
    "    - <strong>softmax</strong> 함수를 사용한다. <br><br>"
   ]
  },
  {
   "attachments": {},
   "cell_type": "markdown",
   "metadata": {},
   "source": [
    "## 과대적합 (overfitting) vs 과소적합 (underfitting)\n",
    "- 과대적합 <br><br>\n",
    "    - 필요 이상의 특징으로 학습하는 경우(Training 예측력 >> Test 예측력) <br><br>\n",
    "    - 훈련 데이터와 비슷해서 모델링이 복잡하게 된 경우를 말한다. <br><br>\n",
    "- 과소적합 <br><br>\n",
    "    - 데이터에서 충분히 특징을 찾아 내지 못하고 ML모델을 학습한 경우 (Training 예측력 << Test 예측력) <br><br>\n",
    "    - 모델링이 너무 심플해 진 경우다."
   ]
  },
  {
   "attachments": {},
   "cell_type": "markdown",
   "metadata": {},
   "source": [
    "#### 과소적합\n",
    "- 보통 테스트 데이터뿐만 아니라 학습 데이터에 대해서도 정확도가 낮게 나올경우, 과소적합 모델일 가능성이 높음 <br><br>\n",
    "- 과소적합은 드문 일이고, 절대 사용하면 안된다. 차라리 과대적합에서 맞춰가는 것이 낫다. <br><br>"
   ]
  },
  {
   "attachments": {},
   "cell_type": "markdown",
   "metadata": {},
   "source": [
    "#### 과대적합\n",
    "- 학습 데이터 외의 데이터에서 정확도가 낮게 나오는 모델 (배운 것 잘하고 실전에 약한 경우) <br><br>\n",
    "- 데이터 특징들의 수치값을 정규화 함으로써 특정 특징에 의한 편향(bias)을 줄이는 것이 과대적합을 피하는 좋은 방법 <br><br>\n",
    "    - 편향이 범위를 의미한다. <br><br>\n",
    "- 딥러닝의 경우 조기종료(early stopping), 드롭아웃(drop out)을 사용해 과대적합을 피할 수 있다. <br><br>\n",
    "    - 조기 종료 : 트레이닝 데이터에 맞춰 가는 것 같으면 멈춰버리게 하는 것 <br><br>\n",
    "    - 드롭 아웃 : 컬럼들이 너무 많아서 몇 개씩 빼 버리는 것을 말한다. <br><br>"
   ]
  },
  {
   "attachments": {},
   "cell_type": "markdown",
   "metadata": {},
   "source": [
    "---\n",
    "### 혼동행렬 (confusion matrix)\n",
    "- 모델의 성능을 평가할 때 사용하는 지표 (예측값 - 실제값 으로 정오표를 만드는 것) <br><br>\n",
    "- 실제값과 예측값을 비교하여 실제값에 예측값이 얼마나 일치하는지 파악하는 것 <br><br>\n",
    "- 모델의 성능은 혼동행렬에 의해 기반한 단 하나의 수치로 표현 가능하다. <br><br>\n",
    "- 과대적합과 과소적합을 벗어날 때 그 다음 판단하는 것이 혼동행렬이다. <br><br>"
   ]
  },
  {
   "attachments": {},
   "cell_type": "markdown",
   "metadata": {},
   "source": [
    "### 머신러닝 모델의 성능 평가\n",
    "- TP (True Positive) : 맞는 것을 올바르게 예측한 것 <br><br>\n",
    "- TN (True Negative) : 틀린 것을 올바르게 예측한 것 <br><br>\n",
    "- FP (False Postive) : 틀린 것을 맞다고 잘못 예측한 것 <br><br>\n",
    "- FN (False Negative) : 맞는 것을 틀렸다고 잘못 예측한 것 <br><br>"
   ]
  },
  {
   "attachments": {},
   "cell_type": "markdown",
   "metadata": {},
   "source": [
    "### 정확도(Accuracy)\n",
    "- 혼동행렬 상 TP를 전체 셀로 나눈 값 (TP / All)"
   ]
  },
  {
   "cell_type": "code",
   "execution_count": 2,
   "metadata": {},
   "outputs": [
    {
     "data": {
      "text/plain": [
       "78.75"
      ]
     },
     "execution_count": 2,
     "metadata": {},
     "output_type": "execute_result"
    }
   ],
   "source": [
    "63 / 80 * 100"
   ]
  },
  {
   "cell_type": "code",
   "execution_count": 1,
   "metadata": {},
   "outputs": [],
   "source": [
    "import pandas as pd"
   ]
  },
  {
   "cell_type": "code",
   "execution_count": 4,
   "metadata": {},
   "outputs": [],
   "source": [
    "df=pd.DataFrame(\n",
    "    [\n",
    "        [9,1,0,0],\n",
    "        [1,15,3,1],\n",
    "        [5,0,24,1],\n",
    "        [0,4,1,15]\n",
    "    ],\n",
    "    columns=['p_A','p_B','p_C','p_D'],\n",
    "    index=['r_A','r_B','r_C','r_D']\n",
    ")"
   ]
  },
  {
   "cell_type": "code",
   "execution_count": 5,
   "metadata": {},
   "outputs": [
    {
     "data": {
      "text/html": [
       "<div>\n",
       "<style scoped>\n",
       "    .dataframe tbody tr th:only-of-type {\n",
       "        vertical-align: middle;\n",
       "    }\n",
       "\n",
       "    .dataframe tbody tr th {\n",
       "        vertical-align: top;\n",
       "    }\n",
       "\n",
       "    .dataframe thead th {\n",
       "        text-align: right;\n",
       "    }\n",
       "</style>\n",
       "<table border=\"1\" class=\"dataframe\">\n",
       "  <thead>\n",
       "    <tr style=\"text-align: right;\">\n",
       "      <th></th>\n",
       "      <th>p_A</th>\n",
       "      <th>p_B</th>\n",
       "      <th>p_C</th>\n",
       "      <th>p_D</th>\n",
       "    </tr>\n",
       "  </thead>\n",
       "  <tbody>\n",
       "    <tr>\n",
       "      <th>r_A</th>\n",
       "      <td>9</td>\n",
       "      <td>1</td>\n",
       "      <td>0</td>\n",
       "      <td>0</td>\n",
       "    </tr>\n",
       "    <tr>\n",
       "      <th>r_B</th>\n",
       "      <td>1</td>\n",
       "      <td>15</td>\n",
       "      <td>3</td>\n",
       "      <td>1</td>\n",
       "    </tr>\n",
       "    <tr>\n",
       "      <th>r_C</th>\n",
       "      <td>5</td>\n",
       "      <td>0</td>\n",
       "      <td>24</td>\n",
       "      <td>1</td>\n",
       "    </tr>\n",
       "    <tr>\n",
       "      <th>r_D</th>\n",
       "      <td>0</td>\n",
       "      <td>4</td>\n",
       "      <td>1</td>\n",
       "      <td>15</td>\n",
       "    </tr>\n",
       "  </tbody>\n",
       "</table>\n",
       "</div>"
      ],
      "text/plain": [
       "     p_A  p_B  p_C  p_D\n",
       "r_A    9    1    0    0\n",
       "r_B    1   15    3    1\n",
       "r_C    5    0   24    1\n",
       "r_D    0    4    1   15"
      ]
     },
     "execution_count": 5,
     "metadata": {},
     "output_type": "execute_result"
    }
   ],
   "source": [
    "df"
   ]
  },
  {
   "cell_type": "code",
   "execution_count": null,
   "metadata": {},
   "outputs": [],
   "source": [
    "# A라고 예측한 것에 대한 TP 구하기 [p_A , r_A]\n",
    "\n",
    "# A라고 예측한 것에 대한 TN [ p_B : p_D , r_B : r_D]\n",
    "\n",
    "# A라고 예측한 것에 대한 FP [p_A, r_B : r_D]\n",
    "\n",
    "# A라고 예측한 것에 대한 FN [p_B:p_D , r_A]"
   ]
  },
  {
   "attachments": {},
   "cell_type": "markdown",
   "metadata": {},
   "source": [
    "### 정밀도 (Precision)\n",
    "- 각 모델의 예측값이 얼마나 정확하게 예측되었는가를 나타내는 지표 <br><br>\n",
    "- TP / TP + FP <br><br>\n",
    "- 예시 ) 암환자로 예측한 것 중에 진짜 암환자 인 것 <br><br>"
   ]
  },
  {
   "attachments": {},
   "cell_type": "markdown",
   "metadata": {},
   "source": [
    "### 재현율 (Recall)\n",
    "- 실제값 중에서 모델이 검출한 실제값의 비율을 나타내는 지표 <br><br>\n",
    "- TP / TP + FN <br><br>\n",
    "- 예시 ) 실제 암환자 중에서 암환자로 예측한 값 <br><br>"
   ]
  },
  {
   "attachments": {},
   "cell_type": "markdown",
   "metadata": {},
   "source": [
    "### F1 점수 (F1 Score)\n",
    "- 조화평균 이용하여 평균 구하기 <br><br>\n",
    "$${2ab / (a+b)}$$\n",
    "- F1 score를 조화평균 이용하여 구하기 <br><br>\n",
    "$${F1 Score = 2 * 재현율 * 정밀도 / ( 재현율 +정밀도)}$$\n",
    "- F1 score가 높은 모델을 채택하는 것이다. <br><br>"
   ]
  },
  {
   "attachments": {},
   "cell_type": "markdown",
   "metadata": {},
   "source": [
    "---\n",
    "### K - fold 교차 검증 (k-fold cross validation)\n",
    "- 머신러닝에서는 default로 사용해야 된다. <br><br>\n",
    "- k = 4로 주었을 때, 데이터를 4개로 나누어서 이 중 첫번째를 test ,나머지는 train 데이터로 사용하는 것을 fold 1 이라 하고 <br><br> 두번째를 test, 나머지를 train 이라 하면 fold2 <br><br> 이런식으로 총 4가지 경우로 나누어서 train 데이터와 test 데이터를 나누어서 학습을 시키고 일반화가 되는지 안되는지 검증하는 것을 의미한다. <br><br>"
   ]
  },
  {
   "attachments": {},
   "cell_type": "markdown",
   "metadata": {},
   "source": [
    "---\n",
    "### 머신러닝 프레임 프레임 워크 : scikit-learn\n",
    ": 다양한 분류기 (인공지능 모델) 을 지원하며 검증하는 기능, 분류, 회귀, 클러스터링, 차원축소법이 가능하며 샘플 데이터도 제공한다. "
   ]
  },
  {
   "cell_type": "code",
   "execution_count": 27,
   "metadata": {},
   "outputs": [
    {
     "data": {
      "text/plain": [
       "[[0, 0, 0], [0, 1, 1], [1, 0, 1], [1, 1, 0]]"
      ]
     },
     "execution_count": 27,
     "metadata": {},
     "output_type": "execute_result"
    }
   ],
   "source": [
    "# XOR 연산 학습해 보기\n",
    "xor_input = [\n",
    "    [0,0,0],\n",
    "    [0,1,1],\n",
    "    [1,0,1],\n",
    "    [1,1,0]\n",
    "]\n",
    "xor_input"
   ]
  },
  {
   "cell_type": "code",
   "execution_count": 9,
   "metadata": {},
   "outputs": [],
   "source": [
    "# 학습 전용 데이터와 테스트 전용 데이터로 분류\n",
    "import pandas as pd"
   ]
  },
  {
   "cell_type": "code",
   "execution_count": 28,
   "metadata": {},
   "outputs": [],
   "source": [
    "xor_df = pd.DataFrame(xor_input)\n",
    "xor_data = xor_df.iloc[:,:2]\n",
    "xor_label = xor_df.iloc[:,2]"
   ]
  },
  {
   "cell_type": "code",
   "execution_count": 14,
   "metadata": {},
   "outputs": [],
   "source": [
    "# 데이터 학습과 예측하기\n",
    "# svm 은 인공지능 모델이고 , metrics 정오표만들어서 정밀도와 재현율 측정하는 모듈이다. \n",
    "from sklearn import svm, metrics"
   ]
  },
  {
   "cell_type": "code",
   "execution_count": 29,
   "metadata": {},
   "outputs": [
    {
     "data": {
      "text/html": [
       "<style>#sk-container-id-2 {color: black;background-color: white;}#sk-container-id-2 pre{padding: 0;}#sk-container-id-2 div.sk-toggleable {background-color: white;}#sk-container-id-2 label.sk-toggleable__label {cursor: pointer;display: block;width: 100%;margin-bottom: 0;padding: 0.3em;box-sizing: border-box;text-align: center;}#sk-container-id-2 label.sk-toggleable__label-arrow:before {content: \"▸\";float: left;margin-right: 0.25em;color: #696969;}#sk-container-id-2 label.sk-toggleable__label-arrow:hover:before {color: black;}#sk-container-id-2 div.sk-estimator:hover label.sk-toggleable__label-arrow:before {color: black;}#sk-container-id-2 div.sk-toggleable__content {max-height: 0;max-width: 0;overflow: hidden;text-align: left;background-color: #f0f8ff;}#sk-container-id-2 div.sk-toggleable__content pre {margin: 0.2em;color: black;border-radius: 0.25em;background-color: #f0f8ff;}#sk-container-id-2 input.sk-toggleable__control:checked~div.sk-toggleable__content {max-height: 200px;max-width: 100%;overflow: auto;}#sk-container-id-2 input.sk-toggleable__control:checked~label.sk-toggleable__label-arrow:before {content: \"▾\";}#sk-container-id-2 div.sk-estimator input.sk-toggleable__control:checked~label.sk-toggleable__label {background-color: #d4ebff;}#sk-container-id-2 div.sk-label input.sk-toggleable__control:checked~label.sk-toggleable__label {background-color: #d4ebff;}#sk-container-id-2 input.sk-hidden--visually {border: 0;clip: rect(1px 1px 1px 1px);clip: rect(1px, 1px, 1px, 1px);height: 1px;margin: -1px;overflow: hidden;padding: 0;position: absolute;width: 1px;}#sk-container-id-2 div.sk-estimator {font-family: monospace;background-color: #f0f8ff;border: 1px dotted black;border-radius: 0.25em;box-sizing: border-box;margin-bottom: 0.5em;}#sk-container-id-2 div.sk-estimator:hover {background-color: #d4ebff;}#sk-container-id-2 div.sk-parallel-item::after {content: \"\";width: 100%;border-bottom: 1px solid gray;flex-grow: 1;}#sk-container-id-2 div.sk-label:hover label.sk-toggleable__label {background-color: #d4ebff;}#sk-container-id-2 div.sk-serial::before {content: \"\";position: absolute;border-left: 1px solid gray;box-sizing: border-box;top: 0;bottom: 0;left: 50%;z-index: 0;}#sk-container-id-2 div.sk-serial {display: flex;flex-direction: column;align-items: center;background-color: white;padding-right: 0.2em;padding-left: 0.2em;position: relative;}#sk-container-id-2 div.sk-item {position: relative;z-index: 1;}#sk-container-id-2 div.sk-parallel {display: flex;align-items: stretch;justify-content: center;background-color: white;position: relative;}#sk-container-id-2 div.sk-item::before, #sk-container-id-2 div.sk-parallel-item::before {content: \"\";position: absolute;border-left: 1px solid gray;box-sizing: border-box;top: 0;bottom: 0;left: 50%;z-index: -1;}#sk-container-id-2 div.sk-parallel-item {display: flex;flex-direction: column;z-index: 1;position: relative;background-color: white;}#sk-container-id-2 div.sk-parallel-item:first-child::after {align-self: flex-end;width: 50%;}#sk-container-id-2 div.sk-parallel-item:last-child::after {align-self: flex-start;width: 50%;}#sk-container-id-2 div.sk-parallel-item:only-child::after {width: 0;}#sk-container-id-2 div.sk-dashed-wrapped {border: 1px dashed gray;margin: 0 0.4em 0.5em 0.4em;box-sizing: border-box;padding-bottom: 0.4em;background-color: white;}#sk-container-id-2 div.sk-label label {font-family: monospace;font-weight: bold;display: inline-block;line-height: 1.2em;}#sk-container-id-2 div.sk-label-container {text-align: center;}#sk-container-id-2 div.sk-container {/* jupyter's `normalize.less` sets `[hidden] { display: none; }` but bootstrap.min.css set `[hidden] { display: none !important; }` so we also need the `!important` here to be able to override the default hidden behavior on the sphinx rendered scikit-learn.org. See: https://github.com/scikit-learn/scikit-learn/issues/21755 */display: inline-block !important;position: relative;}#sk-container-id-2 div.sk-text-repr-fallback {display: none;}</style><div id=\"sk-container-id-2\" class=\"sk-top-container\"><div class=\"sk-text-repr-fallback\"><pre>SVC()</pre><b>In a Jupyter environment, please rerun this cell to show the HTML representation or trust the notebook. <br />On GitHub, the HTML representation is unable to render, please try loading this page with nbviewer.org.</b></div><div class=\"sk-container\" hidden><div class=\"sk-item\"><div class=\"sk-estimator sk-toggleable\"><input class=\"sk-toggleable__control sk-hidden--visually\" id=\"sk-estimator-id-2\" type=\"checkbox\" checked><label for=\"sk-estimator-id-2\" class=\"sk-toggleable__label sk-toggleable__label-arrow\">SVC</label><div class=\"sk-toggleable__content\"><pre>SVC()</pre></div></div></div></div></div>"
      ],
      "text/plain": [
       "SVC()"
      ]
     },
     "execution_count": 29,
     "metadata": {},
     "output_type": "execute_result"
    }
   ],
   "source": [
    "clf=svm.SVC()\n",
    "clf.fit(xor_data,xor_label)"
   ]
  },
  {
   "cell_type": "code",
   "execution_count": 32,
   "metadata": {},
   "outputs": [
    {
     "data": {
      "text/plain": [
       "1.0"
      ]
     },
     "execution_count": 32,
     "metadata": {},
     "output_type": "execute_result"
    }
   ],
   "source": [
    "pred = clf.predict(xor_data)\n"
   ]
  },
  {
   "cell_type": "code",
   "execution_count": 31,
   "metadata": {},
   "outputs": [
    {
     "data": {
      "text/plain": [
       "1.0"
      ]
     },
     "execution_count": 31,
     "metadata": {},
     "output_type": "execute_result"
    }
   ],
   "source": [
    "# 정답을 구하기\n",
    "metrics.accuracy_score(xor_label,pred)"
   ]
  },
  {
   "cell_type": "code",
   "execution_count": 33,
   "metadata": {},
   "outputs": [
    {
     "data": {
      "text/plain": [
       "1.0"
      ]
     },
     "execution_count": 33,
     "metadata": {},
     "output_type": "execute_result"
    }
   ],
   "source": [
    "# 정답율 구하기 2 \n",
    "clf.score(xor_data,xor_label)"
   ]
  },
  {
   "cell_type": "code",
   "execution_count": null,
   "metadata": {},
   "outputs": [],
   "source": []
  }
 ],
 "metadata": {
  "kernelspec": {
   "display_name": "tensorflow",
   "language": "python",
   "name": "python3"
  },
  "language_info": {
   "codemirror_mode": {
    "name": "ipython",
    "version": 3
   },
   "file_extension": ".py",
   "mimetype": "text/x-python",
   "name": "python",
   "nbconvert_exporter": "python",
   "pygments_lexer": "ipython3",
   "version": "3.9.13 | packaged by conda-forge | (main, May 27 2022, 17:01:00) \n[Clang 13.0.1 ]"
  },
  "orig_nbformat": 4,
  "vscode": {
   "interpreter": {
    "hash": "a3680a952170aa4879024e73d39878b7aac962f0b16bced1a9689b2321800c8b"
   }
  }
 },
 "nbformat": 4,
 "nbformat_minor": 2
}

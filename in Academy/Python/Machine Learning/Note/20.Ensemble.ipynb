{
 "cells": [
  {
   "attachments": {},
   "cell_type": "markdown",
   "metadata": {},
   "source": [
    "### ensemble\n",
    "- 여러개의 분류 모델을 조합해서 더 나은 성능을 내는 방법"
   ]
  },
  {
   "cell_type": "code",
   "execution_count": 29,
   "metadata": {},
   "outputs": [],
   "source": [
    "# RandomForest : 의사결정나무를 단일 모델 조합해서 예측을 실행하는 모델\n",
    "from sklearn import datasets\n",
    "import numpy as np\n",
    "np.random.seed(5)"
   ]
  },
  {
   "cell_type": "code",
   "execution_count": 30,
   "metadata": {},
   "outputs": [
    {
     "data": {
      "text/plain": [
       "array([[ 0.,  0.,  5., ...,  0.,  0.,  0.],\n",
       "       [ 0.,  0.,  0., ..., 10.,  0.,  0.],\n",
       "       [ 0.,  0.,  0., ..., 16.,  9.,  0.],\n",
       "       ...,\n",
       "       [ 0.,  0.,  1., ...,  6.,  0.,  0.],\n",
       "       [ 0.,  0.,  2., ..., 12.,  0.,  0.],\n",
       "       [ 0.,  0., 10., ..., 12.,  1.,  0.]])"
      ]
     },
     "execution_count": 30,
     "metadata": {},
     "output_type": "execute_result"
    }
   ],
   "source": [
    "# 손글씨 데이터\n",
    "mnist = datasets.load_digits()\n",
    "feature , labels = mnist.data , mnist.target\n",
    "mnist.data"
   ]
  },
  {
   "cell_type": "code",
   "execution_count": 31,
   "metadata": {},
   "outputs": [
    {
     "data": {
      "text/plain": [
       "[0.8280229671011794,\n",
       " 0.8235630043451273,\n",
       " 0.8224674115456239,\n",
       " 0.8235692116697703,\n",
       " 0.8341464928615766,\n",
       " 0.8185692116697704,\n",
       " 0.8241247672253259,\n",
       " 0.8180136561142148,\n",
       " 0.8235630043451272,\n",
       " 0.8258038485412786]"
      ]
     },
     "execution_count": 31,
     "metadata": {},
     "output_type": "execute_result"
    }
   ],
   "source": [
    "# 의사결정나무를 이용한 10번의 교차 검증 10번 실시 -> 정확도를 보기 위해서\n",
    "from sklearn.tree import DecisionTreeClassifier\n",
    "from sklearn.model_selection import cross_val_score\n",
    "\n",
    "cv_scores = []\n",
    "cv = DecisionTreeClassifier()\n",
    "\n",
    "for i in range(10):\n",
    "    score = cross_val_score(\n",
    "        cv,\n",
    "        feature,\n",
    "        labels,\n",
    "        cv=10,\n",
    "        scoring='accuracy'\n",
    "    )\n",
    "\n",
    "    cv_scores.append(score.mean())\n",
    "\n",
    "cv_scores"
   ]
  },
  {
   "cell_type": "code",
   "execution_count": 32,
   "metadata": {},
   "outputs": [
    {
     "data": {
      "text/plain": [
       "[0.9526939788950962,\n",
       " 0.9487957790192427,\n",
       " 0.9510211049037863,\n",
       " 0.9549286157666046,\n",
       " 0.9471322160148976,\n",
       " 0.9487988826815641,\n",
       " 0.952122905027933,\n",
       " 0.9454531346989447,\n",
       " 0.9460180012414648,\n",
       " 0.9471322160148976]"
      ]
     },
     "execution_count": 32,
     "metadata": {},
     "output_type": "execute_result"
    }
   ],
   "source": [
    "# 랜덤포레스트를 이용한 10번의 교차 검증 10번 실시 -> 정확도를 보기 위해서\n",
    "from sklearn.ensemble import RandomForestClassifier\n",
    "from sklearn.model_selection import cross_val_score\n",
    "\n",
    "rf_scores = []\n",
    "rf = RandomForestClassifier()\n",
    "\n",
    "for i in range(10):\n",
    "    score = cross_val_score(\n",
    "        rf,\n",
    "        feature,\n",
    "        labels,\n",
    "        cv=10,\n",
    "        scoring='accuracy'\n",
    "    )\n",
    "\n",
    "    rf_scores.append(score.mean())\n",
    "\n",
    "rf_scores"
   ]
  },
  {
   "cell_type": "code",
   "execution_count": 33,
   "metadata": {},
   "outputs": [],
   "source": [
    "def cross_validation(classifier, features, labels):\n",
    "    cv_scores = []\n",
    "\n",
    "    for i in range(10):\n",
    "        score = cross_val_score(\n",
    "            classifier,\n",
    "            features,\n",
    "            labels,\n",
    "            cv=10,\n",
    "            scoring='accuracy'\n",
    "        )\n",
    "\n",
    "        cv_scores.append(score.mean())\n",
    "\n",
    "    return cv_scores"
   ]
  },
  {
   "cell_type": "code",
   "execution_count": 34,
   "metadata": {},
   "outputs": [
    {
     "data": {
      "text/plain": [
       "[0.8330509000620733,\n",
       " 0.8224736188702669,\n",
       " 0.8268963376784605,\n",
       " 0.8246710117939168,\n",
       " 0.825788330229671,\n",
       " 0.821880819366853,\n",
       " 0.833584729981378,\n",
       " 0.8280167597765363,\n",
       " 0.826340782122905,\n",
       " 0.8235816263190564]"
      ]
     },
     "execution_count": 34,
     "metadata": {},
     "output_type": "execute_result"
    }
   ],
   "source": [
    "# 의사결정 나무 \n",
    "dt_cv_scores = cross_validation(DecisionTreeClassifier(),feature,labels)\n",
    "dt_cv_scores"
   ]
  },
  {
   "cell_type": "code",
   "execution_count": 35,
   "metadata": {},
   "outputs": [
    {
     "data": {
      "text/plain": [
       "[0.9504655493482307,\n",
       " 0.9410117939168219,\n",
       " 0.9510211049037863,\n",
       " 0.9549162011173185,\n",
       " 0.9504469273743016,\n",
       " 0.9449130974549969,\n",
       " 0.9510117939168218,\n",
       " 0.9493513345747981,\n",
       " 0.9488081936685286,\n",
       " 0.9471198013656114]"
      ]
     },
     "execution_count": 35,
     "metadata": {},
     "output_type": "execute_result"
    }
   ],
   "source": [
    "# 랜덤 포레스트\n",
    "rf_cv_scores = cross_validation(RandomForestClassifier(),feature,labels)\n",
    "rf_cv_scores"
   ]
  },
  {
   "attachments": {},
   "cell_type": "markdown",
   "metadata": {},
   "source": [
    "### RandomForest와 의사결정나무의 정확도의 시각화"
   ]
  },
  {
   "cell_type": "code",
   "execution_count": 36,
   "metadata": {},
   "outputs": [],
   "source": [
    "import matplotlib.pyplot as plt"
   ]
  },
  {
   "cell_type": "code",
   "execution_count": 37,
   "metadata": {},
   "outputs": [
    {
     "data": {
      "image/png": "[encoded data removed]",
      "text/plain": [
       "<Figure size 640x480 with 1 Axes>"
      ]
     },
     "metadata": {},
     "output_type": "display_data"
    }
   ],
   "source": [
    "plt.plot(\n",
    "    dt_cv_scores,\n",
    "    label='decision tree'\n",
    ")\n",
    "\n",
    "plt.plot(\n",
    "    rf_cv_scores,\n",
    "    label = 'randomForest'\n",
    ")\n",
    "\n",
    "plt.legend()\n",
    "\n",
    "plt.show()"
   ]
  },
  {
   "attachments": {},
   "cell_type": "markdown",
   "metadata": {},
   "source": [
    "### 보팅(Voting) 앙상블\n",
    ": 단일 모델을 앙상블하여 더 나은 예측을 하는 모델 생성"
   ]
  },
  {
   "cell_type": "code",
   "execution_count": 38,
   "metadata": {},
   "outputs": [],
   "source": [
    "from sklearn.model_selection import train_test_split"
   ]
  },
  {
   "cell_type": "code",
   "execution_count": 39,
   "metadata": {},
   "outputs": [],
   "source": [
    "X_train , X_test , y_train , y_test = \\\n",
    "    train_test_split(feature, labels, stratify=labels, test_size=0.2)"
   ]
  },
  {
   "attachments": {},
   "cell_type": "markdown",
   "metadata": {},
   "source": [
    "### 1) 단일 모델 정확도 측정"
   ]
  },
  {
   "cell_type": "code",
   "execution_count": 40,
   "metadata": {},
   "outputs": [
    {
     "data": {
      "text/plain": [
       "0.85"
      ]
     },
     "execution_count": 40,
     "metadata": {},
     "output_type": "execute_result"
    }
   ],
   "source": [
    "# 의사 결정 나무\n",
    "dtree = DecisionTreeClassifier()\n",
    "dtree.fit(X_train,y_train)\n",
    "dtree.score(X_test, y_test)"
   ]
  },
  {
   "cell_type": "code",
   "execution_count": 41,
   "metadata": {},
   "outputs": [
    {
     "data": {
      "text/plain": [
       "0.9861111111111112"
      ]
     },
     "execution_count": 41,
     "metadata": {},
     "output_type": "execute_result"
    }
   ],
   "source": [
    "# knn\n",
    "from sklearn.neighbors import KNeighborsClassifier\n",
    "\n",
    "knn = KNeighborsClassifier()\n",
    "knn.fit(X_train,y_train)\n",
    "knn.score(X_test,y_test)"
   ]
  },
  {
   "cell_type": "code",
   "execution_count": 42,
   "metadata": {},
   "outputs": [
    {
     "data": {
      "text/plain": [
       "0.9722222222222222"
      ]
     },
     "execution_count": 42,
     "metadata": {},
     "output_type": "execute_result"
    }
   ],
   "source": [
    "# svm\n",
    "from sklearn.svm import SVC\n",
    "\n",
    "svm = SVC(probability=True)\n",
    "svm.fit(X_train,y_train)\n",
    "svm.score(X_test,y_test)"
   ]
  },
  {
   "attachments": {},
   "cell_type": "markdown",
   "metadata": {},
   "source": [
    "### 2) 하드 보팅\n",
    ": 각각의 분류기(머신 러닝 모델)의 예측값을 모아 가장 많은 득표를 받은 예측값으로 최종 결론을 내는 방식 <br><br>\n",
    "(가장 높은 값을 쓴다.)"
   ]
  },
  {
   "cell_type": "code",
   "execution_count": 43,
   "metadata": {},
   "outputs": [
    {
     "data": {
      "text/plain": [
       "0.9777777777777777"
      ]
     },
     "execution_count": 43,
     "metadata": {},
     "output_type": "execute_result"
    }
   ],
   "source": [
    "from sklearn.ensemble import VotingClassifier\n",
    "\n",
    "voting_clf = VotingClassifier(\n",
    "    estimators=[('decision_tree',dtree),('KNN',knn),('SVM',svm)],\n",
    "    weights=[1,1,1],\n",
    "    voting='hard'\n",
    ").fit(X_train,y_train)\n",
    "\n",
    "voting_clf.score(X_test,y_test)"
   ]
  },
  {
   "attachments": {},
   "cell_type": "markdown",
   "metadata": {},
   "source": [
    "### 3) 소프트 보팅\n",
    ": 각각의 분류모델을 활용하여 모든 분류값들의 확률들을 더해서 가장 높은 점수를 획득한 분류값으로 최종 결론을 내는 방식"
   ]
  },
  {
   "cell_type": "code",
   "execution_count": 44,
   "metadata": {},
   "outputs": [
    {
     "data": {
      "text/plain": [
       "0.975"
      ]
     },
     "execution_count": 44,
     "metadata": {},
     "output_type": "execute_result"
    }
   ],
   "source": [
    "voting_clf = VotingClassifier(\n",
    "    estimators=[('decision_tree',dtree),('KNN',knn),('SVM',svm)],\n",
    "    weights=[1,1,1],\n",
    "    voting='soft'\n",
    ").fit(X_train,y_train)\n",
    "\n",
    "voting_clf.score(X_test,y_test)"
   ]
  },
  {
   "cell_type": "code",
   "execution_count": null,
   "metadata": {},
   "outputs": [],
   "source": []
  }
 ],
 "metadata": {
  "kernelspec": {
   "display_name": "tensorflow",
   "language": "python",
   "name": "python3"
  },
  "language_info": {
   "codemirror_mode": {
    "name": "ipython",
    "version": 3
   },
   "file_extension": ".py",
   "mimetype": "text/x-python",
   "name": "python",
   "nbconvert_exporter": "python",
   "pygments_lexer": "ipython3",
   "version": "3.9.13 | packaged by conda-forge | (main, May 27 2022, 17:01:00) \n[Clang 13.0.1 ]"
  },
  "orig_nbformat": 4,
  "vscode": {
   "interpreter": {
    "hash": "a3680a952170aa4879024e73d39878b7aac962f0b16bced1a9689b2321800c8b"
   }
  }
 },
 "nbformat": 4,
 "nbformat_minor": 2
}

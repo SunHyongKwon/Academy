{
 "cells": [
  {
   "attachments": {},
   "cell_type": "markdown",
   "metadata": {},
   "source": [
    "### Reinforcement Learning\n",
    "- 머신러닝의 한종류 <br><br>\n",
    "- 입력 출력에서 상호 작용하여 학습하는 Agent를 만든다. <br><br>\n",
    "- Agent는 시행 착오를 통해 학습한다. <br><br>\n",
    "- 엄청난 경험을 통하여 해당 환경에서 성공할 수 있는 충분한 경험을 갖게 된다. <br><br>"
   ]
  },
  {
   "attachments": {},
   "cell_type": "markdown",
   "metadata": {},
   "source": [
    "### 강화학습 알고리즘\n",
    "- Actor-Critic : 새로운 Data 생성 -> GAN <br><br>\n",
    "    - 우리가 그나마 할만한 강화학습 알고리즘 <br><br>"
   ]
  },
  {
   "cell_type": "code",
   "execution_count": null,
   "metadata": {},
   "outputs": [],
   "source": []
  }
 ],
 "metadata": {
  "language_info": {
   "name": "python"
  },
  "orig_nbformat": 4
 },
 "nbformat": 4,
 "nbformat_minor": 2
}

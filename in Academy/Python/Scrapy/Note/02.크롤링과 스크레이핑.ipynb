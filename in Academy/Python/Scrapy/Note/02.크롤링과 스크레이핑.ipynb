{
 "cells": [
  {
   "attachments": {},
   "cell_type": "markdown",
   "metadata": {},
   "source": [
    "# requests\n",
    "\n",
    "### 응답코드\n",
    "|응답코드|설명|\n",
    "|-------|-------------------------------------|\n",
    "|1xx|요청을 받았고 작업 진행중|\n",
    "|2xx|사용자의 요청이 성공적으로 수행됨|\n",
    "|3xx|요청은 완료되었으나 redirect가 필요(추가정보 필요)|\n",
    "|4xx|사용자의 요청이 잘못됨|\n",
    "|5xx|서버에 오류가 발생함|"
   ]
  },
  {
   "cell_type": "code",
   "execution_count": 3,
   "metadata": {},
   "outputs": [
    {
     "name": "stdout",
     "output_type": "stream",
     "text": [
      "200\n"
     ]
    }
   ],
   "source": [
    "import requests as req\n",
    "\n",
    "# 응답코드를 확인 할 수 있다. \n",
    "URL = \"https://www.naver.com\"\n",
    "response = req.get(URL)\n",
    "print(response.status_code)"
   ]
  },
  {
   "cell_type": "code",
   "execution_count": 9,
   "metadata": {},
   "outputs": [
    {
     "name": "stdout",
     "output_type": "stream",
     "text": [
      "200\n"
     ]
    }
   ],
   "source": [
    "import requests as req\n",
    "\n",
    "# 응답코드를 확인 할 수 있다. \n",
    "URL = \"https://www.naver.com\"\n",
    "response = req.get(URL)\n",
    "print(response.status_code)\n",
    "#print(response.text)"
   ]
  },
  {
   "cell_type": "code",
   "execution_count": 10,
   "metadata": {},
   "outputs": [
    {
     "name": "stdout",
     "output_type": "stream",
     "text": [
      "200\n"
     ]
    }
   ],
   "source": [
    "# 네이버 검색 해보기 request로\n",
    "URL = \"https://search.naver.com/search.naver\"\n",
    "params ={'query':'python'}\n",
    "response = req.get(URL, params=params)\n",
    "print(response.status_code)\n",
    "#print(response.text)\n"
   ]
  },
  {
   "cell_type": "code",
   "execution_count": 11,
   "metadata": {},
   "outputs": [
    {
     "name": "stdout",
     "output_type": "stream",
     "text": [
      "200\n"
     ]
    }
   ],
   "source": [
    "# 네이버 웹툰 연결해보기 request로\n",
    "URL = \"https://comic.naver.com/webtoon/detail.nhn\"\n",
    "params ={'titleId':'687915','no':'157'}\n",
    "response = req.get(URL, params=params)\n",
    "print(response.status_code)\n",
    "#print(response.text)\n"
   ]
  },
  {
   "cell_type": "code",
   "execution_count": 20,
   "metadata": {},
   "outputs": [
    {
     "name": "stdout",
     "output_type": "stream",
     "text": [
      "200\n",
      "<class 'requests.models.Response'>\n",
      "<class 'dict'>\n",
      "2.0\n"
     ]
    }
   ],
   "source": [
    "# JSON 파일로 받아서 데이터 가공해 보는 법을 배워보자.\n",
    "URL = \"https://raw.githubusercontent.com/naver/naver-openapi-guide/draft/naver-openapi-swagger.json\"\n",
    "response = req.get(URL)\n",
    "print(response.status_code)\n",
    "print(type(response))\n",
    "print(type(response.json()))\n",
    "print(response.json()['swagger'])"
   ]
  },
  {
   "cell_type": "code",
   "execution_count": null,
   "metadata": {},
   "outputs": [],
   "source": []
  }
 ],
 "metadata": {
  "kernelspec": {
   "display_name": "Python 3",
   "language": "python",
   "name": "python3"
  },
  "language_info": {
   "codemirror_mode": {
    "name": "ipython",
    "version": 3
   },
   "file_extension": ".py",
   "mimetype": "text/x-python",
   "name": "python",
   "nbconvert_exporter": "python",
   "pygments_lexer": "ipython3",
   "version": "3.9.6 (default, Oct 18 2022, 12:41:40) \n[Clang 14.0.0 (clang-1400.0.29.202)]"
  },
  "orig_nbformat": 4,
  "vscode": {
   "interpreter": {
    "hash": "31f2aee4e71d21fbe5cf8b01ff0e069b9275f58929596ceb00d14d90e3e16cd6"
   }
  }
 },
 "nbformat": 4,
 "nbformat_minor": 2
}

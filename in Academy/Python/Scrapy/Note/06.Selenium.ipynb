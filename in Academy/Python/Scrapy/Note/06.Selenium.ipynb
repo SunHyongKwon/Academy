{
 "cells": [
  {
   "attachments": {},
   "cell_type": "markdown",
   "metadata": {},
   "source": [
    "### Selenium\n",
    "- 비동기 처리의 겨우에 Javascript code가 실행 되기전에 web code를 가져오게 되면 내가 원하는 정보를 가져올 수 없게 된다. <br><br>\n",
    "- 이러할 때 사용하는 것이 Selenium package 이다. "
   ]
  },
  {
   "cell_type": "code",
   "execution_count": 2,
   "metadata": {},
   "outputs": [
    {
     "name": "stdout",
     "output_type": "stream",
     "text": [
      "\u001b[31mERROR: Could not find a version that satisfies the requirement webdriver (from versions: none)\u001b[0m\u001b[31m\n",
      "\u001b[0m\u001b[31mERROR: No matching distribution found for webdriver\u001b[0m\u001b[31m\n",
      "\u001b[0m"
     ]
    }
   ],
   "source": [
    "#!pip install selenium\n",
    "#!pip install webdriver-manager"
   ]
  },
  {
   "cell_type": "code",
   "execution_count": 1,
   "metadata": {},
   "outputs": [],
   "source": [
    "from selenium import webdriver\n",
    "from selenium.webdriver.chrome.service import Service\n",
    "from webdriver_manager.chrome import ChromeDriverManager\n",
    "from selenium.webdriver.common.by import By"
   ]
  },
  {
   "cell_type": "code",
   "execution_count": 2,
   "metadata": {},
   "outputs": [
    {
     "name": "stderr",
     "output_type": "stream",
     "text": [
      "[WDM] - Downloading: 100%|██████████| 8.00M/8.00M [00:00<00:00, 56.3MB/s]\n"
     ]
    }
   ],
   "source": [
    "# Chrome Browser와 Chrome Driver Version 확인하기\n",
    "chrom_options = webdriver.ChromeOptions()\n",
    "driver = webdriver.Chrome(service=Service(ChromeDriverManager().install()),options=chrom_options)\n",
    "driver.get('http://www.opinet.co.kr/.do')\n"
   ]
  },
  {
   "cell_type": "code",
   "execution_count": 6,
   "metadata": {},
   "outputs": [
    {
     "data": {
      "text/plain": [
       "True"
      ]
     },
     "execution_count": 6,
     "metadata": {},
     "output_type": "execute_result"
    }
   ],
   "source": [
    "# 현재 화면 Capture 하기\n",
    "driver.save_screenshot('../Data/001.png')"
   ]
  },
  {
   "attachments": {},
   "cell_type": "markdown",
   "metadata": {},
   "source": [
    "---\n",
    "### 서울시 유가 정보 획득을 위한 Test"
   ]
  },
  {
   "cell_type": "code",
   "execution_count": 40,
   "metadata": {},
   "outputs": [
    {
     "data": {
      "text/plain": [
       "['시/군/구',\n",
       " '강남구',\n",
       " '강동구',\n",
       " '강북구',\n",
       " '강서구',\n",
       " '관악구',\n",
       " '광진구',\n",
       " '구로구',\n",
       " '금천구',\n",
       " '노원구',\n",
       " '도봉구',\n",
       " '동대문구',\n",
       " '동작구',\n",
       " '마포구',\n",
       " '서대문구',\n",
       " '서초구',\n",
       " '성동구',\n",
       " '성북구',\n",
       " '송파구',\n",
       " '양천구',\n",
       " '영등포구',\n",
       " '용산구',\n",
       " '은평구',\n",
       " '종로구',\n",
       " '중구',\n",
       " '중랑구']"
      ]
     },
     "execution_count": 40,
     "metadata": {},
     "output_type": "execute_result"
    }
   ],
   "source": [
    "# 자치구명 정보 가져오기\n",
    "# copy Xpath로 내가 가져오고 싶은 위치 찾기 : //*[@id=\"SIGUNGU_NM0\"]\n",
    "# By 를 가져온 이유가 위의 Xpath를 사용하기 위해서 이다. \n",
    "gu_list_raw = driver.find_element(By.XPATH,'//*[@id=\"SIGUNGU_NM0\"]')\n",
    "# gu_list_raw : option value 값을 다 가져온 것이다. \n",
    "gu_list = gu_list_raw.find_elements(By.TAG_NAME,'option')\n",
    "gu_names = [option.get_attribute('text') for option in gu_list]\n",
    "gu_names"
   ]
  },
  {
   "cell_type": "code",
   "execution_count": 34,
   "metadata": {},
   "outputs": [],
   "source": [
    "# 조회버튼 XPath 이용해서 클릭하기 : //*[@id=\"searRgSelect\"]/span\n",
    "xpath = '//*[@id=\"searRgSelect\"]/span'\n",
    "driver.find_element(By.XPATH,xpath).click()"
   ]
  },
  {
   "cell_type": "code",
   "execution_count": 37,
   "metadata": {},
   "outputs": [],
   "source": [
    "# 자치구 이름을 획득하여 1번 자치구명 바꿔주고 클릭하기\n",
    "xpath = '//*[@id=\"searRgSelect\"]/span'\n",
    "element = driver.find_element(By.ID,'SIGUNGU_NM0')\n",
    "\n",
    "# 선택하게 하는 코드\n",
    "element.send_keys(gu_names[1])\n",
    "driver.find_element(By.XPATH,xpath).click()\n",
    "# 엑셀 저장 버튼 클릭하기\n",
    "xpath = '//*[@id=\"glopopd_excel\"]/span'\n",
    "driver.find_element(By.XPATH,xpath).click()"
   ]
  },
  {
   "cell_type": "code",
   "execution_count": 38,
   "metadata": {},
   "outputs": [],
   "source": [
    "# 엑셀 저장 버튼 클릭하기\n",
    "xpath = '//*[@id=\"glopopd_excel\"]/span'\n",
    "driver.find_element(By.XPATH,xpath).click()\n"
   ]
  },
  {
   "attachments": {},
   "cell_type": "markdown",
   "metadata": {},
   "source": [
    "---\n",
    "### 데이터 수집하기"
   ]
  },
  {
   "cell_type": "code",
   "execution_count": 45,
   "metadata": {},
   "outputs": [],
   "source": [
    "import time\n",
    "\n",
    "for gu in gu_names:\n",
    "    # 선택하게 하는 코드\n",
    "    element = driver.find_element(By.ID,'SIGUNGU_NM0')\n",
    "    element.send_keys(gu,)\n",
    "    time.sleep(3)\n",
    "    xpath = '//*[@id=\"searRgSelect\"]/span'\n",
    "    driver.find_element(By.XPATH,xpath).click()\n",
    "    time.sleep(3)\n",
    "    # 엑셀 저장 버튼 클릭하기\n",
    "    xpath = '//*[@id=\"glopopd_excel\"]/span'\n",
    "    driver.find_element(By.XPATH,xpath).click()"
   ]
  },
  {
   "cell_type": "code",
   "execution_count": 46,
   "metadata": {},
   "outputs": [],
   "source": [
    "driver.close()"
   ]
  },
  {
   "cell_type": "code",
   "execution_count": null,
   "metadata": {},
   "outputs": [],
   "source": []
  }
 ],
 "metadata": {
  "kernelspec": {
   "display_name": "tensorflow",
   "language": "python",
   "name": "python3"
  },
  "language_info": {
   "codemirror_mode": {
    "name": "ipython",
    "version": 3
   },
   "file_extension": ".py",
   "mimetype": "text/x-python",
   "name": "python",
   "nbconvert_exporter": "python",
   "pygments_lexer": "ipython3",
   "version": "3.10.9"
  },
  "orig_nbformat": 4,
  "vscode": {
   "interpreter": {
    "hash": "a3680a952170aa4879024e73d39878b7aac962f0b16bced1a9689b2321800c8b"
   }
  }
 },
 "nbformat": 4,
 "nbformat_minor": 2
}

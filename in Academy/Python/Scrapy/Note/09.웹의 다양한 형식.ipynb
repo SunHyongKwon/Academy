{
 "cells": [
  {
   "attachments": {},
   "cell_type": "markdown",
   "metadata": {},
   "source": [
    "---\n",
    "### Python이 scrapy의 대명사가 된 이유\n",
    "- BeautifulSoup <br><br>\n",
    "- Selenium <br><br>\n",
    "\n",
    "--- \n",
    "### portfolio scrapy 작성하기\n",
    "- Multiprocessing 한 것 넣으면 좋고, Olive young scroll 한 것도 넣으면 좋을 듯"
   ]
  },
  {
   "attachments": {},
   "cell_type": "markdown",
   "metadata": {},
   "source": [
    "---\n",
    "### 웹의 다양한 형식\n",
    "- xml <br><br>\n",
    "    - html의 확장 버전 <br><br>\n",
    "    - tag를 마음대로 만들어서 쓸 수 있는 것이 xml이다. <br><br>\n",
    "- json <br><br>\n",
    "- html <br><br>\n",
    "\n",
    "--- \n",
    "### xml 분석\n",
    "- 기상청 전국 날씨 분류하기 <br><br>\n",
    "    - 날씨 종류에 따른 지역 구분 <br><br>"
   ]
  },
  {
   "cell_type": "code",
   "execution_count": 1,
   "metadata": {},
   "outputs": [],
   "source": [
    "from bs4 import BeautifulSoup\n",
    "import urllib.request as req"
   ]
  },
  {
   "cell_type": "code",
   "execution_count": 9,
   "metadata": {},
   "outputs": [
    {
     "name": "stderr",
     "output_type": "stream",
     "text": [
      "/Users/kwonsoonhyong/miniforge3/envs/tensorflow/lib/python3.9/site-packages/bs4/builder/__init__.py:545: XMLParsedAsHTMLWarning: It looks like you're parsing an XML document using an HTML parser. If this really is an HTML document (maybe it's XHTML?), you can ignore or filter this warning. If it's XML, you should know that using an XML parser will be more reliable. To parse this document as XML, make sure you have the lxml package installed, and pass the keyword argument `features=\"xml\"` into the BeautifulSoup constructor.\n",
      "  warnings.warn(\n"
     ]
    }
   ],
   "source": [
    "url = 'http://www.kma.go.kr/weather/forecast/mid-term-rss3.jsp?stnId=108'\n",
    "res = req.urlopen(url)\n",
    "soup=BeautifulSoup(res,\"html.parser\")\n"
   ]
  },
  {
   "cell_type": "code",
   "execution_count": 19,
   "metadata": {},
   "outputs": [
    {
     "name": "stdout",
     "output_type": "stream",
     "text": [
      "13.0\n"
     ]
    }
   ],
   "source": [
    "# 도시 당 13개 씩 있다\n",
    "print(len(soup.select('wf')[1:]) / len(soup.select('city')))"
   ]
  },
  {
   "cell_type": "code",
   "execution_count": 20,
   "metadata": {},
   "outputs": [],
   "source": [
    "# 정보 넣기\n",
    "weathers = soup.select('wf')[1:]\n",
    "cities = soup.select('city')"
   ]
  },
  {
   "cell_type": "code",
   "execution_count": 24,
   "metadata": {},
   "outputs": [
    {
     "name": "stdout",
     "output_type": "stream",
     "text": [
      "{'서울': ['구름많음', '맑음', '맑음', '맑음', '맑음', '맑음', '흐림', '흐림', '맑음', '맑음', '맑음', '맑음', '맑음'], '인천': ['구름많음', '맑음', '맑음', '맑음', '맑음', '맑음', '흐림', '흐림', '맑음', '맑음', '맑음', '맑음', '맑음'], '수원': ['구름많음', '맑음', '맑음', '맑음', '맑음', '맑음', '흐림', '흐림', '맑음', '맑음', '맑음', '맑음', '맑음'], '파주': ['구름많음', '맑음', '맑음', '맑음', '맑음', '맑음', '흐림', '흐림', '맑음', '맑음', '맑음', '맑음', '맑음'], '이천': ['구름많음', '맑음', '맑음', '맑음', '맑음', '맑음', '흐림', '흐림', '맑음', '맑음', '맑음', '맑음', '맑음'], '평택': ['구름많음', '맑음', '맑음', '맑음', '맑음', '맑음', '흐림', '흐림', '맑음', '맑음', '맑음', '맑음', '맑음'], '춘천': ['구름많음', '맑음', '맑음', '맑음', '맑음', '맑음', '흐림', '흐림', '흐림', '맑음', '맑음', '맑음', '맑음'], '원주': ['구름많음', '맑음', '맑음', '맑음', '맑음', '맑음', '흐림', '흐림', '흐림', '맑음', '맑음', '맑음', '맑음'], '강릉': ['구름많음', '구름많음', '맑음', '맑음', '맑음', '맑음', '구름많음', '구름많음', '구름많음', '맑음', '맑음', '맑음', '맑음'], '대전': ['구름많음', '구름많음', '맑음', '맑음', '맑음', '맑음', '흐림', '흐림', '흐림', '맑음', '맑음', '맑음', '구름많음'], '세종': ['구름많음', '구름많음', '맑음', '맑음', '맑음', '맑음', '흐림', '흐림', '흐림', '맑음', '맑음', '맑음', '구름많음'], '홍성': ['구름많음', '구름많음', '맑음', '맑음', '맑음', '맑음', '흐림', '흐림', '흐림', '맑음', '맑음', '맑음', '구름많음'], '청주': ['구름많음', '구름많음', '맑음', '맑음', '맑음', '맑음', '흐림', '흐림', '흐림', '맑음', '맑음', '맑음', '맑음'], '충주': ['구름많음', '구름많음', '맑음', '맑음', '맑음', '맑음', '흐림', '흐림', '흐림', '맑음', '맑음', '맑음', '맑음'], '영동': ['구름많음', '구름많음', '맑음', '맑음', '맑음', '맑음', '흐림', '흐림', '흐림', '맑음', '맑음', '맑음', '맑음'], '광주': ['흐림', '구름많음', '흐리고 눈', '흐리고 눈', '흐리고 눈', '흐림', '흐림', '흐림', '흐림', '구름많음', '흐림', '흐림', '흐림'], '목포': ['흐림', '구름많음', '흐리고 눈', '흐리고 눈', '흐리고 눈', '흐림', '흐림', '흐림', '흐림', '구름많음', '흐림', '흐림', '흐림'], '여수': ['흐림', '구름많음', '흐리고 눈', '흐리고 눈', '흐리고 눈', '흐림', '흐림', '흐림', '흐림', '구름많음', '흐림', '흐림', '흐림'], '순천': ['흐림', '구름많음', '흐리고 눈', '흐리고 눈', '흐리고 눈', '흐림', '흐림', '흐림', '흐림', '구름많음', '흐림', '흐림', '흐림'], '광양': ['흐림', '구름많음', '흐리고 눈', '흐리고 눈', '흐리고 눈', '흐림', '흐림', '흐림', '흐림', '구름많음', '흐림', '흐림', '흐림'], '나주': ['흐림', '구름많음', '흐리고 눈', '흐리고 눈', '흐리고 눈', '흐림', '흐림', '흐림', '흐림', '구름많음', '흐림', '흐림', '흐림'], '전주': ['구름많음', '구름많음', '흐리고 눈', '흐리고 눈', '흐리고 눈', '구름많음', '흐림', '흐림', '흐림', '구름많음', '구름많음', '흐림', '구름많음'], '군산': ['구름많음', '구름많음', '흐리고 눈', '흐리고 눈', '흐리고 눈', '구름많음', '흐림', '흐림', '흐림', '구름많음', '구름많음', '흐림', '구름많음'], '정읍': ['구름많음', '구름많음', '흐리고 눈', '흐리고 눈', '흐리고 눈', '구름많음', '흐림', '흐림', '흐림', '구름많음', '구름많음', '흐림', '구름많음'], '남원': ['구름많음', '구름많음', '흐리고 눈', '흐리고 눈', '흐리고 눈', '구름많음', '흐림', '흐림', '흐림', '구름많음', '구름많음', '흐림', '구름많음'], '고창': ['구름많음', '구름많음', '흐리고 눈', '흐리고 눈', '흐리고 눈', '구름많음', '흐림', '흐림', '흐림', '구름많음', '구름많음', '흐림', '구름많음'], '무주': ['구름많음', '구름많음', '흐리고 눈', '흐리고 눈', '흐리고 눈', '구름많음', '흐림', '흐림', '흐림', '구름많음', '구름많음', '흐림', '구름많음'], '부산': ['구름많고 비/눈', '구름많음', '맑음', '맑음', '맑음', '맑음', '구름많음', '구름많음', '흐림', '구름많음', '맑음', '맑음', '맑음'], '울산': ['구름많고 비/눈', '구름많음', '맑음', '맑음', '맑음', '맑음', '구름많음', '구름많음', '흐림', '구름많음', '맑음', '맑음', '맑음'], '창원': ['구름많고 비/눈', '구름많음', '맑음', '맑음', '맑음', '맑음', '구름많음', '구름많음', '흐림', '구름많음', '맑음', '맑음', '맑음'], '진주': ['구름많고 비/눈', '구름많음', '맑음', '맑음', '맑음', '맑음', '구름많음', '구름많음', '흐림', '구름많음', '맑음', '맑음', '맑음'], '거창': ['구름많고 비/눈', '구름많음', '맑음', '맑음', '맑음', '맑음', '구름많음', '구름많음', '흐림', '구름많음', '맑음', '맑음', '맑음'], '통영': ['구름많고 비/눈', '구름많음', '맑음', '맑음', '맑음', '맑음', '구름많음', '구름많음', '흐림', '구름많음', '맑음', '맑음', '맑음'], '대구': ['구름많음', '구름많음', '맑음', '맑음', '맑음', '맑음', '구름많음', '구름많음', '구름많음', '구름많음', '맑음', '맑음', '맑음'], '안동': ['구름많음', '구름많음', '맑음', '맑음', '맑음', '맑음', '구름많음', '구름많음', '구름많음', '구름많음', '맑음', '맑음', '맑음'], '포항': ['구름많음', '구름많음', '맑음', '맑음', '맑음', '맑음', '구름많음', '구름많음', '구름많음', '구름많음', '맑음', '맑음', '맑음'], '경주': ['구름많음', '구름많음', '맑음', '맑음', '맑음', '맑음', '구름많음', '구름많음', '구름많음', '구름많음', '맑음', '맑음', '맑음'], '울진': ['구름많음', '구름많음', '맑음', '맑음', '맑음', '맑음', '구름많음', '구름많음', '구름많음', '구름많음', '맑음', '맑음', '맑음'], '울릉도': ['구름많음', '구름많음', '맑음', '맑음', '맑음', '맑음', '구름많음', '구름많음', '구름많음', '구름많음', '맑음', '맑음', '맑음'], '제주': ['흐리고 비', '흐림', '흐리고 눈', '흐리고 눈', '흐리고 눈', '흐리고 눈', '흐림', '흐림', '흐림', '흐림', '흐림', '흐림', '흐림'], '서귀포': ['흐리고 비', '흐림', '흐리고 눈', '흐리고 눈', '흐리고 눈', '흐리고 눈', '흐림', '흐림', '흐림', '흐림', '흐림', '흐림', '흐림']}\n"
     ]
    }
   ],
   "source": [
    "wf_city={}\n",
    "cnt = 0\n",
    "for city in cities:\n",
    "    wf_city[city.text] = []\n",
    "    for i in range(13):\n",
    "        wf_city[city.text].append(weathers[cnt * 13 + i].text)\n",
    "    cnt += 1\n",
    "\n",
    "print(wf_city)"
   ]
  },
  {
   "attachments": {},
   "cell_type": "markdown",
   "metadata": {},
   "source": [
    "---\n",
    "### 선생님이 한거"
   ]
  },
  {
   "cell_type": "code",
   "execution_count": 33,
   "metadata": {},
   "outputs": [
    {
     "name": "stdout",
     "output_type": "stream",
     "text": [
      "{'구름많음': ['서울', '인천', '수원', '파주', '이천', '평택', '춘천', '원주', '강릉', '대전', '세종', '홍성', '청주', '충주', '영동', '전주', '군산', '정읍', '남원', '고창', '무주', '대구', '안동', '포항', '경주', '울진', '울릉도'], '흐림': ['광주', '목포', '여수', '순천', '광양', '나주'], '구름많고 비/눈': ['부산', '울산', '창원', '진주', '거창', '통영'], '흐리고 비': ['제주', '서귀포']}\n"
     ]
    }
   ],
   "source": [
    "info = {}\n",
    "for location in soup.find_all('location'):\n",
    "    name = location.find('city').string\n",
    "    weather = location.find('wf').string\n",
    "    if not weather in info:\n",
    "        info[weather] = []\n",
    "    info[weather].append(name)\n",
    "\n",
    "print(info)"
   ]
  },
  {
   "cell_type": "code",
   "execution_count": 36,
   "metadata": {},
   "outputs": [
    {
     "name": "stdout",
     "output_type": "stream",
     "text": [
      "+ 구름많음\n",
      "| - 서울\n",
      "| - 인천\n",
      "| - 수원\n",
      "| - 파주\n",
      "| - 이천\n",
      "| - 평택\n",
      "| - 춘천\n",
      "| - 원주\n",
      "| - 강릉\n",
      "| - 대전\n",
      "| - 세종\n",
      "| - 홍성\n",
      "| - 청주\n",
      "| - 충주\n",
      "| - 영동\n",
      "| - 전주\n",
      "| - 군산\n",
      "| - 정읍\n",
      "| - 남원\n",
      "| - 고창\n",
      "| - 무주\n",
      "| - 대구\n",
      "| - 안동\n",
      "| - 포항\n",
      "| - 경주\n",
      "| - 울진\n",
      "| - 울릉도\n",
      "+ 흐림\n",
      "| - 광주\n",
      "| - 목포\n",
      "| - 여수\n",
      "| - 순천\n",
      "| - 광양\n",
      "| - 나주\n",
      "+ 구름많고 비/눈\n",
      "| - 부산\n",
      "| - 울산\n",
      "| - 창원\n",
      "| - 진주\n",
      "| - 거창\n",
      "| - 통영\n",
      "+ 흐리고 비\n",
      "| - 제주\n",
      "| - 서귀포\n"
     ]
    }
   ],
   "source": [
    "for key,values in list(info.items()):\n",
    "    print('+',key)\n",
    "    for value in values:\n",
    "        print('|','-',value)"
   ]
  },
  {
   "attachments": {},
   "cell_type": "markdown",
   "metadata": {},
   "source": [
    "---\n",
    "### JSON\n",
    "- import JSON 해줘야 JSON 형태 사용가능 "
   ]
  },
  {
   "cell_type": "code",
   "execution_count": 38,
   "metadata": {},
   "outputs": [],
   "source": [
    "import json"
   ]
  },
  {
   "cell_type": "code",
   "execution_count": 37,
   "metadata": {},
   "outputs": [],
   "source": [
    "url = 'https://zeushahn.github.io/Test/student.json'\n",
    "res = req.urlopen(url)\n",
    "soup=BeautifulSoup(res,\"html.parser\")"
   ]
  },
  {
   "cell_type": "code",
   "execution_count": 41,
   "metadata": {},
   "outputs": [],
   "source": [
    "items=json.loads(str(soup))"
   ]
  },
  {
   "cell_type": "code",
   "execution_count": 49,
   "metadata": {},
   "outputs": [
    {
     "name": "stdout",
     "output_type": "stream",
     "text": [
      "S001 | 박소명 | 컴퓨터공학과\t | 123-4567\n",
      "S002 | 최민국 | 컴퓨터공학과\t | 234-5678\n",
      "S003 | 이승호 | 국문학과\t | 345-6789\n",
      "S004 | 정수봉 | 국문학과\t | 456-7890\n",
      "S005 | 김상진 | 사학과\t | 567-8901\n",
      "S006 | 황정숙 | 사학과\t | 678-9012\n"
     ]
    }
   ],
   "source": [
    "for item in items['results']:\n",
    "    print(item['code'],item['name'],item['dept']+'\\t',item['phone'],sep=\" | \")"
   ]
  },
  {
   "cell_type": "code",
   "execution_count": null,
   "metadata": {},
   "outputs": [],
   "source": []
  }
 ],
 "metadata": {
  "kernelspec": {
   "display_name": "tensorflow",
   "language": "python",
   "name": "python3"
  },
  "language_info": {
   "codemirror_mode": {
    "name": "ipython",
    "version": 3
   },
   "file_extension": ".py",
   "mimetype": "text/x-python",
   "name": "python",
   "nbconvert_exporter": "python",
   "pygments_lexer": "ipython3",
   "version": "3.9.13"
  },
  "orig_nbformat": 4,
  "vscode": {
   "interpreter": {
    "hash": "a3680a952170aa4879024e73d39878b7aac962f0b16bced1a9689b2321800c8b"
   }
  }
 },
 "nbformat": 4,
 "nbformat_minor": 2
}

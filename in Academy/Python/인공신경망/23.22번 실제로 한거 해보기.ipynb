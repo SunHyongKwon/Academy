{
 "cells": [
  {
   "cell_type": "code",
   "execution_count": 1,
   "metadata": {},
   "outputs": [],
   "source": [
    "from konlpy.tag import Okt\n",
    "from gensim.models import word2vec"
   ]
  },
  {
   "cell_type": "code",
   "execution_count": 2,
   "metadata": {},
   "outputs": [
    {
     "ename": "FileNotFoundError",
     "evalue": "[Errno 2] No such file or directory: './Data/wiki.model.wv.vectors.npy'",
     "output_type": "error",
     "traceback": [
      "\u001b[0;31m---------------------------------------------------------------------------\u001b[0m",
      "\u001b[0;31mFileNotFoundError\u001b[0m                         Traceback (most recent call last)",
      "Cell \u001b[0;32mIn[2], line 1\u001b[0m\n\u001b[0;32m----> 1\u001b[0m model \u001b[39m=\u001b[39m word2vec\u001b[39m.\u001b[39;49mWord2Vec\u001b[39m.\u001b[39;49mload(\u001b[39m'\u001b[39;49m\u001b[39m./Data/wiki.model\u001b[39;49m\u001b[39m'\u001b[39;49m)\n",
      "File \u001b[0;32m~/miniforge3/envs/tf/lib/python3.10/site-packages/gensim/models/word2vec.py:1953\u001b[0m, in \u001b[0;36mWord2Vec.load\u001b[0;34m(cls, rethrow, *args, **kwargs)\u001b[0m\n\u001b[1;32m   1934\u001b[0m \u001b[39m\u001b[39m\u001b[39m\"\"\"Load a previously saved :class:`~gensim.models.word2vec.Word2Vec` model.\u001b[39;00m\n\u001b[1;32m   1935\u001b[0m \n\u001b[1;32m   1936\u001b[0m \u001b[39mSee Also\u001b[39;00m\n\u001b[0;32m   (...)\u001b[0m\n\u001b[1;32m   1950\u001b[0m \n\u001b[1;32m   1951\u001b[0m \u001b[39m\"\"\"\u001b[39;00m\n\u001b[1;32m   1952\u001b[0m \u001b[39mtry\u001b[39;00m:\n\u001b[0;32m-> 1953\u001b[0m     model \u001b[39m=\u001b[39m \u001b[39msuper\u001b[39;49m(Word2Vec, \u001b[39mcls\u001b[39;49m)\u001b[39m.\u001b[39;49mload(\u001b[39m*\u001b[39;49margs, \u001b[39m*\u001b[39;49m\u001b[39m*\u001b[39;49mkwargs)\n\u001b[1;32m   1954\u001b[0m     \u001b[39mif\u001b[39;00m \u001b[39mnot\u001b[39;00m \u001b[39misinstance\u001b[39m(model, Word2Vec):\n\u001b[1;32m   1955\u001b[0m         rethrow \u001b[39m=\u001b[39m \u001b[39mTrue\u001b[39;00m\n",
      "File \u001b[0;32m~/miniforge3/envs/tf/lib/python3.10/site-packages/gensim/utils.py:487\u001b[0m, in \u001b[0;36mSaveLoad.load\u001b[0;34m(cls, fname, mmap)\u001b[0m\n\u001b[1;32m    484\u001b[0m compress, subname \u001b[39m=\u001b[39m SaveLoad\u001b[39m.\u001b[39m_adapt_by_suffix(fname)\n\u001b[1;32m    486\u001b[0m obj \u001b[39m=\u001b[39m unpickle(fname)\n\u001b[0;32m--> 487\u001b[0m obj\u001b[39m.\u001b[39;49m_load_specials(fname, mmap, compress, subname)\n\u001b[1;32m    488\u001b[0m obj\u001b[39m.\u001b[39madd_lifecycle_event(\u001b[39m\"\u001b[39m\u001b[39mloaded\u001b[39m\u001b[39m\"\u001b[39m, fname\u001b[39m=\u001b[39mfname)\n\u001b[1;32m    489\u001b[0m \u001b[39mreturn\u001b[39;00m obj\n",
      "File \u001b[0;32m~/miniforge3/envs/tf/lib/python3.10/site-packages/gensim/models/word2vec.py:1969\u001b[0m, in \u001b[0;36mWord2Vec._load_specials\u001b[0;34m(self, *args, **kwargs)\u001b[0m\n\u001b[1;32m   1967\u001b[0m \u001b[39mdef\u001b[39;00m \u001b[39m_load_specials\u001b[39m(\u001b[39mself\u001b[39m, \u001b[39m*\u001b[39margs, \u001b[39m*\u001b[39m\u001b[39m*\u001b[39mkwargs):\n\u001b[1;32m   1968\u001b[0m \u001b[39m    \u001b[39m\u001b[39m\"\"\"Handle special requirements of `.load()` protocol, usually up-converting older versions.\"\"\"\u001b[39;00m\n\u001b[0;32m-> 1969\u001b[0m     \u001b[39msuper\u001b[39;49m(Word2Vec, \u001b[39mself\u001b[39;49m)\u001b[39m.\u001b[39;49m_load_specials(\u001b[39m*\u001b[39;49margs, \u001b[39m*\u001b[39;49m\u001b[39m*\u001b[39;49mkwargs)\n\u001b[1;32m   1970\u001b[0m     \u001b[39m# for backward compatibility, add/rearrange properties from prior versions\u001b[39;00m\n\u001b[1;32m   1971\u001b[0m     \u001b[39mif\u001b[39;00m \u001b[39mnot\u001b[39;00m \u001b[39mhasattr\u001b[39m(\u001b[39mself\u001b[39m, \u001b[39m'\u001b[39m\u001b[39mns_exponent\u001b[39m\u001b[39m'\u001b[39m):\n",
      "File \u001b[0;32m~/miniforge3/envs/tf/lib/python3.10/site-packages/gensim/utils.py:518\u001b[0m, in \u001b[0;36mSaveLoad._load_specials\u001b[0;34m(self, fname, mmap, compress, subname)\u001b[0m\n\u001b[1;32m    516\u001b[0m     logger\u001b[39m.\u001b[39minfo(\u001b[39m\"\u001b[39m\u001b[39mloading \u001b[39m\u001b[39m%s\u001b[39;00m\u001b[39m recursively from \u001b[39m\u001b[39m%s\u001b[39;00m\u001b[39m.* with mmap=\u001b[39m\u001b[39m%s\u001b[39;00m\u001b[39m\"\u001b[39m, attrib, cfname, mmap)\n\u001b[1;32m    517\u001b[0m     \u001b[39mwith\u001b[39;00m ignore_deprecation_warning():\n\u001b[0;32m--> 518\u001b[0m         \u001b[39mgetattr\u001b[39;49m(\u001b[39mself\u001b[39;49m, attrib)\u001b[39m.\u001b[39;49m_load_specials(cfname, mmap, compress, subname)\n\u001b[1;32m    520\u001b[0m \u001b[39mfor\u001b[39;00m attrib \u001b[39min\u001b[39;00m \u001b[39mgetattr\u001b[39m(\u001b[39mself\u001b[39m, \u001b[39m'\u001b[39m\u001b[39m__numpys\u001b[39m\u001b[39m'\u001b[39m, []):\n\u001b[1;32m    521\u001b[0m     logger\u001b[39m.\u001b[39minfo(\u001b[39m\"\u001b[39m\u001b[39mloading \u001b[39m\u001b[39m%s\u001b[39;00m\u001b[39m from \u001b[39m\u001b[39m%s\u001b[39;00m\u001b[39m with mmap=\u001b[39m\u001b[39m%s\u001b[39;00m\u001b[39m\"\u001b[39m, attrib, subname(fname, attrib), mmap)\n",
      "File \u001b[0;32m~/miniforge3/envs/tf/lib/python3.10/site-packages/gensim/models/keyedvectors.py:263\u001b[0m, in \u001b[0;36mKeyedVectors._load_specials\u001b[0;34m(self, *args, **kwargs)\u001b[0m\n\u001b[1;32m    261\u001b[0m \u001b[39mdef\u001b[39;00m \u001b[39m_load_specials\u001b[39m(\u001b[39mself\u001b[39m, \u001b[39m*\u001b[39margs, \u001b[39m*\u001b[39m\u001b[39m*\u001b[39mkwargs):\n\u001b[1;32m    262\u001b[0m \u001b[39m    \u001b[39m\u001b[39m\"\"\"Handle special requirements of `.load()` protocol, usually up-converting older versions.\"\"\"\u001b[39;00m\n\u001b[0;32m--> 263\u001b[0m     \u001b[39msuper\u001b[39;49m(KeyedVectors, \u001b[39mself\u001b[39;49m)\u001b[39m.\u001b[39;49m_load_specials(\u001b[39m*\u001b[39;49margs, \u001b[39m*\u001b[39;49m\u001b[39m*\u001b[39;49mkwargs)\n\u001b[1;32m    264\u001b[0m     \u001b[39mif\u001b[39;00m \u001b[39mhasattr\u001b[39m(\u001b[39mself\u001b[39m, \u001b[39m'\u001b[39m\u001b[39mdoctags\u001b[39m\u001b[39m'\u001b[39m):\n\u001b[1;32m    265\u001b[0m         \u001b[39mself\u001b[39m\u001b[39m.\u001b[39m_upconvert_old_d2vkv()\n",
      "File \u001b[0;32m~/miniforge3/envs/tf/lib/python3.10/site-packages/gensim/utils.py:529\u001b[0m, in \u001b[0;36mSaveLoad._load_specials\u001b[0;34m(self, fname, mmap, compress, subname)\u001b[0m\n\u001b[1;32m    527\u001b[0m     val \u001b[39m=\u001b[39m np\u001b[39m.\u001b[39mload(subname(fname, attrib))[\u001b[39m'\u001b[39m\u001b[39mval\u001b[39m\u001b[39m'\u001b[39m]\n\u001b[1;32m    528\u001b[0m \u001b[39melse\u001b[39;00m:\n\u001b[0;32m--> 529\u001b[0m     val \u001b[39m=\u001b[39m np\u001b[39m.\u001b[39;49mload(subname(fname, attrib), mmap_mode\u001b[39m=\u001b[39;49mmmap)\n\u001b[1;32m    531\u001b[0m \u001b[39mwith\u001b[39;00m ignore_deprecation_warning():\n\u001b[1;32m    532\u001b[0m     \u001b[39msetattr\u001b[39m(\u001b[39mself\u001b[39m, attrib, val)\n",
      "File \u001b[0;32m~/miniforge3/envs/tf/lib/python3.10/site-packages/numpy/lib/npyio.py:405\u001b[0m, in \u001b[0;36mload\u001b[0;34m(file, mmap_mode, allow_pickle, fix_imports, encoding, max_header_size)\u001b[0m\n\u001b[1;32m    403\u001b[0m     own_fid \u001b[39m=\u001b[39m \u001b[39mFalse\u001b[39;00m\n\u001b[1;32m    404\u001b[0m \u001b[39melse\u001b[39;00m:\n\u001b[0;32m--> 405\u001b[0m     fid \u001b[39m=\u001b[39m stack\u001b[39m.\u001b[39menter_context(\u001b[39mopen\u001b[39;49m(os_fspath(file), \u001b[39m\"\u001b[39;49m\u001b[39mrb\u001b[39;49m\u001b[39m\"\u001b[39;49m))\n\u001b[1;32m    406\u001b[0m     own_fid \u001b[39m=\u001b[39m \u001b[39mTrue\u001b[39;00m\n\u001b[1;32m    408\u001b[0m \u001b[39m# Code to distinguish from NumPy binary files and pickles.\u001b[39;00m\n",
      "\u001b[0;31mFileNotFoundError\u001b[0m: [Errno 2] No such file or directory: './Data/wiki.model.wv.vectors.npy'"
     ]
    }
   ],
   "source": [
    "model = word2vec.Word2Vec.load('./Data/wiki.model')"
   ]
  },
  {
   "cell_type": "code",
   "execution_count": 6,
   "metadata": {},
   "outputs": [
    {
     "data": {
      "text/plain": [
       "[('자바스크립트', 0.8779734373092651),\n",
       " ('스크립트', 0.8513554334640503),\n",
       " ('닷넷', 0.8261915445327759),\n",
       " ('컴파일러', 0.8172716498374939),\n",
       " ('어셈블러', 0.8095035552978516),\n",
       " ('디버거', 0.8008877038955688),\n",
       " ('프레임워크', 0.7899021506309509),\n",
       " ('인터프리터', 0.7882699966430664),\n",
       " ('Qt', 0.7875623106956482),\n",
       " ('리스프', 0.7857785820960999)]"
      ]
     },
     "execution_count": 6,
     "metadata": {},
     "output_type": "execute_result"
    }
   ],
   "source": [
    "model.wv.most_similar(positive=['자바','파이썬'])"
   ]
  },
  {
   "cell_type": "code",
   "execution_count": 5,
   "metadata": {},
   "outputs": [
    {
     "data": {
      "text/plain": [
       "[('엄마', 0.8462279438972473),\n",
       " ('아저씨', 0.7252374291419983),\n",
       " ('어디가', 0.7142529487609863),\n",
       " ('친구', 0.6992855072021484),\n",
       " ('할머니', 0.6751475930213928),\n",
       " ('선생님', 0.6663439273834229),\n",
       " ('옆집', 0.6654834747314453),\n",
       " ('친엄마', 0.6600502133369446),\n",
       " ('언니', 0.6594809293746948),\n",
       " ('바람둥이', 0.6557226777076721)]"
      ]
     },
     "execution_count": 5,
     "metadata": {},
     "output_type": "execute_result"
    }
   ],
   "source": [
    "model.wv.most_similar(positive=['아빠','여성'],negative=['남성'])"
   ]
  },
  {
   "cell_type": "code",
   "execution_count": 24,
   "metadata": {},
   "outputs": [
    {
     "data": {
      "text/plain": [
       "[('떡볶이', 0.7451527118682861),\n",
       " ('설렁탕', 0.7223508954048157),\n",
       " ('찜닭', 0.6955190896987915),\n",
       " ('족발', 0.6825376749038696),\n",
       " ('막걸리', 0.6786674857139587),\n",
       " ('불고기', 0.6770944595336914),\n",
       " ('해장국', 0.6752107739448547),\n",
       " ('롯데리아', 0.6746651530265808),\n",
       " ('통닭', 0.6711015105247498),\n",
       " ('한식당', 0.6702317595481873)]"
      ]
     },
     "execution_count": 24,
     "metadata": {},
     "output_type": "execute_result"
    }
   ],
   "source": [
    "model.wv.most_similar(positive=['강남',])"
   ]
  },
  {
   "cell_type": "code",
   "execution_count": null,
   "metadata": {},
   "outputs": [],
   "source": []
  }
 ],
 "metadata": {
  "kernelspec": {
   "display_name": "tensorflow_env",
   "language": "python",
   "name": "python3"
  },
  "language_info": {
   "codemirror_mode": {
    "name": "ipython",
    "version": 3
   },
   "file_extension": ".py",
   "mimetype": "text/x-python",
   "name": "python",
   "nbconvert_exporter": "python",
   "pygments_lexer": "ipython3",
   "version": "3.10.4"
  },
  "orig_nbformat": 4
 },
 "nbformat": 4,
 "nbformat_minor": 2
}

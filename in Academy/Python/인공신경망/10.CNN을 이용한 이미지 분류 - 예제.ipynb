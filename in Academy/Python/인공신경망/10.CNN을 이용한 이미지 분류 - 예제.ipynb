{
 "cells": [
  {
   "attachments": {},
   "cell_type": "markdown",
   "metadata": {},
   "source": [
    "### 과일 데이터를 CNN으로 image 분류 하기"
   ]
  },
  {
   "cell_type": "code",
   "execution_count": 1,
   "metadata": {},
   "outputs": [],
   "source": [
    "import numpy as np"
   ]
  },
  {
   "cell_type": "code",
   "execution_count": 2,
   "metadata": {},
   "outputs": [],
   "source": [
    "fruits = np.load('./Data/fruits.npy')"
   ]
  },
  {
   "cell_type": "code",
   "execution_count": 3,
   "metadata": {},
   "outputs": [
    {
     "data": {
      "text/plain": [
       "(300, 100, 100)"
      ]
     },
     "execution_count": 3,
     "metadata": {},
     "output_type": "execute_result"
    }
   ],
   "source": [
    "fruits.shape"
   ]
  },
  {
   "cell_type": "code",
   "execution_count": 7,
   "metadata": {},
   "outputs": [
    {
     "data": {
      "text/plain": [
       "<matplotlib.image.AxesImage at 0x150b3a950>"
      ]
     },
     "execution_count": 7,
     "metadata": {},
     "output_type": "execute_result"
    },
    {
     "data": {
      "image/png": "[encoded data removed]",
      "text/plain": [
       "<Figure size 640x480 with 1 Axes>"
      ]
     },
     "metadata": {},
     "output_type": "display_data"
    }
   ],
   "source": [
    "import matplotlib.pyplot as plt\n",
    "\n",
    "plt.imshow(\n",
    "    fruits[200],\n",
    "    cmap='gray_r'\n",
    ")"
   ]
  },
  {
   "attachments": {},
   "cell_type": "markdown",
   "metadata": {},
   "source": [
    "### Target 만들기"
   ]
  },
  {
   "cell_type": "code",
   "execution_count": 8,
   "metadata": {},
   "outputs": [],
   "source": [
    "# 0 : apple , 1 : pineapple , 2: banana\n",
    "target = np.concatenate([np.zeros(100),np.ones(100),np.full(100,2)])"
   ]
  },
  {
   "attachments": {},
   "cell_type": "markdown",
   "metadata": {},
   "source": [
    "### CNN 적용해서 심층신경망 만들기"
   ]
  },
  {
   "cell_type": "code",
   "execution_count": 10,
   "metadata": {},
   "outputs": [],
   "source": [
    "from tensorflow import keras\n",
    "from sklearn.model_selection import train_test_split"
   ]
  },
  {
   "cell_type": "code",
   "execution_count": 13,
   "metadata": {},
   "outputs": [
    {
     "data": {
      "text/plain": [
       "255"
      ]
     },
     "execution_count": 13,
     "metadata": {},
     "output_type": "execute_result"
    }
   ],
   "source": [
    "max = 0\n",
    "for i in range(300):\n",
    "    max_temp = fruits[i].max() \n",
    "    if max_temp > max:\n",
    "        max = max_temp\n",
    "\n",
    "max"
   ]
  },
  {
   "cell_type": "code",
   "execution_count": 14,
   "metadata": {},
   "outputs": [
    {
     "data": {
      "text/plain": [
       "0"
      ]
     },
     "execution_count": 14,
     "metadata": {},
     "output_type": "execute_result"
    }
   ],
   "source": [
    "min = 0\n",
    "for i in range(300):\n",
    "    min_temp = fruits[i].min() \n",
    "    if min_temp < min:\n",
    "        min = min_temp\n",
    "\n",
    "min"
   ]
  },
  {
   "cell_type": "code",
   "execution_count": 15,
   "metadata": {},
   "outputs": [],
   "source": [
    "# scale 하기\n",
    "fruits_scaled = fruits.reshape(-1,100,100,1) / 255.0"
   ]
  },
  {
   "cell_type": "code",
   "execution_count": 42,
   "metadata": {},
   "outputs": [],
   "source": [
    "# test train 나누기\n",
    "train_scaled , test_scaled , train_target , test_target = \\\n",
    "    train_test_split(fruits_scaled,target,test_size=0.2)"
   ]
  },
  {
   "cell_type": "code",
   "execution_count": 43,
   "metadata": {},
   "outputs": [],
   "source": [
    "# train val 나누기\n",
    "train_scaled , val_scaled , train_target , val_target = \\\n",
    "    train_test_split(train_scaled,train_target,test_size=0.2)"
   ]
  },
  {
   "cell_type": "code",
   "execution_count": 61,
   "metadata": {},
   "outputs": [
    {
     "name": "stdout",
     "output_type": "stream",
     "text": [
      "(192, 100, 100, 1)\n",
      "(48, 100, 100, 1)\n",
      "(60, 100, 100, 1)\n"
     ]
    }
   ],
   "source": [
    "print(train_scaled.shape)\n",
    "print(val_scaled.shape)\n",
    "print(test_scaled.shape)"
   ]
  },
  {
   "cell_type": "code",
   "execution_count": 68,
   "metadata": {},
   "outputs": [
    {
     "name": "stdout",
     "output_type": "stream",
     "text": [
      "Epoch 1/20\n",
      "6/6 [==============================] - 1s 106ms/step - loss: 0.8656 - accuracy: 0.5938 - val_loss: 0.3414 - val_accuracy: 0.9792\n",
      "Epoch 2/20\n",
      "6/6 [==============================] - 1s 97ms/step - loss: 0.2330 - accuracy: 0.9635 - val_loss: 0.0327 - val_accuracy: 1.0000\n",
      "Epoch 3/20\n",
      "6/6 [==============================] - 1s 106ms/step - loss: 0.0530 - accuracy: 0.9948 - val_loss: 0.0103 - val_accuracy: 1.0000\n",
      "Epoch 4/20\n",
      "6/6 [==============================] - 1s 100ms/step - loss: 0.0108 - accuracy: 1.0000 - val_loss: 1.7395e-04 - val_accuracy: 1.0000\n",
      "Epoch 5/20\n",
      "6/6 [==============================] - 1s 103ms/step - loss: 0.0045 - accuracy: 1.0000 - val_loss: 1.5135e-04 - val_accuracy: 1.0000\n",
      "Epoch 6/20\n",
      "6/6 [==============================] - 1s 110ms/step - loss: 0.0038 - accuracy: 1.0000 - val_loss: 8.1353e-05 - val_accuracy: 1.0000\n",
      "Epoch 7/20\n",
      "6/6 [==============================] - 1s 113ms/step - loss: 0.0010 - accuracy: 1.0000 - val_loss: 1.5498e-04 - val_accuracy: 1.0000\n",
      "Epoch 8/20\n",
      "6/6 [==============================] - 1s 105ms/step - loss: 9.1351e-04 - accuracy: 1.0000 - val_loss: 9.9748e-05 - val_accuracy: 1.0000\n"
     ]
    }
   ],
   "source": [
    "# 딥러닝 모델 만들기\n",
    "model = keras.Sequential()\n",
    "\n",
    "# 합성곱 층 (CNN)\n",
    "model.add(keras.layers.Conv2D(\n",
    "    32,\n",
    "    kernel_size = 3,\n",
    "    activation = 'relu',\n",
    "    padding = 'same',\n",
    "    input_shape = (100,100,1)\n",
    "))\n",
    "\n",
    "# pooling\n",
    "model.add(keras.layers.MaxPooling2D(\n",
    "    2\n",
    "))\n",
    "\n",
    "model.add(keras.layers.Conv2D(\n",
    "    64,\n",
    "    kernel_size=3,\n",
    "    activation='relu',\n",
    "    padding='same'\n",
    "))\n",
    "\n",
    "model.add(keras.layers.MaxPooling2D(\n",
    "    2\n",
    "))\n",
    "\n",
    "model.add(keras.layers.Flatten())\n",
    "model.add(keras.layers.Dense(100,activation='relu'))\n",
    "model.add(keras.layers.Dropout(0.4))\n",
    "model.add(keras.layers.Dense(3,activation='softmax'))\n",
    "\n",
    "model.compile(optimizer='adam',loss='sparse_categorical_crossentropy',metrics='accuracy')\n",
    "\n",
    "checkpoint_cb = keras.callbacks.ModelCheckpoint('./Data/best-cnn-model.h5')\n",
    "early_stopping_cb = keras.callbacks.EarlyStopping(patience=2,restore_best_weights=True)\n",
    "\n",
    "hist = model.fit(train_scaled,\n",
    "                 train_target,\n",
    "                 epochs=20,\n",
    "                 validation_data = (val_scaled,val_target),\n",
    "                 callbacks=[checkpoint_cb,early_stopping_cb]\n",
    "                 )"
   ]
  },
  {
   "cell_type": "code",
   "execution_count": 75,
   "metadata": {},
   "outputs": [
    {
     "name": "stdout",
     "output_type": "stream",
     "text": [
      "Model: \"sequential_18\"\n",
      "_________________________________________________________________\n",
      " Layer (type)                Output Shape              Param #   \n",
      "=================================================================\n",
      " conv2d_28 (Conv2D)          (None, 100, 100, 32)      320       \n",
      "                                                                 \n",
      " max_pooling2d_25 (MaxPoolin  (None, 50, 50, 32)       0         \n",
      " g2D)                                                            \n",
      "                                                                 \n",
      " conv2d_29 (Conv2D)          (None, 50, 50, 64)        18496     \n",
      "                                                                 \n",
      " max_pooling2d_26 (MaxPoolin  (None, 25, 25, 64)       0         \n",
      " g2D)                                                            \n",
      "                                                                 \n",
      " flatten_12 (Flatten)        (None, 40000)             0         \n",
      "                                                                 \n",
      " dense_24 (Dense)            (None, 100)               4000100   \n",
      "                                                                 \n",
      " dropout_12 (Dropout)        (None, 100)               0         \n",
      "                                                                 \n",
      " dense_25 (Dense)            (None, 3)                 303       \n",
      "                                                                 \n",
      "=================================================================\n",
      "Total params: 4,019,219\n",
      "Trainable params: 4,019,219\n",
      "Non-trainable params: 0\n",
      "_________________________________________________________________\n"
     ]
    }
   ],
   "source": [
    "model.summary()"
   ]
  },
  {
   "cell_type": "code",
   "execution_count": 64,
   "metadata": {},
   "outputs": [
    {
     "data": {
      "image/png": "[encoded data removed]",
      "text/plain": [
       "<Figure size 640x480 with 1 Axes>"
      ]
     },
     "metadata": {},
     "output_type": "display_data"
    }
   ],
   "source": [
    "plt.plot(\n",
    "    hist.history['loss'],\n",
    "    label = 'loss'\n",
    ")\n",
    "\n",
    "plt.plot(\n",
    "    hist.history['val_loss'],\n",
    "    label = 'val_loss'\n",
    ")\n",
    "\n",
    "plt.legend()\n",
    "\n",
    "plt.show()"
   ]
  },
  {
   "cell_type": "code",
   "execution_count": 65,
   "metadata": {},
   "outputs": [
    {
     "data": {
      "image/png": "[encoded data removed]",
      "text/plain": [
       "<Figure size 640x480 with 1 Axes>"
      ]
     },
     "metadata": {},
     "output_type": "display_data"
    }
   ],
   "source": [
    "plt.plot(\n",
    "    hist.history['accuracy'],\n",
    "    label = 'accuracy'\n",
    ")\n",
    "\n",
    "plt.plot(\n",
    "    hist.history['val_accuracy'],\n",
    "    label = 'val_accuracy'\n",
    ")\n",
    "\n",
    "plt.legend()\n",
    "\n",
    "plt.show()"
   ]
  },
  {
   "cell_type": "code",
   "execution_count": 52,
   "metadata": {},
   "outputs": [
    {
     "name": "stdout",
     "output_type": "stream",
     "text": [
      "2/2 [==============================] - 0s 13ms/step - loss: 3.7923e-06 - accuracy: 1.0000\n"
     ]
    },
    {
     "data": {
      "text/plain": [
       "[3.7923080071777804e-06, 1.0]"
      ]
     },
     "execution_count": 52,
     "metadata": {},
     "output_type": "execute_result"
    }
   ],
   "source": [
    "model.evaluate(val_scaled,val_target)"
   ]
  },
  {
   "attachments": {},
   "cell_type": "markdown",
   "metadata": {},
   "source": [
    "### test로 일반화 시키기"
   ]
  },
  {
   "cell_type": "code",
   "execution_count": 53,
   "metadata": {},
   "outputs": [
    {
     "name": "stdout",
     "output_type": "stream",
     "text": [
      "2/2 [==============================] - 0s 35ms/step - loss: 1.1668e-04 - accuracy: 1.0000\n"
     ]
    },
    {
     "data": {
      "text/plain": [
       "[0.00011668229853967205, 1.0]"
      ]
     },
     "execution_count": 53,
     "metadata": {},
     "output_type": "execute_result"
    }
   ],
   "source": [
    "model.evaluate(test_scaled,test_target)"
   ]
  },
  {
   "cell_type": "code",
   "execution_count": 95,
   "metadata": {},
   "outputs": [
    {
     "name": "stdout",
     "output_type": "stream",
     "text": [
      "1/1 [==============================] - 0s 11ms/step\n"
     ]
    },
    {
     "data": {
      "text/plain": [
       "'banana'"
      ]
     },
     "execution_count": 95,
     "metadata": {},
     "output_type": "execute_result"
    },
    {
     "data": {
      "image/png": "[encoded data removed]",
      "text/plain": [
       "<Figure size 640x480 with 1 Axes>"
      ]
     },
     "metadata": {},
     "output_type": "display_data"
    }
   ],
   "source": [
    "plt.imshow(\n",
    "    test_scaled[25].reshape(100,100),\n",
    "    # cmap='gray'\n",
    ")\n",
    "\n",
    "classes = ['apple','pineapple','banana']\n",
    "classes[np.argmax(model.predict(test_scaled[25:26]))]"
   ]
  },
  {
   "attachments": {},
   "cell_type": "markdown",
   "metadata": {},
   "source": [
    "### 번외 : 가중치 확인해보기"
   ]
  },
  {
   "cell_type": "code",
   "execution_count": 98,
   "metadata": {},
   "outputs": [
    {
     "data": {
      "text/plain": [
       "[<tf.Variable 'conv2d_28/kernel:0' shape=(3, 3, 1, 32) dtype=float32, numpy=\n",
       " array([[[[ 0.06068888, -0.04852466, -0.08711131, -0.11361974,\n",
       "           -0.07585882, -0.03708557,  0.0218362 ,  0.09980817,\n",
       "           -0.1355619 , -0.08647351,  0.10287116, -0.09371464,\n",
       "            0.07382803, -0.06072512,  0.11882512, -0.03563103,\n",
       "            0.11001304,  0.13457483,  0.10676324,  0.05211272,\n",
       "           -0.10032097,  0.09291691, -0.0632467 ,  0.00205522,\n",
       "           -0.03357676,  0.09050371,  0.10514264,  0.02536444,\n",
       "           -0.04361123,  0.11921982, -0.04231326, -0.13407622]],\n",
       " \n",
       "         [[ 0.03741041, -0.05105326, -0.03372309,  0.13089651,\n",
       "            0.11535311,  0.12311261,  0.07433609, -0.03140767,\n",
       "           -0.04165355, -0.01693072,  0.09090696,  0.08564716,\n",
       "           -0.07033001,  0.14246525, -0.05489395,  0.02948296,\n",
       "            0.00388193, -0.12039252, -0.1051781 , -0.10918123,\n",
       "           -0.08075228, -0.074604  ,  0.01425329, -0.09461635,\n",
       "           -0.09364171, -0.00398345, -0.03768277,  0.12957567,\n",
       "           -0.04238912, -0.01795882,  0.0575816 , -0.04759995]],\n",
       " \n",
       "         [[-0.04049964, -0.0559252 , -0.05817128, -0.08054782,\n",
       "            0.12633504, -0.00078907,  0.04849296,  0.11560168,\n",
       "           -0.11382   ,  0.11668587, -0.05460299,  0.07375342,\n",
       "           -0.05843441, -0.11792705,  0.00384526,  0.06271945,\n",
       "            0.0157222 , -0.11840969, -0.07556663,  0.11175054,\n",
       "            0.09190542, -0.01355473, -0.09177871,  0.09239408,\n",
       "            0.06568705,  0.08100019,  0.0243125 , -0.0658078 ,\n",
       "           -0.00811898,  0.14802736, -0.11089156,  0.11694058]]],\n",
       " \n",
       " \n",
       "        [[[ 0.00957593, -0.04043359, -0.02713734, -0.0823365 ,\n",
       "           -0.05122968, -0.05686648,  0.12295402,  0.05326359,\n",
       "           -0.07380985,  0.11216933,  0.05706837, -0.06807204,\n",
       "           -0.02716156,  0.07646605, -0.1303699 ,  0.07356194,\n",
       "            0.0714874 ,  0.05374507, -0.12853597, -0.08220734,\n",
       "           -0.05754133,  0.08665979,  0.03096239,  0.01788658,\n",
       "            0.00840547, -0.08474416,  0.12990361, -0.10350526,\n",
       "           -0.00343855, -0.10667199,  0.11589032,  0.03902914]],\n",
       " \n",
       "         [[-0.05675811,  0.03402157,  0.07644449, -0.04063885,\n",
       "            0.10428426,  0.07078219, -0.08579918,  0.06913043,\n",
       "            0.0157788 , -0.04142753, -0.12878515, -0.15202102,\n",
       "            0.14429745,  0.0884275 , -0.00758165,  0.06832092,\n",
       "           -0.03944833, -0.07671297,  0.12410787, -0.01024883,\n",
       "           -0.02921371,  0.00030864, -0.01138446, -0.13225837,\n",
       "            0.01234671,  0.09508728,  0.0027218 ,  0.08888614,\n",
       "            0.05393202,  0.02856565,  0.14093335, -0.00359242]],\n",
       " \n",
       "         [[ 0.03833801,  0.03084559,  0.08921105,  0.10293484,\n",
       "           -0.03985465, -0.10098748,  0.04328995, -0.07416195,\n",
       "            0.07438903,  0.00755412, -0.0891247 , -0.0284199 ,\n",
       "           -0.10195196, -0.03120133, -0.14244877, -0.07265726,\n",
       "            0.00319673, -0.0882651 ,  0.11948293, -0.0645477 ,\n",
       "           -0.09833994, -0.0060585 , -0.1207546 , -0.11955459,\n",
       "            0.00162732,  0.03978301,  0.00607331, -0.11556699,\n",
       "            0.01442154, -0.03237842, -0.05291335,  0.01250245]]],\n",
       " \n",
       " \n",
       "        [[[ 0.00323118,  0.05733021,  0.1485766 , -0.06702814,\n",
       "           -0.11170495, -0.11310658, -0.03659567,  0.00869822,\n",
       "           -0.03624274, -0.05375358,  0.02361242, -0.12234826,\n",
       "           -0.04561542, -0.04814449,  0.11402579,  0.11487429,\n",
       "           -0.01674089,  0.02308379,  0.1339796 , -0.00291132,\n",
       "            0.1293073 , -0.0662558 ,  0.07995265, -0.05745463,\n",
       "            0.06535838, -0.06433635,  0.11795735, -0.04436787,\n",
       "            0.02956606, -0.07163813, -0.13121204,  0.04698741]],\n",
       " \n",
       "         [[-0.13085158,  0.00624979,  0.14955325, -0.00052756,\n",
       "            0.03070134, -0.11376174, -0.08743196, -0.13523564,\n",
       "            0.01035794, -0.11502241,  0.06752681,  0.04854384,\n",
       "           -0.08980328, -0.07824157,  0.07608217,  0.03882644,\n",
       "           -0.03481273,  0.15166497,  0.02997814, -0.13903917,\n",
       "           -0.0215585 ,  0.08360513, -0.00087253, -0.07492677,\n",
       "           -0.05061743,  0.05330972,  0.126286  , -0.06316847,\n",
       "           -0.11984774, -0.109775  , -0.07203773,  0.07555392]],\n",
       " \n",
       "         [[ 0.04859861, -0.02256808,  0.09068342,  0.12240686,\n",
       "            0.10767664, -0.13036045, -0.11446616, -0.03938815,\n",
       "           -0.12079439,  0.01928715, -0.05928498, -0.14259222,\n",
       "            0.02108304,  0.12455414,  0.03006741,  0.06548712,\n",
       "            0.02001983, -0.02031135,  0.1400859 ,  0.14308177,\n",
       "            0.13267368,  0.00742054,  0.09736747, -0.00872492,\n",
       "            0.01218214,  0.08283433,  0.14383005,  0.10965952,\n",
       "            0.06881187, -0.05264364,  0.10700002,  0.08445208]]]],\n",
       "       dtype=float32)>,\n",
       " <tf.Variable 'conv2d_28/bias:0' shape=(32,) dtype=float32, numpy=\n",
       " array([ 4.06216690e-03,  1.55231012e-02, -1.10326391e-02,  1.23236887e-02,\n",
       "         3.28162638e-03, -3.00313812e-03,  6.97605219e-03, -1.44911080e-03,\n",
       "         4.06534504e-03,  1.13655496e-02,  3.27295711e-05,  2.17859924e-04,\n",
       "         1.54989995e-02, -7.48163275e-03,  1.06435185e-02, -1.30524719e-02,\n",
       "         8.28214642e-03,  1.76327657e-02, -6.46722596e-03,  1.88683458e-02,\n",
       "         5.38592041e-03, -4.60838154e-03,  1.79128852e-02, -1.17123323e-02,\n",
       "         4.69313469e-03, -7.11203227e-03, -1.14476178e-02,  1.26135657e-02,\n",
       "         1.49631193e-02,  1.51935974e-02,  7.32532516e-03, -7.70973321e-03],\n",
       "       dtype=float32)>,\n",
       " <tf.Variable 'conv2d_29/kernel:0' shape=(3, 3, 32, 64) dtype=float32, numpy=\n",
       " array([[[[-0.00187295,  0.06136039,  0.0275677 , ..., -0.02327412,\n",
       "            0.00564952, -0.06625897],\n",
       "          [ 0.02036042,  0.06246183, -0.03638869, ...,  0.05631584,\n",
       "           -0.04043591, -0.04278632],\n",
       "          [-0.08145992,  0.03097313,  0.01595276, ...,  0.02836604,\n",
       "           -0.05586876,  0.035223  ],\n",
       "          ...,\n",
       "          [ 0.02188025,  0.03986469, -0.01906381, ...,  0.02217317,\n",
       "            0.08433474,  0.05029767],\n",
       "          [ 0.0571904 , -0.05772702, -0.06846068, ...,  0.05140139,\n",
       "           -0.00407981,  0.02159217],\n",
       "          [-0.03448633, -0.05241917, -0.00509195, ..., -0.00161174,\n",
       "            0.03918238,  0.07906861]],\n",
       " \n",
       "         [[-0.07133333, -0.02450714,  0.07698502, ...,  0.07286052,\n",
       "           -0.06842017, -0.01502131],\n",
       "          [-0.0388286 , -0.03175947, -0.04206809, ...,  0.0141991 ,\n",
       "           -0.06927144, -0.02889485],\n",
       "          [-0.05239597,  0.0586088 , -0.01051995, ..., -0.02030853,\n",
       "           -0.00779713,  0.00167743],\n",
       "          ...,\n",
       "          [ 0.01748071,  0.04293213,  0.04484385, ...,  0.05019634,\n",
       "            0.04082553, -0.00939174],\n",
       "          [-0.08130004,  0.02848099, -0.05130807, ...,  0.01155414,\n",
       "            0.08476599, -0.05548669],\n",
       "          [-0.02027035,  0.06076716,  0.05039886, ...,  0.02927298,\n",
       "            0.00992066, -0.0427663 ]],\n",
       " \n",
       "         [[ 0.01748003, -0.07507638,  0.03136338, ..., -0.04831493,\n",
       "            0.00113706,  0.05371133],\n",
       "          [-0.03079149, -0.06038309, -0.06795063, ..., -0.06204228,\n",
       "            0.07598296,  0.08292776],\n",
       "          [-0.03035914, -0.01610476, -0.07534344, ..., -0.05967731,\n",
       "           -0.08500302,  0.01159579],\n",
       "          ...,\n",
       "          [ 0.01974196,  0.03281317,  0.04221753, ...,  0.05943272,\n",
       "           -0.04288634,  0.04697436],\n",
       "          [-0.00893415, -0.01964992,  0.02292574, ...,  0.08202536,\n",
       "           -0.00312944,  0.03929296],\n",
       "          [ 0.06597597, -0.00325305, -0.06107048, ...,  0.04520741,\n",
       "           -0.03426741,  0.07684813]]],\n",
       " \n",
       " \n",
       "        [[[ 0.04388494,  0.02937074, -0.03961975, ...,  0.02372448,\n",
       "           -0.03499539, -0.04254185],\n",
       "          [ 0.09640688, -0.01754327,  0.00219239, ...,  0.00100225,\n",
       "            0.07091647,  0.08262308],\n",
       "          [ 0.06672326, -0.01025856,  0.07905018, ...,  0.02534482,\n",
       "            0.07867992,  0.04891736],\n",
       "          ...,\n",
       "          [-0.04727878, -0.06996828,  0.08731383, ...,  0.01998796,\n",
       "            0.08453942, -0.04780123],\n",
       "          [ 0.04431471, -0.00976198,  0.07991618, ..., -0.02377835,\n",
       "            0.0709124 , -0.06962716],\n",
       "          [-0.06683169, -0.02045972,  0.05351057, ...,  0.0812956 ,\n",
       "           -0.05907227, -0.0818169 ]],\n",
       " \n",
       "         [[-0.01229319, -0.03992353,  0.09278646, ...,  0.07194673,\n",
       "           -0.01961229, -0.03718459],\n",
       "          [-0.06659362,  0.04716932,  0.03356642, ...,  0.05086632,\n",
       "            0.06858078,  0.08183789],\n",
       "          [-0.05002581,  0.03218561, -0.06133024, ...,  0.0108136 ,\n",
       "           -0.02550907,  0.06815207],\n",
       "          ...,\n",
       "          [-0.03375958,  0.04996024,  0.04758002, ...,  0.07206405,\n",
       "            0.06497987,  0.02582621],\n",
       "          [ 0.04086843, -0.00277129,  0.03648622, ...,  0.00858945,\n",
       "           -0.03796079,  0.02261302],\n",
       "          [-0.00404627, -0.03767237,  0.03579745, ...,  0.07828993,\n",
       "            0.00715317, -0.04081894]],\n",
       " \n",
       "         [[-0.02134762,  0.06402557, -0.05156722, ..., -0.01597075,\n",
       "            0.04252947,  0.08667311],\n",
       "          [ 0.06287488, -0.06093863, -0.05075984, ...,  0.05471966,\n",
       "           -0.04914084, -0.04625087],\n",
       "          [-0.07954578,  0.0471339 ,  0.0678793 , ..., -0.04162637,\n",
       "           -0.04240346, -0.0120229 ],\n",
       "          ...,\n",
       "          [ 0.0965008 , -0.00719464,  0.07618991, ..., -0.03567464,\n",
       "           -0.05567517,  0.06911999],\n",
       "          [ 0.01200651, -0.03694616, -0.05672979, ...,  0.06286015,\n",
       "           -0.01602746,  0.03499856],\n",
       "          [-0.03865772, -0.02982741,  0.02418114, ...,  0.06111985,\n",
       "           -0.01411384, -0.05535139]]],\n",
       " \n",
       " \n",
       "        [[[-0.05689922, -0.06203295,  0.03404675, ...,  0.03093309,\n",
       "           -0.03696385,  0.08757389],\n",
       "          [ 0.09927873, -0.02125427,  0.0312913 , ..., -0.01474387,\n",
       "           -0.06997049,  0.07290539],\n",
       "          [ 0.02799258, -0.02935158, -0.06766552, ..., -0.00711418,\n",
       "           -0.04986721, -0.00961859],\n",
       "          ...,\n",
       "          [ 0.06048733, -0.04465982,  0.0093909 , ...,  0.09500723,\n",
       "            0.09973014,  0.05847264],\n",
       "          [ 0.08177555, -0.02630824,  0.04620472, ..., -0.0148735 ,\n",
       "           -0.02680222, -0.00317684],\n",
       "          [ 0.0834695 , -0.00563852, -0.00662676, ..., -0.05020612,\n",
       "           -0.04797284, -0.03473369]],\n",
       " \n",
       "         [[ 0.09088742,  0.03301697, -0.06297344, ..., -0.00061812,\n",
       "            0.06800902,  0.06439331],\n",
       "          [ 0.01223042, -0.064789  ,  0.03732544, ...,  0.02755816,\n",
       "           -0.03007694,  0.00978982],\n",
       "          [-0.05300904, -0.00110785, -0.08618622, ..., -0.07600231,\n",
       "           -0.04134951, -0.06823523],\n",
       "          ...,\n",
       "          [ 0.00526687,  0.07809974, -0.06720475, ...,  0.02492501,\n",
       "            0.08032491, -0.0155815 ],\n",
       "          [-0.02886075, -0.07022577,  0.04269134, ..., -0.00277688,\n",
       "           -0.08184548, -0.00724916],\n",
       "          [-0.06740668,  0.05436008, -0.02709276, ...,  0.04729492,\n",
       "           -0.01929784,  0.06791231]],\n",
       " \n",
       "         [[ 0.01799772,  0.01929289,  0.0686763 , ..., -0.03767029,\n",
       "           -0.00201491,  0.06175161],\n",
       "          [ 0.00309578,  0.0685832 ,  0.0874363 , ...,  0.03112767,\n",
       "            0.09260764,  0.04198714],\n",
       "          [ 0.0093889 ,  0.00346571, -0.08355488, ..., -0.0808235 ,\n",
       "           -0.04162193, -0.07183027],\n",
       "          ...,\n",
       "          [ 0.05252618, -0.03124377,  0.09400812, ...,  0.05927391,\n",
       "            0.07053183, -0.0490334 ],\n",
       "          [ 0.06485577,  0.07051899,  0.02438231, ...,  0.04163753,\n",
       "            0.08137596, -0.04938802],\n",
       "          [ 0.04945192, -0.04498744, -0.08297018, ..., -0.07162206,\n",
       "            0.0192069 , -0.07797282]]]], dtype=float32)>,\n",
       " <tf.Variable 'conv2d_29/bias:0' shape=(64,) dtype=float32, numpy=\n",
       " array([ 0.00581785, -0.00953052,  0.0165879 , -0.00295319, -0.00689959,\n",
       "        -0.00508139, -0.00586668, -0.00865989, -0.00539986, -0.01158364,\n",
       "        -0.00198319, -0.00126844,  0.01077125,  0.01320506, -0.00306737,\n",
       "         0.00414284,  0.01234936,  0.01305613, -0.00809564, -0.00872735,\n",
       "        -0.01136045,  0.00133993, -0.01195084,  0.01257026,  0.00422499,\n",
       "         0.01456551,  0.01135211, -0.00662131, -0.00823112, -0.01095087,\n",
       "        -0.00880847, -0.00507162,  0.01642925,  0.01668463, -0.00574914,\n",
       "        -0.00499849,  0.01654255,  0.01212224, -0.00749852,  0.00944132,\n",
       "        -0.00305525,  0.01376479,  0.00223317,  0.00931433, -0.01236528,\n",
       "         0.01292397,  0.01445023, -0.00525771,  0.01263295, -0.00630409,\n",
       "         0.00941252,  0.01590554,  0.00146117, -0.00798979, -0.0078143 ,\n",
       "         0.01117805,  0.00340599, -0.00987033, -0.01132174, -0.00404022,\n",
       "         0.00891931,  0.00986311,  0.01320099, -0.0082175 ], dtype=float32)>,\n",
       " <tf.Variable 'dense_24/kernel:0' shape=(40000, 100) dtype=float32, numpy=\n",
       " array([[-0.01065618,  0.00688265,  0.01035993, ..., -0.00677635,\n",
       "          0.01087145,  0.00533102],\n",
       "        [ 0.00214405, -0.00731248, -0.00625218, ...,  0.00321275,\n",
       "         -0.00262725, -0.00182457],\n",
       "        [-0.00656235,  0.00996177,  0.00810474, ...,  0.01095128,\n",
       "         -0.00559413, -0.00643709],\n",
       "        ...,\n",
       "        [-0.00220519,  0.00716819, -0.0051097 , ..., -0.00858013,\n",
       "         -0.01364376, -0.00635863],\n",
       "        [-0.00996313,  0.00171976, -0.00162375, ...,  0.0082526 ,\n",
       "          0.00183201,  0.0016401 ],\n",
       "        [-0.00422532,  0.00444481,  0.00817469, ...,  0.00539771,\n",
       "          0.00159642, -0.00935854]], dtype=float32)>,\n",
       " <tf.Variable 'dense_24/bias:0' shape=(100,) dtype=float32, numpy=\n",
       " array([-0.00584917, -0.0049921 ,  0.00645649, -0.00584885, -0.00584943,\n",
       "        -0.00734241,  0.00584611, -0.00582959, -0.00584923, -0.00584836,\n",
       "        -0.00182106,  0.00459071, -0.00534425,  0.00136291, -0.00584891,\n",
       "         0.00991975,  0.01047341, -0.00236732,  0.00875551,  0.00895891,\n",
       "        -0.00584891, -0.00584867,  0.00513923, -0.00514861, -0.00584932,\n",
       "        -0.00584887, -0.00531847,  0.00744869,  0.00563916,  0.00044915,\n",
       "        -0.0060989 ,  0.00121937, -0.00584942,  0.00581816, -0.00584829,\n",
       "         0.00921291, -0.00584896, -0.00584722,  0.01272753, -0.00584969,\n",
       "        -0.00584655,  0.01049071,  0.01330929,  0.00047506,  0.00904895,\n",
       "         0.0092021 , -0.00720289,  0.01060954, -0.00940946,  0.00511996,\n",
       "        -0.00584699, -0.00826601, -0.0101982 , -0.0058424 , -0.01017228,\n",
       "        -0.00501522,  0.01219923, -0.01056388, -0.00584745, -0.00584684,\n",
       "        -0.00584887,  0.        , -0.00583735,  0.00951141,  0.0054492 ,\n",
       "         0.01105968,  0.0082097 , -0.00584446,  0.00663125,  0.01159449,\n",
       "        -0.00584742, -0.0058494 , -0.00500672, -0.00584627,  0.00690027,\n",
       "         0.00913419, -0.00168241, -0.00195031, -0.00584935, -0.00404879,\n",
       "        -0.00538439, -0.00584977, -0.00584901, -0.00584892, -0.00584937,\n",
       "         0.00835762,  0.01257161,  0.00909143, -0.00584847, -0.00584893,\n",
       "         0.01120766, -0.00749189, -0.005848  , -0.0058481 , -0.00754662,\n",
       "        -0.00856266,  0.00543889, -0.0026713 , -0.00584551,  0.00164426],\n",
       "       dtype=float32)>,\n",
       " <tf.Variable 'dense_25/kernel:0' shape=(100, 3) dtype=float32, numpy=\n",
       " array([[-0.18460527,  0.02138299, -0.22479697],\n",
       "        [ 0.14745477,  0.04712275,  0.07115176],\n",
       "        [-0.20204544, -0.04887292,  0.07054159],\n",
       "        [-0.11948498, -0.00195919, -0.16189328],\n",
       "        [-0.07687027,  0.19256097, -0.11848307],\n",
       "        [ 0.07067782,  0.10200892, -0.20358823],\n",
       "        [-0.18698873, -0.1965317 ,  0.07593029],\n",
       "        [ 0.21925087, -0.01043244,  0.10258859],\n",
       "        [ 0.04049212,  0.18098517, -0.09371565],\n",
       "        [-0.06976006,  0.06496841, -0.14670867],\n",
       "        [-0.03095802,  0.09926841,  0.0427092 ],\n",
       "        [ 0.10121655, -0.23787908, -0.00806839],\n",
       "        [ 0.22912233,  0.20626788,  0.01691134],\n",
       "        [ 0.06007895, -0.14580686, -0.07265765],\n",
       "        [-0.09105893,  0.07548942,  0.01813725],\n",
       "        [ 0.06695021,  0.07907576,  0.11362046],\n",
       "        [-0.01128912, -0.20722456,  0.11853079],\n",
       "        [-0.24608482,  0.08888017, -0.07201465],\n",
       "        [ 0.05656304, -0.00776297,  0.13737051],\n",
       "        [ 0.04093009, -0.026805  ,  0.15346389],\n",
       "        [ 0.00701504,  0.15918094,  0.00276705],\n",
       "        [-0.13251933,  0.13524348,  0.17260766],\n",
       "        [-0.14619397,  0.13747545,  0.2165329 ],\n",
       "        [-0.05561358, -0.1942038 , -0.1653922 ],\n",
       "        [-0.1221599 ,  0.2420951 ,  0.16688097],\n",
       "        [ 0.2298448 , -0.20945366, -0.13235576],\n",
       "        [ 0.12823161,  0.05421109, -0.03697146],\n",
       "        [ 0.08295588,  0.12957175,  0.15318076],\n",
       "        [-0.18427803,  0.18210597,  0.20629522],\n",
       "        [-0.17791726,  0.23184332,  0.13628016],\n",
       "        [ 0.19584033,  0.09385751,  0.01837415],\n",
       "        [ 0.04542429, -0.07478365,  0.20969899],\n",
       "        [-0.08708021,  0.12948982, -0.12988769],\n",
       "        [-0.10495435, -0.23737624, -0.16411275],\n",
       "        [-0.07202487,  0.02473035, -0.11327156],\n",
       "        [-0.06477295, -0.18215823, -0.02632648],\n",
       "        [-0.14786793,  0.16417791, -0.10448218],\n",
       "        [-0.05207113, -0.16156866, -0.18943535],\n",
       "        [ 0.07115583,  0.13150464,  0.20989724],\n",
       "        [-0.06910183,  0.11285519, -0.13890384],\n",
       "        [-0.23650022,  0.07642678, -0.11496416],\n",
       "        [-0.04999522,  0.01208222,  0.07302733],\n",
       "        [ 0.05152266,  0.08457773,  0.22442551],\n",
       "        [ 0.1886877 ,  0.00381716, -0.00802811],\n",
       "        [-0.04136281,  0.0612018 ,  0.07250924],\n",
       "        [ 0.02656008, -0.08928972,  0.21768792],\n",
       "        [ 0.01138108,  0.15015948, -0.07911532],\n",
       "        [-0.22265804, -0.12906085, -0.01340327],\n",
       "        [ 0.00523202,  0.08843163, -0.13153598],\n",
       "        [ 0.10820919, -0.22098286,  0.00886884],\n",
       "        [ 0.201973  , -0.13052234,  0.00209596],\n",
       "        [ 0.10878193,  0.12318853, -0.15379302],\n",
       "        [-0.01370434,  0.05074738, -0.16938217],\n",
       "        [-0.09898457, -0.16375433, -0.1543293 ],\n",
       "        [-0.02860069,  0.08352331, -0.1973925 ],\n",
       "        [ 0.21488923,  0.11459728, -0.19978958],\n",
       "        [ 0.11965453, -0.01820501,  0.2227389 ],\n",
       "        [ 0.14076765,  0.18888894, -0.00111782],\n",
       "        [-0.11868607, -0.09651668,  0.11489199],\n",
       "        [-0.12072784, -0.06607238,  0.09276308],\n",
       "        [-0.04159042,  0.06595412,  0.13958941],\n",
       "        [ 0.07055169, -0.17773283,  0.09780031],\n",
       "        [ 0.08480675,  0.16650599,  0.09337535],\n",
       "        [ 0.12390868, -0.05244623,  0.12764992],\n",
       "        [ 0.18719955, -0.1420426 ,  0.01579891],\n",
       "        [-0.00971212, -0.02053418,  0.2070347 ],\n",
       "        [-0.08187033, -0.18943016, -0.00929743],\n",
       "        [-0.13455403,  0.23202573,  0.01402505],\n",
       "        [-0.01750893,  0.00833617,  0.21092658],\n",
       "        [-0.06597288, -0.00571872,  0.20731689],\n",
       "        [ 0.03933593,  0.12845856,  0.03041678],\n",
       "        [-0.1443094 ,  0.13715546, -0.05981972],\n",
       "        [ 0.06812581, -0.18832876, -0.11793816],\n",
       "        [-0.23440976, -0.20546733, -0.23381518],\n",
       "        [-0.02902923,  0.03947002,  0.03729958],\n",
       "        [-0.02424021, -0.14075309, -0.00558188],\n",
       "        [-0.00740408, -0.14166635, -0.15706748],\n",
       "        [-0.00607167, -0.14008754, -0.19554113],\n",
       "        [-0.22130655,  0.03320976, -0.08025022],\n",
       "        [ 0.05542379, -0.00941938,  0.03602517],\n",
       "        [ 0.23523103,  0.07354075,  0.04710834],\n",
       "        [-0.07477616,  0.16684479, -0.22978939],\n",
       "        [ 0.13173516,  0.00543931, -0.17813799],\n",
       "        [ 0.03117883,  0.2318265 , -0.09953007],\n",
       "        [ 0.07827666,  0.23118617,  0.04259077],\n",
       "        [ 0.15940186, -0.1719844 ,  0.11433702],\n",
       "        [ 0.10247697,  0.0975897 ,  0.20369776],\n",
       "        [-0.16972053, -0.05462873, -0.02008602],\n",
       "        [-0.18006773, -0.03905195,  0.2240455 ],\n",
       "        [-0.03549299,  0.07769547, -0.02528486],\n",
       "        [-0.00678519,  0.0668665 ,  0.1682895 ],\n",
       "        [ 0.16289245,  0.14851788, -0.14009428],\n",
       "        [-0.07053743, -0.17825188,  0.01517742],\n",
       "        [ 0.21468662, -0.20007016, -0.11907488],\n",
       "        [ 0.03147474,  0.01817607, -0.00372884],\n",
       "        [-0.01987466,  0.07921671, -0.2303022 ],\n",
       "        [ 0.10912665, -0.15130547,  0.06666845],\n",
       "        [ 0.08982205, -0.13340132, -0.2111783 ],\n",
       "        [-0.02754587, -0.19765852, -0.09552304],\n",
       "        [ 0.07640374, -0.09204103, -0.13552344]], dtype=float32)>,\n",
       " <tf.Variable 'dense_25/bias:0' shape=(3,) dtype=float32, numpy=array([-0.00307734, -0.00822659,  0.0111826 ], dtype=float32)>]"
      ]
     },
     "execution_count": 98,
     "metadata": {},
     "output_type": "execute_result"
    }
   ],
   "source": [
    "# 4차원 데이터다. 애매하다. \n",
    "model.weights"
   ]
  },
  {
   "cell_type": "code",
   "execution_count": null,
   "metadata": {},
   "outputs": [],
   "source": []
  }
 ],
 "metadata": {
  "kernelspec": {
   "display_name": "tensorflow_env",
   "language": "python",
   "name": "python3"
  },
  "language_info": {
   "codemirror_mode": {
    "name": "ipython",
    "version": 3
   },
   "file_extension": ".py",
   "mimetype": "text/x-python",
   "name": "python",
   "nbconvert_exporter": "python",
   "pygments_lexer": "ipython3",
   "version": "3.9.6"
  },
  "orig_nbformat": 4,
  "vscode": {
   "interpreter": {
    "hash": "66d2a5466b65b65e05b6be368e014d05fe7b77252d6f23aaf536dcc261447230"
   }
  }
 },
 "nbformat": 4,
 "nbformat_minor": 2
}

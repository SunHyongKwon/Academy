{
 "cells": [
  {
   "cell_type": "code",
   "execution_count": 61,
   "metadata": {},
   "outputs": [],
   "source": [
    "from sklearn.datasets import load_iris"
   ]
  },
  {
   "cell_type": "code",
   "execution_count": 62,
   "metadata": {},
   "outputs": [],
   "source": [
    "data = load_iris()"
   ]
  },
  {
   "cell_type": "code",
   "execution_count": 63,
   "metadata": {},
   "outputs": [
    {
     "data": {
      "text/plain": [
       "dict_keys(['data', 'target', 'frame', 'target_names', 'DESCR', 'feature_names', 'filename', 'data_module'])"
      ]
     },
     "execution_count": 63,
     "metadata": {},
     "output_type": "execute_result"
    }
   ],
   "source": [
    "data.keys()"
   ]
  },
  {
   "cell_type": "code",
   "execution_count": 64,
   "metadata": {},
   "outputs": [
    {
     "data": {
      "text/plain": [
       "array([[5.1, 3.5, 1.4, 0.2],\n",
       "       [4.9, 3. , 1.4, 0.2],\n",
       "       [4.7, 3.2, 1.3, 0.2],\n",
       "       [4.6, 3.1, 1.5, 0.2],\n",
       "       [5. , 3.6, 1.4, 0.2]])"
      ]
     },
     "execution_count": 64,
     "metadata": {},
     "output_type": "execute_result"
    }
   ],
   "source": [
    "data.data[0:5]"
   ]
  },
  {
   "cell_type": "code",
   "execution_count": 65,
   "metadata": {},
   "outputs": [
    {
     "data": {
      "text/plain": [
       "array([0, 0, 0, 0, 0])"
      ]
     },
     "execution_count": 65,
     "metadata": {},
     "output_type": "execute_result"
    }
   ],
   "source": [
    "data.target[0:5]"
   ]
  },
  {
   "cell_type": "code",
   "execution_count": 66,
   "metadata": {},
   "outputs": [],
   "source": [
    "target = data.target\n",
    "data = data.data"
   ]
  },
  {
   "cell_type": "code",
   "execution_count": 67,
   "metadata": {},
   "outputs": [],
   "source": [
    "bclass = {\n",
    "    0 : [1,0,0],\n",
    "    1 : [0,1,0],\n",
    "    2 : [0,0,1]\n",
    "}"
   ]
  },
  {
   "cell_type": "code",
   "execution_count": 68,
   "metadata": {},
   "outputs": [
    {
     "data": {
      "text/plain": [
       "[[1, 0, 0], [1, 0, 0], [1, 0, 0], [1, 0, 0], [1, 0, 0]]"
      ]
     },
     "execution_count": 68,
     "metadata": {},
     "output_type": "execute_result"
    }
   ],
   "source": [
    "y = []\n",
    "for i in target:\n",
    "    y.append(bclass[i])\n",
    "\n",
    "y[0:5]"
   ]
  },
  {
   "cell_type": "code",
   "execution_count": 69,
   "metadata": {},
   "outputs": [],
   "source": [
    "from sklearn.model_selection import train_test_split\n",
    "\n",
    "train_data, test_data , train_target , test_target = \\\n",
    "    train_test_split(data,y,test_size=0.2 ,random_state=42)"
   ]
  },
  {
   "cell_type": "code",
   "execution_count": 70,
   "metadata": {},
   "outputs": [
    {
     "data": {
      "text/plain": [
       "(120, 4)"
      ]
     },
     "execution_count": 70,
     "metadata": {},
     "output_type": "execute_result"
    }
   ],
   "source": [
    "train_data.shape"
   ]
  },
  {
   "cell_type": "code",
   "execution_count": 71,
   "metadata": {},
   "outputs": [
    {
     "data": {
      "text/plain": [
       "(30, 4)"
      ]
     },
     "execution_count": 71,
     "metadata": {},
     "output_type": "execute_result"
    }
   ],
   "source": [
    "test_data.shape"
   ]
  },
  {
   "cell_type": "code",
   "execution_count": 72,
   "metadata": {},
   "outputs": [
    {
     "data": {
      "text/plain": [
       "array([[4.6, 3.6, 1. , 0.2],\n",
       "       [5.7, 4.4, 1.5, 0.4],\n",
       "       [6.7, 3.1, 4.4, 1.4],\n",
       "       [4.8, 3.4, 1.6, 0.2],\n",
       "       [4.4, 3.2, 1.3, 0.2]])"
      ]
     },
     "execution_count": 72,
     "metadata": {},
     "output_type": "execute_result"
    }
   ],
   "source": [
    "train_data[0:5]"
   ]
  },
  {
   "cell_type": "code",
   "execution_count": 73,
   "metadata": {},
   "outputs": [
    {
     "data": {
      "text/plain": [
       "[[1, 0, 0], [1, 0, 0], [0, 1, 0], [1, 0, 0], [1, 0, 0]]"
      ]
     },
     "execution_count": 73,
     "metadata": {},
     "output_type": "execute_result"
    }
   ],
   "source": [
    "train_target[0:5]"
   ]
  },
  {
   "attachments": {},
   "cell_type": "markdown",
   "metadata": {},
   "source": [
    "---\n",
    "### Deep Learning"
   ]
  },
  {
   "cell_type": "code",
   "execution_count": 74,
   "metadata": {},
   "outputs": [],
   "source": [
    "from tensorflow import keras"
   ]
  },
  {
   "attachments": {},
   "cell_type": "markdown",
   "metadata": {},
   "source": [
    "### Dense의 개수는 data * column + data 정도가 적당하다."
   ]
  },
  {
   "cell_type": "code",
   "execution_count": 78,
   "metadata": {},
   "outputs": [],
   "source": [
    "model = keras.Sequential()\n",
    "\n",
    "model.add(keras.layers.Dense(600,activation='relu',input_shape=(4,)))\n",
    "model.add(keras.layers.Dense(3,activation='softmax'))"
   ]
  },
  {
   "cell_type": "code",
   "execution_count": 79,
   "metadata": {},
   "outputs": [
    {
     "name": "stdout",
     "output_type": "stream",
     "text": [
      "Model: \"sequential_2\"\n",
      "_________________________________________________________________\n",
      " Layer (type)                Output Shape              Param #   \n",
      "=================================================================\n",
      " dense_4 (Dense)             (None, 600)               3000      \n",
      "                                                                 \n",
      " dense_5 (Dense)             (None, 3)                 1803      \n",
      "                                                                 \n",
      "=================================================================\n",
      "Total params: 4,803\n",
      "Trainable params: 4,803\n",
      "Non-trainable params: 0\n",
      "_________________________________________________________________\n"
     ]
    }
   ],
   "source": [
    "model.summary()"
   ]
  },
  {
   "cell_type": "code",
   "execution_count": 80,
   "metadata": {},
   "outputs": [
    {
     "name": "stdout",
     "output_type": "stream",
     "text": [
      "Epoch 1/100\n",
      "4/4 [==============================] - 0s 927us/step - loss: 1.0819 - accuracy: 0.3417\n",
      "Epoch 2/100\n",
      "4/4 [==============================] - 0s 861us/step - loss: 0.9458 - accuracy: 0.5417\n",
      "Epoch 3/100\n",
      "4/4 [==============================] - 0s 885us/step - loss: 0.8104 - accuracy: 0.7417\n",
      "Epoch 4/100\n",
      "4/4 [==============================] - 0s 2ms/step - loss: 0.7273 - accuracy: 0.9167\n",
      "Epoch 5/100\n",
      "4/4 [==============================] - 0s 1ms/step - loss: 0.6628 - accuracy: 0.9167\n",
      "Epoch 6/100\n",
      "4/4 [==============================] - 0s 2ms/step - loss: 0.6080 - accuracy: 0.7833\n",
      "Epoch 7/100\n",
      "4/4 [==============================] - 0s 681us/step - loss: 0.5648 - accuracy: 0.8333\n",
      "Epoch 8/100\n",
      "4/4 [==============================] - 0s 877us/step - loss: 0.5331 - accuracy: 0.9500\n",
      "Epoch 9/100\n",
      "4/4 [==============================] - 0s 1ms/step - loss: 0.5066 - accuracy: 0.9083\n",
      "Epoch 10/100\n",
      "4/4 [==============================] - 0s 984us/step - loss: 0.4851 - accuracy: 0.9750\n",
      "Epoch 11/100\n",
      "4/4 [==============================] - 0s 808us/step - loss: 0.4580 - accuracy: 0.9833\n",
      "Epoch 12/100\n",
      "4/4 [==============================] - 0s 1ms/step - loss: 0.4403 - accuracy: 0.9000\n",
      "Epoch 13/100\n",
      "4/4 [==============================] - 0s 885us/step - loss: 0.4251 - accuracy: 0.9000\n",
      "Epoch 14/100\n",
      "4/4 [==============================] - 0s 878us/step - loss: 0.4117 - accuracy: 0.9583\n",
      "Epoch 15/100\n",
      "4/4 [==============================] - 0s 981us/step - loss: 0.3952 - accuracy: 0.9750\n",
      "Epoch 16/100\n",
      "4/4 [==============================] - 0s 853us/step - loss: 0.3804 - accuracy: 0.9500\n",
      "Epoch 17/100\n",
      "4/4 [==============================] - 0s 1ms/step - loss: 0.3710 - accuracy: 0.9417\n",
      "Epoch 18/100\n",
      "4/4 [==============================] - 0s 986us/step - loss: 0.3577 - accuracy: 0.9583\n",
      "Epoch 19/100\n",
      "4/4 [==============================] - 0s 1ms/step - loss: 0.3491 - accuracy: 0.9667\n",
      "Epoch 20/100\n",
      "4/4 [==============================] - 0s 973us/step - loss: 0.3385 - accuracy: 0.9667\n",
      "Epoch 21/100\n",
      "4/4 [==============================] - 0s 1ms/step - loss: 0.3316 - accuracy: 0.9750\n",
      "Epoch 22/100\n",
      "4/4 [==============================] - 0s 892us/step - loss: 0.3164 - accuracy: 0.9833\n",
      "Epoch 23/100\n",
      "4/4 [==============================] - 0s 838us/step - loss: 0.3078 - accuracy: 0.9500\n",
      "Epoch 24/100\n",
      "4/4 [==============================] - 0s 1ms/step - loss: 0.2972 - accuracy: 0.9750\n",
      "Epoch 25/100\n",
      "4/4 [==============================] - 0s 836us/step - loss: 0.2885 - accuracy: 0.9750\n",
      "Epoch 26/100\n",
      "4/4 [==============================] - 0s 960us/step - loss: 0.2788 - accuracy: 0.9667\n",
      "Epoch 27/100\n",
      "4/4 [==============================] - 0s 2ms/step - loss: 0.2730 - accuracy: 0.9750\n",
      "Epoch 28/100\n",
      "4/4 [==============================] - 0s 791us/step - loss: 0.2631 - accuracy: 0.9750\n",
      "Epoch 29/100\n",
      "4/4 [==============================] - 0s 804us/step - loss: 0.2544 - accuracy: 0.9750\n",
      "Epoch 30/100\n",
      "4/4 [==============================] - 0s 1ms/step - loss: 0.2508 - accuracy: 0.9583\n",
      "Epoch 31/100\n",
      "4/4 [==============================] - 0s 894us/step - loss: 0.2390 - accuracy: 0.9750\n",
      "Epoch 32/100\n",
      "4/4 [==============================] - 0s 3ms/step - loss: 0.2369 - accuracy: 0.9500\n",
      "Epoch 33/100\n",
      "4/4 [==============================] - 0s 894us/step - loss: 0.2314 - accuracy: 0.9667\n",
      "Epoch 34/100\n",
      "4/4 [==============================] - 0s 935us/step - loss: 0.2214 - accuracy: 0.9667\n",
      "Epoch 35/100\n",
      "4/4 [==============================] - 0s 1ms/step - loss: 0.2147 - accuracy: 0.9917\n",
      "Epoch 36/100\n",
      "4/4 [==============================] - 0s 801us/step - loss: 0.2092 - accuracy: 0.9833\n",
      "Epoch 37/100\n",
      "4/4 [==============================] - 0s 1ms/step - loss: 0.2021 - accuracy: 0.9750\n",
      "Epoch 38/100\n",
      "4/4 [==============================] - 0s 1ms/step - loss: 0.2009 - accuracy: 0.9750\n",
      "Epoch 39/100\n",
      "4/4 [==============================] - 0s 828us/step - loss: 0.1949 - accuracy: 0.9750\n",
      "Epoch 40/100\n",
      "4/4 [==============================] - 0s 832us/step - loss: 0.1878 - accuracy: 0.9750\n",
      "Epoch 41/100\n",
      "4/4 [==============================] - 0s 913us/step - loss: 0.1876 - accuracy: 0.9750\n",
      "Epoch 42/100\n",
      "4/4 [==============================] - 0s 843us/step - loss: 0.1783 - accuracy: 0.9667\n",
      "Epoch 43/100\n",
      "4/4 [==============================] - 0s 868us/step - loss: 0.1830 - accuracy: 0.9583\n",
      "Epoch 44/100\n",
      "4/4 [==============================] - 0s 914us/step - loss: 0.1712 - accuracy: 0.9750\n",
      "Epoch 45/100\n",
      "4/4 [==============================] - 0s 2ms/step - loss: 0.1670 - accuracy: 0.9833\n",
      "Epoch 46/100\n",
      "4/4 [==============================] - 0s 966us/step - loss: 0.1626 - accuracy: 0.9667\n",
      "Epoch 47/100\n",
      "4/4 [==============================] - 0s 882us/step - loss: 0.1598 - accuracy: 0.9750\n",
      "Epoch 48/100\n",
      "4/4 [==============================] - 0s 1ms/step - loss: 0.1543 - accuracy: 0.9750\n",
      "Epoch 49/100\n",
      "4/4 [==============================] - 0s 930us/step - loss: 0.1554 - accuracy: 0.9750\n",
      "Epoch 50/100\n",
      "4/4 [==============================] - 0s 839us/step - loss: 0.1495 - accuracy: 0.9833\n",
      "Epoch 51/100\n",
      "4/4 [==============================] - 0s 918us/step - loss: 0.1503 - accuracy: 0.9750\n",
      "Epoch 52/100\n",
      "4/4 [==============================] - 0s 886us/step - loss: 0.1421 - accuracy: 0.9750\n",
      "Epoch 53/100\n",
      "4/4 [==============================] - 0s 844us/step - loss: 0.1459 - accuracy: 0.9667\n",
      "Epoch 54/100\n",
      "4/4 [==============================] - 0s 970us/step - loss: 0.1366 - accuracy: 0.9750\n",
      "Epoch 55/100\n",
      "4/4 [==============================] - 0s 877us/step - loss: 0.1414 - accuracy: 0.9750\n",
      "Epoch 56/100\n",
      "4/4 [==============================] - 0s 2ms/step - loss: 0.1323 - accuracy: 0.9750\n",
      "Epoch 57/100\n",
      "4/4 [==============================] - 0s 754us/step - loss: 0.1355 - accuracy: 0.9667\n",
      "Epoch 58/100\n",
      "4/4 [==============================] - 0s 907us/step - loss: 0.1300 - accuracy: 0.9667\n",
      "Epoch 59/100\n",
      "4/4 [==============================] - 0s 950us/step - loss: 0.1275 - accuracy: 0.9667\n",
      "Epoch 60/100\n",
      "4/4 [==============================] - 0s 1ms/step - loss: 0.1251 - accuracy: 0.9833\n",
      "Epoch 61/100\n",
      "4/4 [==============================] - 0s 886us/step - loss: 0.1253 - accuracy: 0.9750\n",
      "Epoch 62/100\n",
      "4/4 [==============================] - 0s 928us/step - loss: 0.1219 - accuracy: 0.9750\n",
      "Epoch 63/100\n",
      "4/4 [==============================] - 0s 810us/step - loss: 0.1224 - accuracy: 0.9750\n",
      "Epoch 64/100\n",
      "4/4 [==============================] - 0s 803us/step - loss: 0.1210 - accuracy: 0.9750\n",
      "Epoch 65/100\n",
      "4/4 [==============================] - 0s 824us/step - loss: 0.1175 - accuracy: 0.9750\n",
      "Epoch 66/100\n",
      "4/4 [==============================] - 0s 827us/step - loss: 0.1164 - accuracy: 0.9750\n",
      "Epoch 67/100\n",
      "4/4 [==============================] - 0s 831us/step - loss: 0.1138 - accuracy: 0.9833\n",
      "Epoch 68/100\n",
      "4/4 [==============================] - 0s 773us/step - loss: 0.1107 - accuracy: 0.9667\n",
      "Epoch 69/100\n",
      "4/4 [==============================] - 0s 889us/step - loss: 0.1115 - accuracy: 0.9750\n",
      "Epoch 70/100\n",
      "4/4 [==============================] - 0s 787us/step - loss: 0.1087 - accuracy: 0.9750\n",
      "Epoch 71/100\n",
      "4/4 [==============================] - 0s 882us/step - loss: 0.1067 - accuracy: 0.9667\n",
      "Epoch 72/100\n",
      "4/4 [==============================] - 0s 774us/step - loss: 0.1064 - accuracy: 0.9750\n",
      "Epoch 73/100\n",
      "4/4 [==============================] - 0s 740us/step - loss: 0.1040 - accuracy: 0.9750\n",
      "Epoch 74/100\n",
      "4/4 [==============================] - 0s 903us/step - loss: 0.1040 - accuracy: 0.9750\n",
      "Epoch 75/100\n",
      "4/4 [==============================] - 0s 1ms/step - loss: 0.1023 - accuracy: 0.9750\n",
      "Epoch 76/100\n",
      "4/4 [==============================] - 0s 1ms/step - loss: 0.1011 - accuracy: 0.9667\n",
      "Epoch 77/100\n",
      "4/4 [==============================] - 0s 926us/step - loss: 0.1008 - accuracy: 0.9667\n",
      "Epoch 78/100\n",
      "4/4 [==============================] - 0s 1ms/step - loss: 0.1005 - accuracy: 0.9667\n",
      "Epoch 79/100\n",
      "4/4 [==============================] - 0s 1ms/step - loss: 0.0981 - accuracy: 0.9750\n",
      "Epoch 80/100\n",
      "4/4 [==============================] - 0s 2ms/step - loss: 0.0968 - accuracy: 0.9750\n",
      "Epoch 81/100\n",
      "4/4 [==============================] - 0s 894us/step - loss: 0.0962 - accuracy: 0.9667\n",
      "Epoch 82/100\n",
      "4/4 [==============================] - 0s 794us/step - loss: 0.0954 - accuracy: 0.9667\n",
      "Epoch 83/100\n",
      "4/4 [==============================] - 0s 764us/step - loss: 0.0946 - accuracy: 0.9750\n",
      "Epoch 84/100\n",
      "4/4 [==============================] - 0s 875us/step - loss: 0.0949 - accuracy: 0.9750\n",
      "Epoch 85/100\n",
      "4/4 [==============================] - 0s 924us/step - loss: 0.0930 - accuracy: 0.9750\n",
      "Epoch 86/100\n",
      "4/4 [==============================] - 0s 774us/step - loss: 0.0952 - accuracy: 0.9750\n",
      "Epoch 87/100\n",
      "4/4 [==============================] - 0s 816us/step - loss: 0.0930 - accuracy: 0.9750\n",
      "Epoch 88/100\n",
      "4/4 [==============================] - 0s 1ms/step - loss: 0.0968 - accuracy: 0.9667\n",
      "Epoch 89/100\n",
      "4/4 [==============================] - 0s 789us/step - loss: 0.0902 - accuracy: 0.9750\n",
      "Epoch 90/100\n",
      "4/4 [==============================] - 0s 879us/step - loss: 0.0925 - accuracy: 0.9667\n",
      "Epoch 91/100\n",
      "4/4 [==============================] - 0s 2ms/step - loss: 0.0940 - accuracy: 0.9667\n",
      "Epoch 92/100\n",
      "4/4 [==============================] - 0s 990us/step - loss: 0.0892 - accuracy: 0.9750\n",
      "Epoch 93/100\n",
      "4/4 [==============================] - 0s 842us/step - loss: 0.0868 - accuracy: 0.9833\n",
      "Epoch 94/100\n",
      "4/4 [==============================] - 0s 950us/step - loss: 0.0906 - accuracy: 0.9667\n",
      "Epoch 95/100\n",
      "4/4 [==============================] - 0s 802us/step - loss: 0.1028 - accuracy: 0.9667\n",
      "Epoch 96/100\n",
      "4/4 [==============================] - 0s 771us/step - loss: 0.0910 - accuracy: 0.9750\n",
      "Epoch 97/100\n",
      "4/4 [==============================] - 0s 890us/step - loss: 0.0867 - accuracy: 0.9750\n",
      "Epoch 98/100\n",
      "4/4 [==============================] - 0s 841us/step - loss: 0.0847 - accuracy: 0.9833\n",
      "Epoch 99/100\n",
      "4/4 [==============================] - 0s 883us/step - loss: 0.0940 - accuracy: 0.9667\n",
      "Epoch 100/100\n",
      "4/4 [==============================] - 0s 736us/step - loss: 0.0917 - accuracy: 0.9667\n"
     ]
    },
    {
     "data": {
      "text/plain": [
       "<keras.callbacks.History at 0x15c94f430>"
      ]
     },
     "execution_count": 80,
     "metadata": {},
     "output_type": "execute_result"
    }
   ],
   "source": [
    "import numpy as np \n",
    "\n",
    "model.compile(optimizer='adam',loss='categorical_crossentropy',metrics='accuracy')\n",
    "\n",
    "model.fit(train_data,np.array(train_target),epochs=100)"
   ]
  },
  {
   "attachments": {},
   "cell_type": "markdown",
   "metadata": {},
   "source": [
    "---\n",
    "### converting iris model to tflite"
   ]
  },
  {
   "cell_type": "code",
   "execution_count": 81,
   "metadata": {},
   "outputs": [],
   "source": [
    "import tensorflow as tf"
   ]
  },
  {
   "cell_type": "code",
   "execution_count": 82,
   "metadata": {},
   "outputs": [
    {
     "name": "stderr",
     "output_type": "stream",
     "text": [
      "WARNING:absl:Found untraced functions such as _update_step_xla while saving (showing 1 of 1). These functions will not be directly callable after loading.\n"
     ]
    },
    {
     "name": "stdout",
     "output_type": "stream",
     "text": [
      "INFO:tensorflow:Assets written to: /var/folders/vf/8xq5853s7zdffbbxdf_fk_xc0000gn/T/tmpx3x5v4g7/assets\n"
     ]
    },
    {
     "name": "stderr",
     "output_type": "stream",
     "text": [
      "INFO:tensorflow:Assets written to: /var/folders/vf/8xq5853s7zdffbbxdf_fk_xc0000gn/T/tmpx3x5v4g7/assets\n",
      "2023-03-03 15:23:15.857080: W tensorflow/compiler/mlir/lite/python/tf_tfl_flatbuffer_helpers.cc:362] Ignored output_format.\n",
      "2023-03-03 15:23:15.857095: W tensorflow/compiler/mlir/lite/python/tf_tfl_flatbuffer_helpers.cc:365] Ignored drop_control_dependency.\n",
      "2023-03-03 15:23:15.857864: I tensorflow/cc/saved_model/reader.cc:45] Reading SavedModel from: /var/folders/vf/8xq5853s7zdffbbxdf_fk_xc0000gn/T/tmpx3x5v4g7\n",
      "2023-03-03 15:23:15.860933: I tensorflow/cc/saved_model/reader.cc:89] Reading meta graph with tags { serve }\n",
      "2023-03-03 15:23:15.860957: I tensorflow/cc/saved_model/reader.cc:130] Reading SavedModel debug info (if present) from: /var/folders/vf/8xq5853s7zdffbbxdf_fk_xc0000gn/T/tmpx3x5v4g7\n",
      "2023-03-03 15:23:15.866381: I tensorflow/compiler/mlir/mlir_graph_optimization_pass.cc:357] MLIR V1 optimization pass is not enabled\n",
      "2023-03-03 15:23:15.867806: I tensorflow/cc/saved_model/loader.cc:229] Restoring SavedModel bundle.\n",
      "2023-03-03 15:23:15.901659: I tensorflow/cc/saved_model/loader.cc:213] Running initialization op on SavedModel bundle at path: /var/folders/vf/8xq5853s7zdffbbxdf_fk_xc0000gn/T/tmpx3x5v4g7\n",
      "2023-03-03 15:23:15.909490: I tensorflow/cc/saved_model/loader.cc:305] SavedModel load for tags { serve }; Status: success: OK. Took 51821 microseconds.\n",
      "2023-03-03 15:23:15.951556: I tensorflow/compiler/mlir/tensorflow/utils/dump_mlir_util.cc:268] disabling MLIR crash reproducer, set env var `MLIR_CRASH_REPRODUCER_DIRECTORY` to enable.\n"
     ]
    },
    {
     "data": {
      "text/plain": [
       "20928"
      ]
     },
     "execution_count": 82,
     "metadata": {},
     "output_type": "execute_result"
    }
   ],
   "source": [
    "converter = tf.lite.TFLiteConverter.from_keras_model(model)\n",
    "tflite_model = converter.convert()\n",
    "open('./Data/iris.tflite','wb').write(tflite_model)"
   ]
  },
  {
   "cell_type": "code",
   "execution_count": 83,
   "metadata": {},
   "outputs": [],
   "source": [
    "# h5 도 저장해서 크기 비교 해보자.\n",
    "model.save('./Data/iris.h5')"
   ]
  },
  {
   "cell_type": "code",
   "execution_count": 86,
   "metadata": {},
   "outputs": [
    {
     "name": "stderr",
     "output_type": "stream",
     "text": [
      "WARNING:absl:Found untraced functions such as _update_step_xla while saving (showing 1 of 1). These functions will not be directly callable after loading.\n"
     ]
    },
    {
     "name": "stdout",
     "output_type": "stream",
     "text": [
      "INFO:tensorflow:Assets written to: /var/folders/vf/8xq5853s7zdffbbxdf_fk_xc0000gn/T/tmpp5vwerif/assets\n"
     ]
    },
    {
     "name": "stderr",
     "output_type": "stream",
     "text": [
      "INFO:tensorflow:Assets written to: /var/folders/vf/8xq5853s7zdffbbxdf_fk_xc0000gn/T/tmpp5vwerif/assets\n",
      "2023-03-03 15:26:47.483309: W tensorflow/compiler/mlir/lite/python/tf_tfl_flatbuffer_helpers.cc:362] Ignored output_format.\n",
      "2023-03-03 15:26:47.483322: W tensorflow/compiler/mlir/lite/python/tf_tfl_flatbuffer_helpers.cc:365] Ignored drop_control_dependency.\n",
      "2023-03-03 15:26:47.483409: I tensorflow/cc/saved_model/reader.cc:45] Reading SavedModel from: /var/folders/vf/8xq5853s7zdffbbxdf_fk_xc0000gn/T/tmpp5vwerif\n",
      "2023-03-03 15:26:47.483878: I tensorflow/cc/saved_model/reader.cc:89] Reading meta graph with tags { serve }\n",
      "2023-03-03 15:26:47.483882: I tensorflow/cc/saved_model/reader.cc:130] Reading SavedModel debug info (if present) from: /var/folders/vf/8xq5853s7zdffbbxdf_fk_xc0000gn/T/tmpp5vwerif\n",
      "2023-03-03 15:26:47.485531: I tensorflow/cc/saved_model/loader.cc:229] Restoring SavedModel bundle.\n",
      "2023-03-03 15:26:47.505300: I tensorflow/cc/saved_model/loader.cc:213] Running initialization op on SavedModel bundle at path: /var/folders/vf/8xq5853s7zdffbbxdf_fk_xc0000gn/T/tmpp5vwerif\n",
      "2023-03-03 15:26:47.509739: I tensorflow/cc/saved_model/loader.cc:305] SavedModel load for tags { serve }; Status: success: OK. Took 26333 microseconds.\n"
     ]
    },
    {
     "data": {
      "text/plain": [
       "20928"
      ]
     },
     "execution_count": 86,
     "metadata": {},
     "output_type": "execute_result"
    }
   ],
   "source": [
    "# h5 모델을 tflite로\n",
    "model = tf.keras.models.load_model('./Data/iris.h5')\n",
    "converter = tf.lite.TFLiteConverter.from_keras_model(model)\n",
    "tflite_model = converter.convert()\n",
    "open('./Data/iris2.tflite','wb').write(tflite_model)"
   ]
  },
  {
   "cell_type": "code",
   "execution_count": 90,
   "metadata": {},
   "outputs": [],
   "source": [
    "# tflite 불러와서 예측하기\n",
    "tflite_model = open('./Data/iris.tflite','rb').read()\n",
    "\n",
    "# ... 알아보는 중"
   ]
  },
  {
   "cell_type": "code",
   "execution_count": null,
   "metadata": {},
   "outputs": [],
   "source": []
  }
 ],
 "metadata": {
  "kernelspec": {
   "display_name": "tensorflow_env",
   "language": "python",
   "name": "python3"
  },
  "language_info": {
   "codemirror_mode": {
    "name": "ipython",
    "version": 3
   },
   "file_extension": ".py",
   "mimetype": "text/x-python",
   "name": "python",
   "nbconvert_exporter": "python",
   "pygments_lexer": "ipython3",
   "version": "3.10.9"
  },
  "orig_nbformat": 4
 },
 "nbformat": 4,
 "nbformat_minor": 2
}

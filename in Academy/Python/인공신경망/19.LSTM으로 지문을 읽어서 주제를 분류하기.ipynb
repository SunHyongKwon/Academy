{
 "cells": [
  {
   "cell_type": "code",
   "execution_count": 1,
   "metadata": {},
   "outputs": [],
   "source": [
    "import pandas as pd"
   ]
  },
  {
   "cell_type": "code",
   "execution_count": 2,
   "metadata": {},
   "outputs": [],
   "source": [
    "df = pd.read_csv('./Data/lstm.csv')"
   ]
  },
  {
   "cell_type": "code",
   "execution_count": 3,
   "metadata": {},
   "outputs": [
    {
     "data": {
      "text/plain": [
       "array(['food', 'sports'], dtype=object)"
      ]
     },
     "execution_count": 3,
     "metadata": {},
     "output_type": "execute_result"
    }
   ],
   "source": [
    "df.category.unique()"
   ]
  },
  {
   "cell_type": "code",
   "execution_count": 4,
   "metadata": {},
   "outputs": [
    {
     "data": {
      "text/plain": [
       "'dishplace is located in sunnyvale downtown there is parking around the area but it can be difficult to find during peak business hours my sisters and i came to this place for dinner on a weekday they were really busy so i highly recommended making reservations unless you have the patience to wait'"
      ]
     },
     "execution_count": 4,
     "metadata": {},
     "output_type": "execute_result"
    }
   ],
   "source": [
    "df['paragraph'][0]"
   ]
  },
  {
   "attachments": {},
   "cell_type": "markdown",
   "metadata": {},
   "source": [
    "### DF에 단어 개수 파악하기"
   ]
  },
  {
   "cell_type": "code",
   "execution_count": 5,
   "metadata": {},
   "outputs": [
    {
     "data": {
      "text/plain": [
       "536"
      ]
     },
     "execution_count": 5,
     "metadata": {},
     "output_type": "execute_result"
    }
   ],
   "source": [
    "# 데이터에 사용된 중복없는 전체 단어 갯수를 파악\n",
    "result = set()\n",
    "\n",
    "# 해당 단어 개수 파악하는 방법 : set.update 알아봐야 될 듯\n",
    "df['paragraph'].str.lower().str.split().apply(result.update)\n",
    "\n",
    "vacab_size = len(result)\n",
    "vacab_size"
   ]
  },
  {
   "attachments": {},
   "cell_type": "markdown",
   "metadata": {},
   "source": [
    "### 단어를 숫자로 인코딩"
   ]
  },
  {
   "cell_type": "code",
   "execution_count": 6,
   "metadata": {},
   "outputs": [
    {
     "data": {
      "text/plain": [
       "['dishplace is located in sunnyvale downtown there is parking around the area but it can be difficult to find during peak business hours my sisters and i came to this place for dinner on a weekday they were really busy so i highly recommended making reservations unless you have the patience to wait',\n",
       " 'service can be slower during busy hours but our waiter was courteous and help gave some great entree recommendations',\n",
       " 'portions are huge both french toast and their various omelettes are really good their french toast is probably 1.5x more than other brunch places great place to visit if you are hungry and dont want to wait 1 hour for a table',\n",
       " 'we started with apps going the chicken and waffle slides and chicken nachos the sliders were amazing and the nachos were good too maybe by themselves the nachos would have scored better but after those sliders they were up against some tough competition',\n",
       " 'the biscuits and gravy was too salty two people in my group had the gravy and all thought it was too salty my hubby ordered a side of double egg and it was served on two small plates who serves eggs to one person on separate plates we commented on that when it was delivered and even the server laughed and said she doesnt know why the kitchen does that presentation of food is important and they really missed on this one']"
      ]
     },
     "execution_count": 6,
     "metadata": {},
     "output_type": "execute_result"
    }
   ],
   "source": [
    "\n",
    "paragraphs = df['paragraph'].to_list()\n",
    "paragraphs[0:5]"
   ]
  },
  {
   "cell_type": "code",
   "execution_count": 9,
   "metadata": {},
   "outputs": [],
   "source": [
    "from tensorflow import keras"
   ]
  },
  {
   "cell_type": "code",
   "execution_count": 81,
   "metadata": {},
   "outputs": [],
   "source": [
    "keras.utils.set_random_seed(1)"
   ]
  },
  {
   "cell_type": "code",
   "execution_count": 10,
   "metadata": {},
   "outputs": [
    {
     "data": {
      "text/plain": [
       "[71,\n",
       " 308,\n",
       " 474,\n",
       " 89,\n",
       " 72,\n",
       " 368,\n",
       " 24,\n",
       " 231,\n",
       " 408,\n",
       " 387,\n",
       " 321,\n",
       " 241,\n",
       " 263,\n",
       " 142,\n",
       " 306,\n",
       " 274,\n",
       " 307,\n",
       " 397,\n",
       " 448]"
      ]
     },
     "execution_count": 10,
     "metadata": {},
     "output_type": "execute_result"
    }
   ],
   "source": [
    "# one-hot encoding : 어휘 사전 만들어 주기\n",
    "encoded_paragraphs = [keras.preprocessing.text.one_hot(paragraph ,vacab_size) for paragraph in paragraphs]\n",
    "encoded_paragraphs[1]"
   ]
  },
  {
   "attachments": {},
   "cell_type": "markdown",
   "metadata": {},
   "source": [
    "### Zero Padding 하기 위해 가장 긴 문자 값 찾기"
   ]
  },
  {
   "cell_type": "code",
   "execution_count": 11,
   "metadata": {},
   "outputs": [
    {
     "data": {
      "text/plain": [
       "91"
      ]
     },
     "execution_count": 11,
     "metadata": {},
     "output_type": "execute_result"
    }
   ],
   "source": [
    "# 데이터에서 가장 긴 문장의 단어 갯수를 확인\n",
    "max_length = 0 \n",
    "\n",
    "for row in df['paragraph']:\n",
    "    temp = len(row.split())\n",
    "    if temp > max_length:\n",
    "        max_length = temp\n",
    "\n",
    "max_length"
   ]
  },
  {
   "cell_type": "code",
   "execution_count": 12,
   "metadata": {},
   "outputs": [],
   "source": [
    "import numpy as np"
   ]
  },
  {
   "cell_type": "code",
   "execution_count": 13,
   "metadata": {},
   "outputs": [],
   "source": [
    "# 문장마다 단어 갯수가 다르므로, 제로 패딩을 넣어줘서 문장의 길이를 동일하게 만든다.\n",
    "padded_paragraphs_encoding = keras.preprocessing.sequence.pad_sequences(encoded_paragraphs,\n",
    "                                                                        maxlen=max_length,\n",
    "                                                                        padding='post' # 0값을 뒤에 채우겠다.\n",
    "                                                                        )"
   ]
  },
  {
   "cell_type": "code",
   "execution_count": 14,
   "metadata": {},
   "outputs": [
    {
     "data": {
      "text/plain": [
       "array([[  8, 515, 467, ...,   0,   0,   0],\n",
       "       [ 71, 308, 474, ...,   0,   0,   0],\n",
       "       [523, 242, 414, ...,   0,   0,   0],\n",
       "       ...,\n",
       "       [408, 149, 258, ...,   0,   0,   0],\n",
       "       [231, 313,  63, ...,   0,   0,   0],\n",
       "       [146, 171, 313, ...,   0,   0,   0]], dtype=int32)"
      ]
     },
     "execution_count": 14,
     "metadata": {},
     "output_type": "execute_result"
    }
   ],
   "source": [
    "padded_paragraphs_encoding"
   ]
  },
  {
   "attachments": {},
   "cell_type": "markdown",
   "metadata": {},
   "source": [
    "### 타겟 데이터 숫자로 바꿔주기"
   ]
  },
  {
   "cell_type": "code",
   "execution_count": 15,
   "metadata": {},
   "outputs": [],
   "source": [
    "categories = df['category'].to_list()"
   ]
  },
  {
   "cell_type": "code",
   "execution_count": 16,
   "metadata": {},
   "outputs": [],
   "source": [
    "def category_encode(category):\n",
    "    if category == 'food':\n",
    "        return [1,0]\n",
    "    else:\n",
    "        return [0,1]"
   ]
  },
  {
   "cell_type": "code",
   "execution_count": 17,
   "metadata": {},
   "outputs": [
    {
     "data": {
      "text/plain": [
       "[0, 1]"
      ]
     },
     "execution_count": 17,
     "metadata": {},
     "output_type": "execute_result"
    }
   ],
   "source": [
    "encoded_category = []\n",
    "for category in categories:\n",
    "    encoded_category.append(category_encode(category))\n",
    "\n",
    "encoded_category[19]"
   ]
  },
  {
   "cell_type": "code",
   "execution_count": 18,
   "metadata": {},
   "outputs": [
    {
     "name": "stdout",
     "output_type": "stream",
     "text": [
      "[146, 171, 313, 150, 522, 300, 407, 295, 101, 160, 150, 15, 258, 46, 372, 313, 463, 352, 118, 257, 171, 474, 375, 249, 469, 84, 313, 439, 249, 446, 328, 518, 318, 337, 307, 295, 413, 203, 533, 367, 523, 40, 157, 51, 263, 44, 484, 190, 84, 415, 313, 174, 443, 231, 87, 321, 407, 209, 287, 434, 313, 433, 24, 328, 147, 40, 439, 295, 258, 40, 207, 251, 316]\n"
     ]
    }
   ],
   "source": [
    "# feature 확인\n",
    "print(encoded_paragraphs[19])"
   ]
  },
  {
   "attachments": {},
   "cell_type": "markdown",
   "metadata": {},
   "source": [
    "### 주제를 분류하는 모델 구현하기\n",
    "- rmsprop 말고 lstm을 써서 반복하는 걸 더 많이 하는 추세이다."
   ]
  },
  {
   "cell_type": "code",
   "execution_count": 19,
   "metadata": {},
   "outputs": [],
   "source": [
    "model = keras.Sequential()\n",
    "\n",
    "# 문맥 생성단계\n",
    "model.add(keras.layers.Embedding(vacab_size,\n",
    "                                 5,\n",
    "                                 input_length=max_length\n",
    "                                 ))\n",
    "model.add(keras.layers.LSTM(64))\n",
    "\n",
    "# 분류 단계\n",
    "model.add(keras.layers.Dense(32,activation='relu'))\n",
    "model.add(keras.layers.Dense(2,activation='softmax'))"
   ]
  },
  {
   "cell_type": "code",
   "execution_count": 20,
   "metadata": {},
   "outputs": [],
   "source": [
    "model.compile(optimizer='adam',loss='categorical_crossentropy',metrics='accuracy')"
   ]
  },
  {
   "cell_type": "code",
   "execution_count": 21,
   "metadata": {},
   "outputs": [],
   "source": [
    "train_X = np.array(padded_paragraphs_encoding)\n",
    "train_y = np.array(encoded_category)"
   ]
  },
  {
   "cell_type": "code",
   "execution_count": 22,
   "metadata": {},
   "outputs": [
    {
     "name": "stdout",
     "output_type": "stream",
     "text": [
      "Epoch 1/100\n",
      "2/2 [==============================] - 1s 14ms/step - loss: 0.6933 - accuracy: 0.5000\n",
      "Epoch 2/100\n",
      "2/2 [==============================] - 0s 11ms/step - loss: 0.6938 - accuracy: 0.5000\n",
      "Epoch 3/100\n",
      "2/2 [==============================] - 0s 11ms/step - loss: 0.6927 - accuracy: 0.5000\n",
      "Epoch 4/100\n",
      "2/2 [==============================] - 0s 12ms/step - loss: 0.6922 - accuracy: 0.5500\n",
      "Epoch 5/100\n",
      "2/2 [==============================] - 0s 13ms/step - loss: 0.6920 - accuracy: 0.6000\n",
      "Epoch 6/100\n",
      "2/2 [==============================] - 0s 11ms/step - loss: 0.6915 - accuracy: 0.6000\n",
      "Epoch 7/100\n",
      "2/2 [==============================] - 0s 12ms/step - loss: 0.6908 - accuracy: 0.6000\n",
      "Epoch 8/100\n",
      "2/2 [==============================] - 0s 11ms/step - loss: 0.6901 - accuracy: 0.6000\n",
      "Epoch 9/100\n",
      "2/2 [==============================] - 0s 12ms/step - loss: 0.6895 - accuracy: 0.6000\n",
      "Epoch 10/100\n",
      "2/2 [==============================] - 0s 12ms/step - loss: 0.6874 - accuracy: 0.6000\n",
      "Epoch 11/100\n",
      "2/2 [==============================] - 0s 12ms/step - loss: 0.6852 - accuracy: 0.5500\n",
      "Epoch 12/100\n",
      "2/2 [==============================] - 0s 12ms/step - loss: 0.6807 - accuracy: 0.7000\n",
      "Epoch 13/100\n",
      "2/2 [==============================] - 0s 11ms/step - loss: 0.6728 - accuracy: 0.6500\n",
      "Epoch 14/100\n",
      "2/2 [==============================] - 0s 11ms/step - loss: 0.6471 - accuracy: 0.6500\n",
      "Epoch 15/100\n",
      "2/2 [==============================] - 0s 13ms/step - loss: 0.6041 - accuracy: 0.6500\n",
      "Epoch 16/100\n",
      "2/2 [==============================] - 0s 12ms/step - loss: 0.5800 - accuracy: 0.7500\n",
      "Epoch 17/100\n",
      "2/2 [==============================] - 0s 14ms/step - loss: 0.5011 - accuracy: 0.8000\n",
      "Epoch 18/100\n",
      "2/2 [==============================] - 0s 13ms/step - loss: 0.4700 - accuracy: 0.8500\n",
      "Epoch 19/100\n",
      "2/2 [==============================] - 0s 13ms/step - loss: 0.3866 - accuracy: 0.8500\n",
      "Epoch 20/100\n",
      "2/2 [==============================] - 0s 12ms/step - loss: 0.3730 - accuracy: 0.9000\n",
      "Epoch 21/100\n",
      "2/2 [==============================] - 0s 13ms/step - loss: 0.3718 - accuracy: 0.8500\n",
      "Epoch 22/100\n",
      "2/2 [==============================] - 0s 20ms/step - loss: 0.3965 - accuracy: 0.8500\n",
      "Epoch 23/100\n",
      "2/2 [==============================] - 0s 12ms/step - loss: 0.3512 - accuracy: 0.8500\n",
      "Epoch 24/100\n",
      "2/2 [==============================] - 0s 13ms/step - loss: 0.2810 - accuracy: 0.9000\n",
      "Epoch 25/100\n",
      "2/2 [==============================] - 0s 11ms/step - loss: 0.1424 - accuracy: 1.0000\n",
      "Epoch 26/100\n",
      "2/2 [==============================] - 0s 13ms/step - loss: 0.3442 - accuracy: 0.9500\n",
      "Epoch 27/100\n",
      "2/2 [==============================] - 0s 11ms/step - loss: 1.0354 - accuracy: 0.8000\n",
      "Epoch 28/100\n",
      "2/2 [==============================] - 0s 12ms/step - loss: 1.1032 - accuracy: 0.7500\n",
      "Epoch 29/100\n",
      "2/2 [==============================] - 0s 12ms/step - loss: 0.4275 - accuracy: 0.9000\n",
      "Epoch 30/100\n",
      "2/2 [==============================] - 0s 12ms/step - loss: 0.1897 - accuracy: 0.9500\n",
      "Epoch 31/100\n",
      "2/2 [==============================] - 0s 13ms/step - loss: 0.0415 - accuracy: 1.0000\n",
      "Epoch 32/100\n",
      "2/2 [==============================] - 0s 16ms/step - loss: 0.0511 - accuracy: 1.0000\n",
      "Epoch 33/100\n",
      "2/2 [==============================] - 0s 12ms/step - loss: 0.0570 - accuracy: 1.0000\n",
      "Epoch 34/100\n",
      "2/2 [==============================] - 0s 12ms/step - loss: 0.0611 - accuracy: 1.0000\n",
      "Epoch 35/100\n",
      "2/2 [==============================] - 0s 13ms/step - loss: 0.3282 - accuracy: 0.9500\n",
      "Epoch 36/100\n",
      "2/2 [==============================] - 0s 12ms/step - loss: 0.3268 - accuracy: 0.9500\n",
      "Epoch 37/100\n",
      "2/2 [==============================] - 0s 13ms/step - loss: 0.3095 - accuracy: 0.9500\n",
      "Epoch 38/100\n",
      "2/2 [==============================] - 0s 12ms/step - loss: 0.5273 - accuracy: 0.9000\n",
      "Epoch 39/100\n",
      "2/2 [==============================] - 0s 12ms/step - loss: 0.4894 - accuracy: 0.9000\n",
      "Epoch 40/100\n",
      "2/2 [==============================] - 0s 12ms/step - loss: 0.2394 - accuracy: 0.9500\n",
      "Epoch 41/100\n",
      "2/2 [==============================] - 0s 11ms/step - loss: 0.2192 - accuracy: 0.9500\n",
      "Epoch 42/100\n",
      "2/2 [==============================] - 0s 11ms/step - loss: 0.2107 - accuracy: 0.9500\n",
      "Epoch 43/100\n",
      "2/2 [==============================] - 0s 11ms/step - loss: 0.1915 - accuracy: 0.9500\n",
      "Epoch 44/100\n",
      "2/2 [==============================] - 0s 11ms/step - loss: 0.1925 - accuracy: 0.9500\n",
      "Epoch 45/100\n",
      "2/2 [==============================] - 0s 10ms/step - loss: 0.0695 - accuracy: 1.0000\n",
      "Epoch 46/100\n",
      "2/2 [==============================] - 0s 16ms/step - loss: 0.0734 - accuracy: 1.0000\n",
      "Epoch 47/100\n",
      "2/2 [==============================] - 0s 11ms/step - loss: 0.0729 - accuracy: 1.0000\n",
      "Epoch 48/100\n",
      "2/2 [==============================] - 0s 12ms/step - loss: 0.0706 - accuracy: 1.0000\n",
      "Epoch 49/100\n",
      "2/2 [==============================] - 0s 12ms/step - loss: 0.0667 - accuracy: 1.0000\n",
      "Epoch 50/100\n",
      "2/2 [==============================] - 0s 12ms/step - loss: 0.0617 - accuracy: 1.0000\n",
      "Epoch 51/100\n",
      "2/2 [==============================] - 0s 12ms/step - loss: 0.0563 - accuracy: 1.0000\n",
      "Epoch 52/100\n",
      "2/2 [==============================] - 0s 12ms/step - loss: 0.0501 - accuracy: 1.0000\n",
      "Epoch 53/100\n",
      "2/2 [==============================] - 0s 12ms/step - loss: 0.0441 - accuracy: 1.0000\n",
      "Epoch 54/100\n",
      "2/2 [==============================] - 0s 11ms/step - loss: 0.0386 - accuracy: 1.0000\n",
      "Epoch 55/100\n",
      "2/2 [==============================] - 0s 12ms/step - loss: 0.0340 - accuracy: 1.0000\n",
      "Epoch 56/100\n",
      "2/2 [==============================] - 0s 13ms/step - loss: 0.0298 - accuracy: 1.0000\n",
      "Epoch 57/100\n",
      "2/2 [==============================] - 0s 12ms/step - loss: 0.0260 - accuracy: 1.0000\n",
      "Epoch 58/100\n",
      "2/2 [==============================] - 0s 12ms/step - loss: 0.0230 - accuracy: 1.0000\n",
      "Epoch 59/100\n",
      "2/2 [==============================] - 0s 12ms/step - loss: 0.0205 - accuracy: 1.0000\n",
      "Epoch 60/100\n",
      "2/2 [==============================] - 0s 13ms/step - loss: 0.0181 - accuracy: 1.0000\n",
      "Epoch 61/100\n",
      "2/2 [==============================] - 0s 14ms/step - loss: 0.0160 - accuracy: 1.0000\n",
      "Epoch 62/100\n",
      "2/2 [==============================] - 0s 11ms/step - loss: 0.0144 - accuracy: 1.0000\n",
      "Epoch 63/100\n",
      "2/2 [==============================] - 0s 11ms/step - loss: 0.0132 - accuracy: 1.0000\n",
      "Epoch 64/100\n",
      "2/2 [==============================] - 0s 12ms/step - loss: 0.0119 - accuracy: 1.0000\n",
      "Epoch 65/100\n",
      "2/2 [==============================] - 0s 11ms/step - loss: 0.0109 - accuracy: 1.0000\n",
      "Epoch 66/100\n",
      "2/2 [==============================] - 0s 12ms/step - loss: 0.0101 - accuracy: 1.0000\n",
      "Epoch 67/100\n",
      "2/2 [==============================] - 0s 23ms/step - loss: 0.0093 - accuracy: 1.0000\n",
      "Epoch 68/100\n",
      "2/2 [==============================] - 0s 13ms/step - loss: 0.0087 - accuracy: 1.0000\n",
      "Epoch 69/100\n",
      "2/2 [==============================] - 0s 12ms/step - loss: 0.0081 - accuracy: 1.0000\n",
      "Epoch 70/100\n",
      "2/2 [==============================] - 0s 11ms/step - loss: 0.0077 - accuracy: 1.0000\n",
      "Epoch 71/100\n",
      "2/2 [==============================] - 0s 11ms/step - loss: 0.0072 - accuracy: 1.0000\n",
      "Epoch 72/100\n",
      "2/2 [==============================] - 0s 12ms/step - loss: 0.0068 - accuracy: 1.0000\n",
      "Epoch 73/100\n",
      "2/2 [==============================] - 0s 12ms/step - loss: 0.0064 - accuracy: 1.0000\n",
      "Epoch 74/100\n",
      "2/2 [==============================] - 0s 12ms/step - loss: 0.0061 - accuracy: 1.0000\n",
      "Epoch 75/100\n",
      "2/2 [==============================] - 0s 11ms/step - loss: 0.0058 - accuracy: 1.0000\n",
      "Epoch 76/100\n",
      "2/2 [==============================] - 0s 12ms/step - loss: 0.0056 - accuracy: 1.0000\n",
      "Epoch 77/100\n",
      "2/2 [==============================] - 0s 12ms/step - loss: 0.0053 - accuracy: 1.0000\n",
      "Epoch 78/100\n",
      "2/2 [==============================] - 0s 11ms/step - loss: 0.0051 - accuracy: 1.0000\n",
      "Epoch 79/100\n",
      "2/2 [==============================] - 0s 11ms/step - loss: 0.0049 - accuracy: 1.0000\n",
      "Epoch 80/100\n",
      "2/2 [==============================] - 0s 11ms/step - loss: 0.0047 - accuracy: 1.0000\n",
      "Epoch 81/100\n",
      "2/2 [==============================] - 0s 12ms/step - loss: 0.0045 - accuracy: 1.0000\n",
      "Epoch 82/100\n",
      "2/2 [==============================] - 0s 12ms/step - loss: 0.0043 - accuracy: 1.0000\n",
      "Epoch 83/100\n",
      "2/2 [==============================] - 0s 11ms/step - loss: 0.0042 - accuracy: 1.0000\n",
      "Epoch 84/100\n",
      "2/2 [==============================] - 0s 14ms/step - loss: 0.0040 - accuracy: 1.0000\n",
      "Epoch 85/100\n",
      "2/2 [==============================] - 0s 12ms/step - loss: 0.0039 - accuracy: 1.0000\n",
      "Epoch 86/100\n",
      "2/2 [==============================] - 0s 12ms/step - loss: 0.0037 - accuracy: 1.0000\n",
      "Epoch 87/100\n",
      "2/2 [==============================] - 0s 11ms/step - loss: 0.0036 - accuracy: 1.0000\n",
      "Epoch 88/100\n",
      "2/2 [==============================] - 0s 17ms/step - loss: 0.0035 - accuracy: 1.0000\n",
      "Epoch 89/100\n",
      "2/2 [==============================] - 0s 16ms/step - loss: 0.0034 - accuracy: 1.0000\n",
      "Epoch 90/100\n",
      "2/2 [==============================] - 0s 12ms/step - loss: 0.0033 - accuracy: 1.0000\n",
      "Epoch 91/100\n",
      "2/2 [==============================] - 0s 12ms/step - loss: 0.0032 - accuracy: 1.0000\n",
      "Epoch 92/100\n",
      "2/2 [==============================] - 0s 14ms/step - loss: 0.0031 - accuracy: 1.0000\n",
      "Epoch 93/100\n",
      "2/2 [==============================] - 0s 12ms/step - loss: 0.0030 - accuracy: 1.0000\n",
      "Epoch 94/100\n",
      "2/2 [==============================] - 0s 11ms/step - loss: 0.0029 - accuracy: 1.0000\n",
      "Epoch 95/100\n",
      "2/2 [==============================] - 0s 12ms/step - loss: 0.0028 - accuracy: 1.0000\n",
      "Epoch 96/100\n",
      "2/2 [==============================] - 0s 12ms/step - loss: 0.0027 - accuracy: 1.0000\n",
      "Epoch 97/100\n",
      "2/2 [==============================] - 0s 12ms/step - loss: 0.0027 - accuracy: 1.0000\n",
      "Epoch 98/100\n",
      "2/2 [==============================] - 0s 12ms/step - loss: 0.0026 - accuracy: 1.0000\n",
      "Epoch 99/100\n",
      "2/2 [==============================] - 0s 12ms/step - loss: 0.0025 - accuracy: 1.0000\n",
      "Epoch 100/100\n",
      "2/2 [==============================] - 0s 11ms/step - loss: 0.0024 - accuracy: 1.0000\n"
     ]
    }
   ],
   "source": [
    "history = model.fit(train_X,train_y,\n",
    "                    epochs=100,\n",
    "                    batch_size=10 # 줄일 수록 디테일 해진다.\n",
    "                    )"
   ]
  },
  {
   "cell_type": "code",
   "execution_count": null,
   "metadata": {},
   "outputs": [],
   "source": []
  }
 ],
 "metadata": {
  "kernelspec": {
   "display_name": "tensorflow_env",
   "language": "python",
   "name": "python3"
  },
  "language_info": {
   "codemirror_mode": {
    "name": "ipython",
    "version": 3
   },
   "file_extension": ".py",
   "mimetype": "text/x-python",
   "name": "python",
   "nbconvert_exporter": "python",
   "pygments_lexer": "ipython3",
   "version": "3.11.0"
  },
  "orig_nbformat": 4
 },
 "nbformat": 4,
 "nbformat_minor": 2
}

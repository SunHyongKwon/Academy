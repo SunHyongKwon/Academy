{
 "cells": [
  {
   "attachments": {},
   "cell_type": "markdown",
   "metadata": {},
   "source": [
    "### 심층신경망 (다중 퍼셉트론)의 단점\n",
    "- 정형 데이터의 경우에는 문제가 없고 좋다. <br><br>\n",
    "- 입력값으로 고유 이미지 생김새 정보를 알 수가 없다. <br><br>\n",
    "    - 2차원 벡터를 1차원으로 변경해서 작업을 진행하기 때문이다. <br><br>\n",
    "- 심층신경망은 하나 하나의 변화에 상당히 민감하다. <br><br>\n",
    "    - 모든 노드의 값을 곱해서 가중치로 가지고 있기 때문에 <br><br>\n",
    "    - 그렇기 때문에 이미지 중에 노이즈가 낀 것이 있다면 모델 예측에 영향을 미칠 수 있다. <br><br>"
   ]
  },
  {
   "attachments": {},
   "cell_type": "markdown",
   "metadata": {},
   "source": [
    "### CNN\n",
    "- multiple perceptron의 문제가 있어서 생긴 알고리즘이다. <br><br>\n",
    "- 위의 문제를 해결 하기 위해 나온 것이 CNN이다. <br><br>\n",
    "- 얼굴인식 , 홍채인식 , 그 꽃 몬지 파악 등에 사용된다. <br><br>\n",
    "\n",
    "### 합성곱 신경망(CNN) 전체 정리\n",
    "- Same Padding (합성곱 층) <br><br>\n",
    "    - 입력값에 padding을 줘서 3개의 필터를 주고 , 필터 하나당 3 * 3 커널을 줘서 계산할 것이다. <br><br>\n",
    "    - 이렇게 되면 입력값이 크기와 같은 것이 3개가 쌓인다. <br><br> \n",
    "- Pooling 층 <br><br>\n",
    "    - 이를 가지고 Pooling 층을 만들어서 이미지를 축소 시킨다. <br><br>\n",
    "    - maxPooling : 축소시킬 크기의 커널 중에 가장 큰 값을 사용하는 방법 <br><br>\n",
    "    - 이 외에도 다른 pooling 방법이 있다. <br><br>\n",
    "- Dense 층 <br><br>\n",
    "    - 심층신경망 <br><br>\n",
    "- 합성곱 층은 여러번 실행이 가능하고, pooling 층은 단 한번만 실행이 가능하다. <br><br>\n",
    "\n",
    "> #### 추가적인 내용은 수업자료의 cnn.pdf 참고해서 복습하자."
   ]
  },
  {
   "cell_type": "code",
   "execution_count": null,
   "metadata": {},
   "outputs": [],
   "source": []
  }
 ],
 "metadata": {
  "kernelspec": {
   "display_name": "Python 3",
   "language": "python",
   "name": "python3"
  },
  "language_info": {
   "name": "python",
   "version": "3.9.6"
  },
  "orig_nbformat": 4,
  "vscode": {
   "interpreter": {
    "hash": "31f2aee4e71d21fbe5cf8b01ff0e069b9275f58929596ceb00d14d90e3e16cd6"
   }
  }
 },
 "nbformat": 4,
 "nbformat_minor": 2
}

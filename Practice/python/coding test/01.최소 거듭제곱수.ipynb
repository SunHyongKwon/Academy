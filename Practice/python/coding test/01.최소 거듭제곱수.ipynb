{
 "cells": [
  {
   "cell_type": "code",
   "execution_count": 3,
   "metadata": {},
   "outputs": [
    {
     "data": {
      "text/plain": [
       "[1, 2, 3, 1, 5, 6, 15, 10]"
      ]
     },
     "execution_count": 3,
     "metadata": {},
     "output_type": "execute_result"
    }
   ],
   "source": [
    "# input.txt 에서 \\n으로 구분이 되는 텍스트를 data로 받아오기\n",
    "import sys\n",
    "import numpy as np \n",
    "sys.stdin = open(\"./Data/input.txt\", \"r\")\n",
    "\n",
    "T = int(sys.stdin.readline())\n",
    "data = [int(sys.stdin.readline().strip()) for i in range(T)]\n",
    "result = []\n",
    "\n",
    "for num in data:\n",
    "    for i in range(1,10**7+1):\n",
    "        if np.sqrt(num * i) == np.round(np.sqrt(num * i)):\n",
    "            result.append(i)\n",
    "            break\n",
    "\n",
    "result"
   ]
  },
  {
   "cell_type": "code",
   "execution_count": null,
   "metadata": {},
   "outputs": [],
   "source": []
  }
 ],
 "metadata": {
  "kernelspec": {
   "display_name": "tf",
   "language": "python",
   "name": "python3"
  },
  "language_info": {
   "codemirror_mode": {
    "name": "ipython",
    "version": 3
   },
   "file_extension": ".py",
   "mimetype": "text/x-python",
   "name": "python",
   "nbconvert_exporter": "python",
   "pygments_lexer": "ipython3",
   "version": "3.10.4"
  },
  "orig_nbformat": 4
 },
 "nbformat": 4,
 "nbformat_minor": 2
}

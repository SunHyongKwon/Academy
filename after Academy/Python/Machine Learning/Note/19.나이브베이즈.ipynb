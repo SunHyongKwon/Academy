{
 "cells": [
  {
   "attachments": {},
   "cell_type": "markdown",
   "metadata": {},
   "source": [
    "### 나이브 베이즈 (Naive Bayes)\n",
    "- 확률 기반 머신러닝 분류 알고리즘의 대표적 <br><br>\n",
    "- 나이브 베이즈 분류 알고리즘은 나이브(단순)하게 독립적인 사건으로 가정 <br><br>\n",
    "- 이 독립 사건들을 베이즈 이론에 대입시켜 가장 높은 확률 레이블로 분류를 실행하는 알고리즘 <br><br>\n",
    "\n",
    "### 베이즈 이론\n",
    "$${p(A|B)} = p(B|A) * p(A) / p(B)$$ \n",
    "- p(A|B) : 어떤 사건 B가 일어났을 때 사건 A가 일어날 확률 <br><br>\n",
    "- p(B|A) : 어떤 사건 A가 일어났을 때 사건 B가 일어날 확률 <br><br>"
   ]
  },
  {
   "attachments": {},
   "cell_type": "markdown",
   "metadata": {},
   "source": [
    "- 나이브 베이즈 알고리즘을 머신러닝에 응용하기 (L : label , F : feature)\n",
    "$$p(L|F) = \\frac {p(F|L) * p(L)}  {p(F)}$$"
   ]
  },
  {
   "cell_type": "markdown",
   "metadata": {},
   "source": []
  }
 ],
 "metadata": {
  "kernelspec": {
   "display_name": "tensorflow",
   "language": "python",
   "name": "python3"
  },
  "language_info": {
   "name": "python",
   "version": "3.9.13 | packaged by conda-forge | (main, May 27 2022, 17:01:00) \n[Clang 13.0.1 ]"
  },
  "orig_nbformat": 4,
  "vscode": {
   "interpreter": {
    "hash": "a3680a952170aa4879024e73d39878b7aac962f0b16bced1a9689b2321800c8b"
   }
  }
 },
 "nbformat": 4,
 "nbformat_minor": 2
}

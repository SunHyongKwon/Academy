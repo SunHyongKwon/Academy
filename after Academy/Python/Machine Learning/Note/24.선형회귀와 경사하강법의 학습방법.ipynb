{
 "cells": [
  {
   "attachments": {},
   "cell_type": "markdown",
   "metadata": {},
   "source": [
    "### 경사하강법 (SGD : Stochastic Gradient Descent)\n",
    "- 평균 제곱 오차의 값을 줄여나가는 것을 경사하강법이라고 한다. <br><br>\n",
    "\n",
    "### 선형회귀와 경사하강법의 학습방법\n",
    "- 모델의 최적화된 방법을 찾도록 도움을 주는 것 : 경사하강법(머신러닝 모델 X) <br><br>\n",
    "- 가중치와 절편을 이용해 최적화된 모델을 찾아 주는 것 : 경사하강법 + 선형회귀 <br><br>\n",
    "\n",
    "### 선형 회귀식의 가중치(w)와 절편(bias) : Y = wX + b\n",
    "- 머신러닝 / 딥러닝의 학습이란? 데이터를 계속 업데이트 하면서 모델을 적용시키면서(함수식을 만들면서) 오차가 가장 적은 것을 기준으로 가중치와 절편을 찾는 것 <br><br>\n",
    "- 규칙 : 가중치와 졀편을 계속 업데이트 하는 것 <br><br>\n",
    "- 규제 : 가중치와 절편의 개수를 줄인다. <br><br>"
   ]
  },
  {
   "attachments": {},
   "cell_type": "markdown",
   "metadata": {},
   "source": [
    "---\n",
    "### 당뇨병 환자 데이터"
   ]
  },
  {
   "cell_type": "code",
   "execution_count": 75,
   "metadata": {},
   "outputs": [],
   "source": [
    "# bunch 클래스 라고 한다. \n",
    "from sklearn.datasets import load_diabetes"
   ]
  },
  {
   "cell_type": "code",
   "execution_count": 76,
   "metadata": {},
   "outputs": [],
   "source": [
    "disabetes = load_diabetes()"
   ]
  },
  {
   "cell_type": "code",
   "execution_count": 77,
   "metadata": {},
   "outputs": [
    {
     "data": {
      "text/plain": [
       "dict_keys(['data', 'target', 'frame', 'DESCR', 'feature_names', 'data_filename', 'target_filename', 'data_module'])"
      ]
     },
     "execution_count": 77,
     "metadata": {},
     "output_type": "execute_result"
    }
   ],
   "source": [
    "# bunch 클래스 구성\n",
    "disabetes.keys()"
   ]
  },
  {
   "cell_type": "code",
   "execution_count": 78,
   "metadata": {},
   "outputs": [
    {
     "name": "stdout",
     "output_type": "stream",
     "text": [
      ".. _diabetes_dataset:\n",
      "\n",
      "Diabetes dataset\n",
      "----------------\n",
      "\n",
      "Ten baseline variables, age, sex, body mass index, average blood\n",
      "pressure, and six blood serum measurements were obtained for each of n =\n",
      "442 diabetes patients, as well as the response of interest, a\n",
      "quantitative measure of disease progression one year after baseline.\n",
      "\n",
      "**Data Set Characteristics:**\n",
      "\n",
      "  :Number of Instances: 442\n",
      "\n",
      "  :Number of Attributes: First 10 columns are numeric predictive values\n",
      "\n",
      "  :Target: Column 11 is a quantitative measure of disease progression one year after baseline\n",
      "\n",
      "  :Attribute Information:\n",
      "      - age     age in years\n",
      "      - sex\n",
      "      - bmi     body mass index\n",
      "      - bp      average blood pressure\n",
      "      - s1      tc, total serum cholesterol\n",
      "      - s2      ldl, low-density lipoproteins\n",
      "      - s3      hdl, high-density lipoproteins\n",
      "      - s4      tch, total cholesterol / HDL\n",
      "      - s5      ltg, possibly log of serum triglycerides level\n",
      "      - s6      glu, blood sugar level\n",
      "\n",
      "Note: Each of these 10 feature variables have been mean centered and scaled by the standard deviation times the square root of `n_samples` (i.e. the sum of squares of each column totals 1).\n",
      "\n",
      "Source URL:\n",
      "https://www4.stat.ncsu.edu/~boos/var.select/diabetes.html\n",
      "\n",
      "For more information see:\n",
      "Bradley Efron, Trevor Hastie, Iain Johnstone and Robert Tibshirani (2004) \"Least Angle Regression,\" Annals of Statistics (with discussion), 407-499.\n",
      "(https://web.stanford.edu/~hastie/Papers/LARS/LeastAngle_2002.pdf)\n",
      "\n",
      "diabetes_data_raw.csv.gz\n",
      "diabetes_target.csv.gz\n",
      "sklearn.datasets.data\n"
     ]
    }
   ],
   "source": [
    "print(disabetes.DESCR)\n",
    "print(disabetes.data_filename)\n",
    "print(disabetes.target_filename)\n",
    "print(disabetes.data_module)"
   ]
  },
  {
   "cell_type": "code",
   "execution_count": 79,
   "metadata": {},
   "outputs": [
    {
     "name": "stdout",
     "output_type": "stream",
     "text": [
      "(442, 10)\n",
      "(442,)\n"
     ]
    }
   ],
   "source": [
    "# 데이터의 크기 확인하기\n",
    "# sample 개수가 442개 feature가 10개\n",
    "print(disabetes.data.shape)\n",
    "print(disabetes.target.shape)"
   ]
  },
  {
   "cell_type": "code",
   "execution_count": 80,
   "metadata": {},
   "outputs": [
    {
     "data": {
      "text/plain": [
       "array([[ 0.03807591,  0.05068012,  0.06169621,  0.02187239, -0.0442235 ,\n",
       "        -0.03482076, -0.04340085, -0.00259226,  0.01990749, -0.01764613],\n",
       "       [-0.00188202, -0.04464164, -0.05147406, -0.02632753, -0.00844872,\n",
       "        -0.01916334,  0.07441156, -0.03949338, -0.06833155, -0.09220405],\n",
       "       [ 0.08529891,  0.05068012,  0.04445121, -0.00567042, -0.04559945,\n",
       "        -0.03419447, -0.03235593, -0.00259226,  0.00286131, -0.02593034]])"
      ]
     },
     "execution_count": 80,
     "metadata": {},
     "output_type": "execute_result"
    }
   ],
   "source": [
    "# data의 일부 보기\n",
    "disabetes.data[0:3]"
   ]
  },
  {
   "cell_type": "code",
   "execution_count": 81,
   "metadata": {},
   "outputs": [
    {
     "name": "stdout",
     "output_type": "stream",
     "text": [
      ".. _diabetes_dataset:\n",
      "\n",
      "Diabetes dataset\n",
      "----------------\n",
      "\n",
      "Ten baseline variables, age, sex, body mass index, average blood\n",
      "pressure, and six blood serum measurements were obtained for each of n =\n",
      "442 diabetes patients, as well as the response of interest, a\n",
      "quantitative measure of disease progression one year after baseline.\n",
      "\n",
      "**Data Set Characteristics:**\n",
      "\n",
      "  :Number of Instances: 442\n",
      "\n",
      "  :Number of Attributes: First 10 columns are numeric predictive values\n",
      "\n",
      "  :Target: Column 11 is a quantitative measure of disease progression one year after baseline\n",
      "\n",
      "  :Attribute Information:\n",
      "      - age     age in years\n",
      "      - sex\n",
      "      - bmi     body mass index\n",
      "      - bp      average blood pressure\n",
      "      - s1      tc, total serum cholesterol\n",
      "      - s2      ldl, low-density lipoproteins\n",
      "      - s3      hdl, high-density lipoproteins\n",
      "      - s4      tch, total cholesterol / HDL\n",
      "      - s5      ltg, possibly log of serum triglycerides level\n",
      "      - s6      glu, blood sugar level\n",
      "\n",
      "Note: Each of these 10 feature variables have been mean centered and scaled by the standard deviation times the square root of `n_samples` (i.e. the sum of squares of each column totals 1).\n",
      "\n",
      "Source URL:\n",
      "https://www4.stat.ncsu.edu/~boos/var.select/diabetes.html\n",
      "\n",
      "For more information see:\n",
      "Bradley Efron, Trevor Hastie, Iain Johnstone and Robert Tibshirani (2004) \"Least Angle Regression,\" Annals of Statistics (with discussion), 407-499.\n",
      "(https://web.stanford.edu/~hastie/Papers/LARS/LeastAngle_2002.pdf)\n",
      "\n"
     ]
    }
   ],
   "source": [
    "# target 보기\n",
    "disabetes.target[:3]\n",
    "\n",
    "# feature name 보기\n",
    "disabetes.feature_names\n",
    "\n",
    "print(disabetes.DESCR)"
   ]
  },
  {
   "cell_type": "code",
   "execution_count": 82,
   "metadata": {},
   "outputs": [
    {
     "data": {
      "image/png": "[encoded data removed]",
      "text/plain": [
       "<Figure size 640x480 with 1 Axes>"
      ]
     },
     "metadata": {},
     "output_type": "display_data"
    }
   ],
   "source": [
    "import matplotlib.pyplot as plt\n",
    "\n",
    "plt.scatter(\n",
    "    disabetes.data[:,2],\n",
    "    disabetes.target\n",
    ")\n",
    "\n",
    "plt.xlabel('bmi')\n",
    "\n",
    "plt.show()"
   ]
  },
  {
   "cell_type": "code",
   "execution_count": 83,
   "metadata": {},
   "outputs": [
    {
     "data": {
      "text/plain": [
       "array([[1.        , 0.58645013],\n",
       "       [0.58645013, 1.        ]])"
      ]
     },
     "execution_count": 83,
     "metadata": {},
     "output_type": "execute_result"
    }
   ],
   "source": [
    "# 상관 계수 알아보기\n",
    "import numpy as np\n",
    "\n",
    "np.corrcoef(disabetes.data[:,2],disabetes.target)"
   ]
  },
  {
   "attachments": {},
   "cell_type": "markdown",
   "metadata": {},
   "source": [
    "---\n",
    "### 경사 하강법\n",
    "- 경사하강법은 모델이 데이터를 잘 표현할 수 있도록 기울기(변화율)을 사용하여 모델을 조금씩 조정하는 최적화 알고리즘 <br><br>\n",
    "\n",
    "### 예측값과 변화율\n",
    "- 변화율 = 0 이 되는 것을 찾는 것이다. (기울기와 같은 의미이다.) <br><br>\n",
    "    - 변화율 = 0 : 최적화된 모델이다. <br><br>\n",
    "- $y - \\hat{y} = 0$ 인 것을 의미한다. <br><br>\n",
    "\n",
    "### 예측값($\\hat{y}$)\n",
    "- 예측값은 하나의 모델에서 수식의 결과로 나온 값 <br><br>\n",
    "    - 예측값이 정답값으로 수렴하게 만든다. <br><br>\n"
   ]
  },
  {
   "attachments": {},
   "cell_type": "markdown",
   "metadata": {},
   "source": [
    "---\n",
    "### 훈련데이터에서 잘맞는 w와 b를 찾는 방법\n",
    "1) 무작위로 w와 b를 정한다. <br><br>\n",
    "2) x에서 샘플하나를 선택하여 $\\hat{y}$을 계산 합니다. <br><br>\n",
    "3) $\\hat{y}$과 선택한 샘플의 진짜 ${y}$를 비교합니다. (오차 구하기) <br><br>\n",
    "4) $\\hat{y}$이 ${y}$와 가까와 지도록 w,b를 조정합니다. (모델 조정하기 : 학습하기) <br><br>\n",
    "5) 모든 샘플을 처리할 떄 까지 2) ~ 4) 항목을 반복한다."
   ]
  },
  {
   "cell_type": "code",
   "execution_count": 84,
   "metadata": {},
   "outputs": [],
   "source": [
    "# 훈련데이터의 Feature와 Target 정하기\n",
    "x = disabetes.data[:,2]\n",
    "y = disabetes.target"
   ]
  },
  {
   "cell_type": "code",
   "execution_count": 85,
   "metadata": {},
   "outputs": [],
   "source": [
    "# w와 b를 초기화 한다.\n",
    "w = 1.0\n",
    "b = 1.0"
   ]
  },
  {
   "attachments": {},
   "cell_type": "markdown",
   "metadata": {},
   "source": [
    "### 훈련데이터의 첫번째 sample 데이터로 $\\hat{y}$ 계산하기"
   ]
  },
  {
   "cell_type": "code",
   "execution_count": 86,
   "metadata": {},
   "outputs": [
    {
     "data": {
      "text/plain": [
       "1.0616962065186832"
      ]
     },
     "execution_count": 86,
     "metadata": {},
     "output_type": "execute_result"
    }
   ],
   "source": [
    "x[0] * w + b"
   ]
  },
  {
   "cell_type": "code",
   "execution_count": 87,
   "metadata": {},
   "outputs": [
    {
     "name": "stdout",
     "output_type": "stream",
     "text": [
      "151.0 , 1.0616962065186832\n"
     ]
    }
   ],
   "source": [
    "# target 과 예측 데이터 비교하기\n",
    "print(y[0] ,',' , x[0] * w + b)"
   ]
  },
  {
   "attachments": {},
   "cell_type": "markdown",
   "metadata": {},
   "source": [
    "#### - 당연한 결과지만 Target과 예측값이 너무 많은 차이가 발생한다. (오차가 너무 크다.)"
   ]
  },
  {
   "attachments": {},
   "cell_type": "markdown",
   "metadata": {},
   "source": [
    "### 경사 하강법(w 값을 조절하기)\n",
    ": w 와 b를 조금씩 변경해서 y_hat이 증가하는지 감소하는지 살펴보기 <br><br>\n",
    "- 논문에 쓰여 있지는 않지만, w와 b를 변경 시켰을 때 값이 얼마나 바뀌었는지 알고 있어야 된다. <br><br>\n",
    "- 변화율을 알아야 하니까 <br><br>"
   ]
  },
  {
   "cell_type": "code",
   "execution_count": 88,
   "metadata": {},
   "outputs": [],
   "source": [
    "# 0.1 올려보기 기울기\n",
    "w_inc = w + 0.1\n",
    "y_hat = w * x[0] + b\n",
    "y_hat_inc = w_inc * x[0] + b"
   ]
  },
  {
   "cell_type": "code",
   "execution_count": 89,
   "metadata": {},
   "outputs": [
    {
     "data": {
      "text/plain": [
       "0.06169620651868429"
      ]
     },
     "execution_count": 89,
     "metadata": {},
     "output_type": "execute_result"
    }
   ],
   "source": [
    "# 변화율 확인하기 : x[0] 값과 같다.\n",
    "(y_hat_inc - y_hat) / (w_inc - w)"
   ]
  },
  {
   "cell_type": "code",
   "execution_count": 90,
   "metadata": {},
   "outputs": [],
   "source": [
    "# 변화율에 대한 증명은 끝났으니 다시 훈련데이터의 1번째 값으로 변화율을 구해보자.\n",
    "w_inc = w + 10\n",
    "y_hat = w * x[0] + b\n",
    "y_hat_inc = w_inc * x[0] + b\n",
    "w_rate=(y_hat_inc - y_hat) / (w_inc - w)"
   ]
  },
  {
   "cell_type": "code",
   "execution_count": 91,
   "metadata": {},
   "outputs": [
    {
     "data": {
      "text/plain": [
       "1.0616962065186832"
      ]
     },
     "execution_count": 91,
     "metadata": {},
     "output_type": "execute_result"
    }
   ],
   "source": [
    "# 변화율을 가중치로 업데이트 하기 <- 학습하기\n",
    "w_new = w + w_rate\n",
    "w_new"
   ]
  },
  {
   "cell_type": "code",
   "execution_count": 92,
   "metadata": {},
   "outputs": [
    {
     "data": {
      "text/plain": [
       "1.0"
      ]
     },
     "execution_count": 92,
     "metadata": {},
     "output_type": "execute_result"
    }
   ],
   "source": [
    "# 변화율로 절편 업데이트 하기\n",
    "b_inc = b + 0.1\n",
    "y_hat_inc = w * x[0] + b_inc\n",
    "b_rate=(y_hat_inc - y_hat) / (b_inc - b)\n",
    "b_rate"
   ]
  },
  {
   "attachments": {},
   "cell_type": "markdown",
   "metadata": {},
   "source": [
    "### 오차 역전파 (backpropagation)"
   ]
  },
  {
   "cell_type": "code",
   "execution_count": 93,
   "metadata": {},
   "outputs": [
    {
     "name": "stdout",
     "output_type": "stream",
     "text": [
      "149.9383037934813 10.2506245559037 150.9383037934813\n"
     ]
    }
   ],
   "source": [
    "# 오차 역전파로 가중치와 절편을 업데이트 합니다. (손실함수(비용함수)를 구성함)\n",
    "# 오차 역전파는 y^ 과 y의 차이를 이용하여 w와 b를 업데이트 합니다.\n",
    "# 오차와 변화율을 곱하여 가중치를 업데이트 한다. \n",
    "\n",
    "err = y[0] - y_hat\n",
    "w_new = w + w_rate * err\n",
    "b_new = b + b_rate * err\n",
    "print(err, w_new , b_new)"
   ]
  },
  {
   "cell_type": "code",
   "execution_count": 94,
   "metadata": {},
   "outputs": [
    {
     "name": "stdout",
     "output_type": "stream",
     "text": [
      "-75.41066251735478 14.132317616380549 75.52764127612653\n"
     ]
    }
   ],
   "source": [
    "# 2번째 샘플 x[1]을 사용하고 오차를 구하고 새로운 w와 b를 구하기\n",
    "y_hat = w_new * x[1] + b_new\n",
    "err = y[1] - y_hat\n",
    "w_rate = x[1]\n",
    "w_new = w_new + w_rate * err\n",
    "b_new = b_new + b_rate * err\n",
    "print(err, w_new , b_new)"
   ]
  },
  {
   "attachments": {},
   "cell_type": "markdown",
   "metadata": {},
   "source": [
    "#### 반복문을 통해 전체 샘플을 반복하기"
   ]
  },
  {
   "cell_type": "code",
   "execution_count": 95,
   "metadata": {},
   "outputs": [
    {
     "name": "stdout",
     "output_type": "stream",
     "text": [
      "587.8654539985616 99.4093556453094\n"
     ]
    }
   ],
   "source": [
    "w = b = 1\n",
    "for x_i, y_i in zip(x,y):\n",
    "    y_hat = x_i * w + b\n",
    "    err = y_i - y_hat\n",
    "    w_rate = x_i\n",
    "    w = w + w_rate * err\n",
    "    b = b + err\n",
    "\n",
    "print(w , b)"
   ]
  },
  {
   "cell_type": "code",
   "execution_count": 96,
   "metadata": {},
   "outputs": [
    {
     "data": {
      "image/png": "[encoded data removed]",
      "text/plain": [
       "<Figure size 640x480 with 1 Axes>"
      ]
     },
     "metadata": {},
     "output_type": "display_data"
    }
   ],
   "source": [
    "import matplotlib.pyplot as plt\n",
    "\n",
    "plt.scatter(\n",
    "    disabetes.data[:,2],\n",
    "    disabetes.target\n",
    ")\n",
    "\n",
    "pt1 = [-0.1 , -0.1 * w + b]\n",
    "pt2 = [0.15 , 0.15 * w + b]\n",
    "\n",
    "plt.plot(\n",
    "    [pt1[0] , pt2[0]],\n",
    "    [pt1[1] , pt2[1]],\n",
    "    'r'\n",
    ")\n",
    "\n",
    "plt.show()"
   ]
  },
  {
   "attachments": {},
   "cell_type": "markdown",
   "metadata": {},
   "source": [
    "### Epoch(에포크 / 영어 : 이팍)로 반복하기 : w 와 b를 반복적으로 계산하기"
   ]
  },
  {
   "cell_type": "code",
   "execution_count": 97,
   "metadata": {},
   "outputs": [
    {
     "name": "stdout",
     "output_type": "stream",
     "text": [
      "913.5973364346786 123.39414383177173\n"
     ]
    }
   ],
   "source": [
    "w = b = 1\n",
    "for _ in range(100): # _ 들어가는게 의미가 없을 때\n",
    "    for x_i, y_i in zip(x,y):\n",
    "        y_hat = x_i * w + b\n",
    "        err = y_i - y_hat\n",
    "        w_rate = x_i\n",
    "        w = w + w_rate * err\n",
    "        b = b + err\n",
    "\n",
    "print(w , b)"
   ]
  },
  {
   "attachments": {},
   "cell_type": "markdown",
   "metadata": {},
   "source": [
    "---\n",
    "### 모델 만들기 정리\n",
    "1) w 와 b를 임의의 값 (1,1)로 초기화 하고 훈련데이터의 샘플을 하나씩 대입하여 y와 $\\hat{y}$의 오차를 구한다. <br><br>\n",
    "2) 1에서 구한 오차를 w와 b의 변화율에 곱하고 이 값을 이용하여 w와 b를 업데이트 한다. (학습한다) <br><br>\n",
    "3) 만약 y^이 y보다 커지는 오차는 음수가 되어 자동으로 w와 b가 줄어드는 방향으로 업데이트 한다.  <br><br>\n",
    "4) 반대로 y^이 y보다 작으면 오차는 양수가 되어 w와 b는 더 커지도록 업데이트 된다. <br><br>"
   ]
  },
  {
   "attachments": {},
   "cell_type": "markdown",
   "metadata": {},
   "source": [
    "---\n",
    "### 선형 회귀를 위한 Class 만들기"
   ]
  },
  {
   "cell_type": "code",
   "execution_count": 98,
   "metadata": {},
   "outputs": [],
   "source": [
    "class LRModel:\n",
    "    # 초기화 작업\n",
    "    def __init__(self):\n",
    "        self.w = 1.0 # 가중치를 초기화\n",
    "        self.b = 1.0 # bias를 초기화\n",
    "\n",
    "    # 정방향 계산\n",
    "    def forpass(self,x):\n",
    "        y_hat = x * self.w + self.b\n",
    "        return y_hat\n",
    "    \n",
    "    # 역방향 계산(오차율이 들어감)\n",
    "    def backprop(self,x,err):\n",
    "        w_grad = x * err\n",
    "        b_grad = 1 * err\n",
    "        return w_grad , b_grad\n",
    "    \n",
    "    # 훈련\n",
    "    def fit(self,x,y,epoch): # w,b는 처음에만 1로 초기화 되고 epoch의 크기에 따라 계속 바뀜\n",
    "        for _ in range(epoch):\n",
    "            for x_i , y_i in zip(x,y):\n",
    "                y_hat = self.forpass(x_i)\n",
    "                err = y_i - y_hat\n",
    "                w_grad , b_grad = self.backprop(x_i,err)\n",
    "                self.w += w_grad\n",
    "                self.b += b_grad\n",
    "        \n",
    "        return self.w , self.b"
   ]
  },
  {
   "cell_type": "code",
   "execution_count": 99,
   "metadata": {},
   "outputs": [
    {
     "name": "stdout",
     "output_type": "stream",
     "text": [
      "913.5973364346786 123.39414383177173\n"
     ]
    }
   ],
   "source": [
    "lrmodel = LRModel()\n",
    "\n",
    "w,b=lrmodel.fit(x,y,100)\n",
    "\n",
    "print(w,b)\n"
   ]
  },
  {
   "attachments": {},
   "cell_type": "markdown",
   "metadata": {},
   "source": [
    "---\n",
    "# 용어 정리\n",
    "### 선형 회귀\n",
    "선형방정식을 사용하여 연속적인 값을 예측하는 알고리즘으로 데이터를 가장 잘 표현하는 방정식의 계수를 구할 수 있다. <br><br>\n",
    "머신러닝 알고리즘이지만 딥러닝에서 사용하는 인공신경망 알고리즘의 기초가 된다. <br><br>\n",
    "\n",
    "### 경사하강법\n",
    "최적화 알고리즘 중의 하나로 핵심 훈련 알고리즘 이다. <br><br>\n",
    "이 방법은 최적의 모델을 만드는 가중치를 한번에 찾지 않습니다. <br><br>\n",
    "먼저 임의로 정한 가중치에서 출력을 만든 후 타깃과 비교하여 오차를 줄이는 방향으로 가중치를 조정한다. <br><br>\n",
    "이런 과정의 모든 훈련 샘플링에 대해서 반복하면서 최적의 가중치를 찾는다. \n",
    "\n",
    "### 손실 함수\n",
    "모델이 얼마 만큼의 오류가 있는지 측정하는 기준이다. <br><br>\n",
    "함수의 값을 최소로 만드는 것이 이 모델 훈련의 목적이다. <br><br>\n",
    "비용함수(cost function)또는 목적함수(objective function)이라고도 부른다. <br><br>\n",
    "\n",
    "### 선형회귀 -> 로지스틱 회귀 -> 인공신경망 -> 딥러닝"
   ]
  }
 ],
 "metadata": {
  "kernelspec": {
   "display_name": "tensorflow",
   "language": "python",
   "name": "python3"
  },
  "language_info": {
   "codemirror_mode": {
    "name": "ipython",
    "version": 3
   },
   "file_extension": ".py",
   "mimetype": "text/x-python",
   "name": "python",
   "nbconvert_exporter": "python",
   "pygments_lexer": "ipython3",
   "version": "3.9.13"
  },
  "orig_nbformat": 4,
  "vscode": {
   "interpreter": {
    "hash": "a3680a952170aa4879024e73d39878b7aac962f0b16bced1a9689b2321800c8b"
   }
  }
 },
 "nbformat": 4,
 "nbformat_minor": 2
}

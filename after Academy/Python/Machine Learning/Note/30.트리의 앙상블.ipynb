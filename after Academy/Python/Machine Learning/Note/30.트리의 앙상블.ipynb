{
 "cells": [
  {
   "cell_type": "code",
   "execution_count": 1,
   "metadata": {},
   "outputs": [],
   "source": [
    "import warnings\n",
    "warnings.filterwarnings('ignore')"
   ]
  },
  {
   "attachments": {},
   "cell_type": "markdown",
   "metadata": {},
   "source": [
    "### 앙상블(Ensemble)\n",
    "- 여러개의 분류 모델을 조합해서 더 나은 성능을 내는 방법 <br><br>\n",
    "- Decision Tree모델을 증가시켜 나온 RandomForest가 대표적임 <br><br>\n",
    "\n",
    "### RandomForest 생각을 해보자 \n",
    "- 전체 데이터를 가지고 decision tree를 10번돌리나 1번돌리나 100번돌리나 똑같을 것이다 <br><br>\n",
    "- 그럼 왜 RandomForest를 쓸까? <br><br>\n",
    "- 이렇게 안쓰니까 쓰는거다. 어떻게 쓰냐? <br><br>\n",
    "- 데이터를 랜덤하게 중복을 허용해서 몇 개를 뽑아서 의사결정 나무를 돌리고 하는 것이다. <br><br>\n",
    "- 이렇게 하는 걸 부트스트랩이라고 한다. <br><br>\n",
    "\n",
    "### RandomForest\n",
    "- 부트스트랩 샘플을 사용합니다. 부트스트랩 샘플링은 중복을 허용하는 샘플링 방법<br><br>\n",
    "- 샘플링 후에 샘플을 다시 복구하고 다시 샘플링 하는 방법 입니다.<br><br>\n",
    "- 이와 같이 진행하는 이유는 결정트리에서 과대적합을 방지 할 수 있기 때문이다. <br><br>\n",
    "- 각 결정트리에서 나오는 확률의 합을 트리갯수로 나누어 결정짓는 모델 <br><br>\n",
    "- 특성의 갯수를 제곱근으로 한 것을 샘플링 하는 갯수로 한다. <br><br>\n",
    "    - 피타고라스 법칙 생각하면 된다는데?? 모르겠다 <br><br>"
   ]
  },
  {
   "cell_type": "code",
   "execution_count": 14,
   "metadata": {},
   "outputs": [
    {
     "name": "stdout",
     "output_type": "stream",
     "text": [
      "<class 'pandas.core.frame.DataFrame'>\n",
      "RangeIndex: 6497 entries, 0 to 6496\n",
      "Data columns (total 4 columns):\n",
      " #   Column   Non-Null Count  Dtype  \n",
      "---  ------   --------------  -----  \n",
      " 0   alcohol  6497 non-null   float64\n",
      " 1   sugar    6497 non-null   float64\n",
      " 2   pH       6497 non-null   float64\n",
      " 3   class    6497 non-null   float64\n",
      "dtypes: float64(4)\n",
      "memory usage: 203.2 KB\n"
     ]
    }
   ],
   "source": [
    "import pandas as pd\n",
    "\n",
    "wine = pd.read_csv('../Data/wine.csv')\n",
    "wine.head()\n",
    "wine.info()"
   ]
  },
  {
   "cell_type": "code",
   "execution_count": 3,
   "metadata": {},
   "outputs": [],
   "source": [
    "data = wine.iloc[:,:3].to_numpy()\n",
    "target = wine['class'].to_numpy()"
   ]
  },
  {
   "cell_type": "code",
   "execution_count": 4,
   "metadata": {},
   "outputs": [],
   "source": [
    "from sklearn.model_selection import train_test_split\n",
    "\n",
    "train_input , test_input , train_target , test_target = \\\n",
    "    train_test_split(data,target,test_size=0.2,random_state=42)"
   ]
  },
  {
   "cell_type": "code",
   "execution_count": 15,
   "metadata": {},
   "outputs": [
    {
     "name": "stdout",
     "output_type": "stream",
     "text": [
      "0.9974503966084433\n",
      "0.8903224254090472\n"
     ]
    }
   ],
   "source": [
    "# RandomForest 모델\n",
    "import numpy as np\n",
    "from sklearn.ensemble import RandomForestClassifier\n",
    "from sklearn.model_selection import cross_validate\n",
    "\n",
    "rf = RandomForestClassifier(\n",
    "    n_jobs=-1,\n",
    "    random_state=42\n",
    ")\n",
    "\n",
    "scores = cross_validate(rf,train_input,train_target,return_train_score=True,n_jobs=-1)\n",
    "\n",
    "print(np.mean(scores['train_score']))\n",
    "print(np.mean(scores['test_score']))"
   ]
  },
  {
   "cell_type": "code",
   "execution_count": 13,
   "metadata": {},
   "outputs": [
    {
     "name": "stdout",
     "output_type": "stream",
     "text": [
      "[0.23140085 0.50085363 0.26774553]\n"
     ]
    }
   ],
   "source": [
    "# 주요 feature 확인\n",
    "rf.fit(train_input,train_target)\n",
    "print(rf.feature_importances_)"
   ]
  },
  {
   "cell_type": "code",
   "execution_count": 18,
   "metadata": {},
   "outputs": [
    {
     "name": "stdout",
     "output_type": "stream",
     "text": [
      "0.9973541965122431\n",
      "0.8905151032797809\n"
     ]
    },
    {
     "data": {
      "text/plain": [
       "0.8934000384837406"
      ]
     },
     "execution_count": 18,
     "metadata": {},
     "output_type": "execute_result"
    }
   ],
   "source": [
    "# 부트스트랩 결정 시 남는 샘플 (oob : out of back)도 특성으로 구분할 수 있다. \n",
    "rf = RandomForestClassifier(oob_score=True,n_jobs=-1,random_state=42)\n",
    "\n",
    "scores = cross_validate(rf,train_input,train_target,return_train_score=True,n_jobs=-1)\n",
    "\n",
    "print(np.mean(scores['train_score']))\n",
    "print(np.mean(scores['test_score']))\n",
    "\n",
    "rf.fit(train_input,train_target)\n",
    "rf.oob_score_ # 검증 세트의 결과라고 봐도 무방하다"
   ]
  },
  {
   "attachments": {},
   "cell_type": "markdown",
   "metadata": {},
   "source": [
    "> ### oob를 사용해도 90%의 예측이 나온다. \n",
    "> ### 따로 검증셋을 구성하지 않아도 oob로 검증세트의 역할을 대신할 수 있다.\n",
    "\n",
    "<br>\n",
    "\n",
    "> ### RandomForest는 기본값 만으로도 높은 성능을 발휘하므로 자주 사용되는 모델(알고리즘)중 하나이다."
   ]
  },
  {
   "attachments": {},
   "cell_type": "markdown",
   "metadata": {},
   "source": [
    "---\n",
    "### Extra Tree\n",
    "- 기본적으로 100개의 트리를 사용 <br><br>\n",
    "- 노드 분할시 특성의 제곱근의 갯수로 사용 <br><br>\n",
    "- 특성의 선택을 랜덤하게 선택한다. <br><br>\n",
    "    - 데이터가 아니라 특성을 선택해서 하기 때문에 빠르다. <br><br>\n",
    "- 특성의 선택을 랜덤하게 하므로 속도는 랜덤포레스트보다 빠르다. <br><br>"
   ]
  },
  {
   "cell_type": "code",
   "execution_count": 19,
   "metadata": {},
   "outputs": [
    {
     "name": "stdout",
     "output_type": "stream",
     "text": [
      "0.9974503966084433\n",
      "0.8887848893166506\n"
     ]
    }
   ],
   "source": [
    "from sklearn.ensemble import ExtraTreesClassifier\n",
    "\n",
    "et = ExtraTreesClassifier(n_jobs=-1,random_state=42)\n",
    "scores = cross_validate(et,train_input,train_target,return_train_score=True,n_jobs=-1)\n",
    "\n",
    "print(np.mean(scores['train_score']))\n",
    "print(np.mean(scores['test_score']))"
   ]
  },
  {
   "cell_type": "code",
   "execution_count": 20,
   "metadata": {},
   "outputs": [
    {
     "data": {
      "text/plain": [
       "array([0.20183568, 0.52242907, 0.27573525])"
      ]
     },
     "execution_count": 20,
     "metadata": {},
     "output_type": "execute_result"
    }
   ],
   "source": [
    "et.fit(train_input, train_target)\n",
    "et.feature_importances_"
   ]
  },
  {
   "attachments": {},
   "cell_type": "markdown",
   "metadata": {},
   "source": [
    "---\n",
    "### Gradient Boosting (그레디언트 부스팅)\n",
    "- 가장 유명한 알고리즘 중 하나이다. <br><br>\n",
    "- 경사하강법 처럼 손실함수를 사용한다. <br><br>\n",
    "- 손실함수를 보고 트리를 추가하여 최적의 값을 도출하는 방법 <br><br>\n",
    "- 경사를 이동하면서 경사의 이동거리를 제어하는 learning-rate(default : 0.1)를 사용한다. <br><br>\n",
    "- max depth를 3으로 제어하여 깊이가 낮으므로 과대적합 방지 <br><br>\n",
    "- 단점은 손실함수를 보고 트리를 추가하면서 진행하는 모델이므로 병렬처리를 할 수 없다. <br><br>"
   ]
  },
  {
   "cell_type": "code",
   "execution_count": 22,
   "metadata": {},
   "outputs": [
    {
     "name": "stdout",
     "output_type": "stream",
     "text": [
      "0.8513568274934645\n",
      "0.8474144887835937\n"
     ]
    }
   ],
   "source": [
    "from sklearn.ensemble import GradientBoostingClassifier\n",
    "\n",
    "gb = GradientBoostingClassifier(random_state=42)\n",
    "scores = cross_validate(gb, train_input, train_target, return_train_score=True,n_jobs=-1)\n",
    "\n",
    "print(np.mean(scores['train_score']))\n",
    "print(np.mean(scores['test_score']))"
   ]
  },
  {
   "attachments": {},
   "cell_type": "markdown",
   "metadata": {},
   "source": [
    "tree 추가를 500개까지 하고 learning rate를 0.2로 변경하자"
   ]
  },
  {
   "cell_type": "code",
   "execution_count": 31,
   "metadata": {},
   "outputs": [
    {
     "name": "stdout",
     "output_type": "stream",
     "text": [
      "0.9464595437171814\n",
      "0.8780082549788999\n"
     ]
    }
   ],
   "source": [
    "gb = GradientBoostingClassifier(random_state=42,learning_rate=0.2,n_estimators=500)\n",
    "scores = cross_validate(gb, train_input, train_target, return_train_score=True,n_jobs=-1)\n",
    "\n",
    "print(np.mean(scores['train_score']))\n",
    "print(np.mean(scores['test_score']))"
   ]
  },
  {
   "cell_type": "code",
   "execution_count": 32,
   "metadata": {},
   "outputs": [
    {
     "data": {
      "text/plain": [
       "array([0.15872278, 0.68010884, 0.16116839])"
      ]
     },
     "execution_count": 32,
     "metadata": {},
     "output_type": "execute_result"
    }
   ],
   "source": [
    "gb.fit(train_input,train_target)\n",
    "gb.feature_importances_"
   ]
  },
  {
   "attachments": {},
   "cell_type": "markdown",
   "metadata": {},
   "source": [
    "---\n",
    "### 히스토그램 기반 그레디언트 부스팅(Histogram gradient boosting)\n",
    "- 훈련데이터를 256개 구간으로 나누어서 훈련시키는 방법.\n",
    "- 특성의 범위가 제한되어 있어 빠른 속도를 제공한다.\n",
    "- 제한된 구간이므로 과대적합을 방지한다.\n",
    "- 아직은 실험단계인 모델이다."
   ]
  },
  {
   "cell_type": "code",
   "execution_count": 33,
   "metadata": {},
   "outputs": [
    {
     "name": "stdout",
     "output_type": "stream",
     "text": [
      "0.9321723946453317\n",
      "0.8801241948619236\n"
     ]
    },
    {
     "name": "stderr",
     "output_type": "stream",
     "text": [
      "/Users/kwonsoonhyong/miniforge3/envs/tensorflow/lib/python3.9/site-packages/sklearn/experimental/enable_hist_gradient_boosting.py:16: UserWarning: Since version 1.0, it is not needed to import enable_hist_gradient_boosting anymore. HistGradientBoostingClassifier and HistGradientBoostingRegressor are now stable and can be normally imported from sklearn.ensemble.\n",
      "  warnings.warn(\n"
     ]
    }
   ],
   "source": [
    "from sklearn.experimental import enable_hist_gradient_boosting\n",
    "from sklearn.ensemble import HistGradientBoostingClassifier\n",
    "\n",
    "hgb = HistGradientBoostingClassifier(random_state=42)\n",
    "scores = cross_validate(hgb,train_input,train_target,return_train_score=True,n_jobs=-1)\n",
    "print(np.mean(scores['train_score']))\n",
    "print(np.mean(scores['test_score']))"
   ]
  },
  {
   "attachments": {},
   "cell_type": "markdown",
   "metadata": {},
   "source": [
    "### XGBoost\n",
    "- kaggle에서 많이 사용"
   ]
  },
  {
   "cell_type": "code",
   "execution_count": 34,
   "metadata": {},
   "outputs": [
    {
     "name": "stdout",
     "output_type": "stream",
     "text": [
      "Collecting xgboost\n",
      "  Downloading xgboost-1.7.3-py3-none-macosx_12_0_arm64.whl (1.6 MB)\n",
      "\u001b[2K     \u001b[90m━━━━━━━━━━━━━━━━━━━━━━━━━━━━━━━━━━━━━━━━\u001b[0m \u001b[32m1.6/1.6 MB\u001b[0m \u001b[31m3.8 MB/s\u001b[0m eta \u001b[36m0:00:00\u001b[0ma \u001b[36m0:00:01\u001b[0m\n",
      "\u001b[?25hRequirement already satisfied: scipy in /Users/kwonsoonhyong/miniforge3/envs/tensorflow/lib/python3.9/site-packages (from xgboost) (1.10.0)\n",
      "Requirement already satisfied: numpy in /Users/kwonsoonhyong/miniforge3/envs/tensorflow/lib/python3.9/site-packages (from xgboost) (1.23.2)\n",
      "Installing collected packages: xgboost\n",
      "Successfully installed xgboost-1.7.3\n"
     ]
    }
   ],
   "source": [
    "!pip install xgboost"
   ]
  },
  {
   "cell_type": "code",
   "execution_count": 37,
   "metadata": {},
   "outputs": [
    {
     "name": "stderr",
     "output_type": "stream",
     "text": [
      "/Users/kwonsoonhyong/miniforge3/envs/tensorflow/lib/python3.9/site-packages/xgboost/sklearn.py:1395: UserWarning: `use_label_encoder` is deprecated in 1.7.0.\n",
      "  warnings.warn(\"`use_label_encoder` is deprecated in 1.7.0.\")\n",
      "/Users/kwonsoonhyong/miniforge3/envs/tensorflow/lib/python3.9/site-packages/xgboost/sklearn.py:1395: UserWarning: `use_label_encoder` is deprecated in 1.7.0.\n",
      "  warnings.warn(\"`use_label_encoder` is deprecated in 1.7.0.\")\n"
     ]
    },
    {
     "name": "stdout",
     "output_type": "stream",
     "text": [
      "[18:10:01] WARNING: /Users/runner/work/xgboost/xgboost/python-package/build/temp.macosx-11.0-arm64-cpython-38/xgboost/src/learner.cc:767: \n",
      "Parameters: { \"eval_metrics\" } are not used.\n",
      "\n",
      "[18:10:01] WARNING: /Users/runner/work/xgboost/xgboost/python-package/build/temp.macosx-11.0-arm64-cpython-38/xgboost/src/learner.cc:767: \n",
      "Parameters: { \"eval_metrics\" } are not used.\n",
      "\n",
      "[18:10:01] WARNING: /Users/runner/work/xgboost/xgboost/python-package/build/temp.macosx-11.0-arm64-cpython-38/xgboost/src/learner.cc:767: \n",
      "Parameters: { \"eval_metrics\" } are not used.\n",
      "\n",
      "[18:10:01] WARNING: /Users/runner/work/xgboost/xgboost/python-package/build/temp.macosx-11.0-arm64-cpython-38/xgboost/src/learner.cc:767: \n",
      "Parameters: { \"eval_metrics\" } are not used.\n",
      "\n",
      "[18:10:01] WARNING: /Users/runner/work/xgboost/xgboost/python-package/build/temp.macosx-11.0-arm64-cpython-38/xgboost/src/learner.cc:767: \n",
      "Parameters: { \"eval_metrics\" } are not used.\n",
      "\n",
      "0.9555033709953124\n",
      "0.8799326275264677\n"
     ]
    }
   ],
   "source": [
    "from xgboost import XGBClassifier\n",
    "\n",
    "xgb = XGBClassifier(\n",
    "    tree_method = 'hist',\n",
    "    random_state = 42,\n",
    "    use_label_encoder = False,\n",
    "    eval_metrics = 'logloss' # 히스토그램 그레디언트 부스팅을 갔다가 쓰겠다는 것이다. \n",
    ")\n",
    "\n",
    "scores = cross_validate(xgb,train_input,train_target,return_train_score=True,n_jobs=-1)\n",
    "print(np.mean(scores['train_score']))\n",
    "print(np.mean(scores['test_score']))"
   ]
  },
  {
   "attachments": {},
   "cell_type": "markdown",
   "metadata": {},
   "source": [
    "---\n",
    "### 번외 기능\n",
    "#### Permutaion Importance (치환 중요도)\n",
    "- 각 Feature별 Sample을 섞어서 계산을 한 후에 원래 Sample들과의 차이를 계산해서 차이가 많이 나는 Feature가 중요하다고 판단 <br><br>\n",
    "- 즉 어느 Feature가 중요한지 파악하는 방법 <br><br>\n",
    "- 어떤 모델에도 사용가능하며 특정을 파악하는 주요 기준으로 사용가능하다. (권장사항) <br><br>"
   ]
  },
  {
   "cell_type": "code",
   "execution_count": 41,
   "metadata": {},
   "outputs": [
    {
     "data": {
      "text/plain": [
       "array([0.09661343, 0.24265923, 0.09120647])"
      ]
     },
     "execution_count": 41,
     "metadata": {},
     "output_type": "execute_result"
    }
   ],
   "source": [
    "from sklearn.inspection import permutation_importance\n",
    "\n",
    "# 컬럼들의 index를 막 섞어 놓고 중요도를 보는 것\n",
    "gb.fit(train_input,train_target)\n",
    "result = permutation_importance(gb,train_input,train_target,n_repeats=10,random_state=42,n_jobs=-1)\n",
    "result.importances_mean"
   ]
  },
  {
   "attachments": {},
   "cell_type": "markdown",
   "metadata": {},
   "source": [
    "### Permutation Importace 한 후에 컬럼별 중요도 판단할 수 있는 방법\n",
    "- 후에 중요도의 확률이 낮아지면 그 컬럼은 중요하다고 할 수 있다. \n",
    "\n",
    "|1|2|\n",
    "|---|---|\n",
    "|원래|array([0.15872278, 0.68010884, 0.16116839])|\n",
    "|permutaion importance 후|array([0.09661343, 0.24265923, 0.09120647])|\n"
   ]
  },
  {
   "attachments": {},
   "cell_type": "markdown",
   "metadata": {},
   "source": [
    "---\n",
    "# 앙상블 정리\n",
    "- 앙상블 학습은 정형데이터에서 가장 뛰어난 성능을 내는 머신러닝 알고리즘 중 하나 입니다. \n",
    "\n",
    "### 랜덤포레스트\n",
    "- 부트스트랩 샘플 사용. 대표 앙상블 학습 알고리즘이다. \n",
    "\n",
    "### 엑스트라 트리\n",
    "- 결정트리의 노드를 랜덤하게 분할함.\n",
    "\n",
    "### gradient boosting\n",
    "- 트리의 손실을 보완하는 식으로 얕은 결정트리를 연속하여 추가함.\n",
    "\n",
    "### 히스토그램 기반 그레디언트 부스팅\n",
    "- 훈련데이터를 256개 정수 구간으로 나누어 빠르고 높은 성능을 냄.\n",
    "\n",
    "### 기타\n",
    "- XGBoost"
   ]
  },
  {
   "cell_type": "code",
   "execution_count": null,
   "metadata": {},
   "outputs": [],
   "source": []
  }
 ],
 "metadata": {
  "kernelspec": {
   "display_name": "tensorflow",
   "language": "python",
   "name": "python3"
  },
  "language_info": {
   "codemirror_mode": {
    "name": "ipython",
    "version": 3
   },
   "file_extension": ".py",
   "mimetype": "text/x-python",
   "name": "python",
   "nbconvert_exporter": "python",
   "pygments_lexer": "ipython3",
   "version": "3.9.13"
  },
  "orig_nbformat": 4,
  "vscode": {
   "interpreter": {
    "hash": "a3680a952170aa4879024e73d39878b7aac962f0b16bced1a9689b2321800c8b"
   }
  }
 },
 "nbformat": 4,
 "nbformat_minor": 2
}

{
 "cells": [
  {
   "attachments": {},
   "cell_type": "markdown",
   "metadata": {},
   "source": [
    "# 예외처리\n",
    "\n",
    "- scrapy : 크롤링할 때 사용\n",
    "- 크롤링 시에 html에 div를 이용해서 내가 원하는 데이터만 가져오는데, 이럴 때 오류가 있는 페이지들이 있어서 try catch가 필요하다."
   ]
  },
  {
   "cell_type": "code",
   "execution_count": 9,
   "metadata": {},
   "outputs": [
    {
     "name": "stdout",
     "output_type": "stream",
     "text": [
      "error\n"
     ]
    }
   ],
   "source": [
    "# Example\n",
    "try:\n",
    "    4 / 0\n",
    "except:\n",
    "    print('error')"
   ]
  },
  {
   "cell_type": "code",
   "execution_count": 2,
   "metadata": {},
   "outputs": [
    {
     "name": "stdout",
     "output_type": "stream",
     "text": [
      "1\n",
      "error\n",
      "2\n",
      "error\n",
      "3\n",
      "error\n",
      "4\n",
      "error\n",
      "5\n",
      "error\n",
      "6\n",
      "error\n",
      "7\n",
      "error\n",
      "8\n",
      "error\n",
      "9\n",
      "error\n",
      "10\n",
      "error\n"
     ]
    }
   ],
   "source": [
    "# Example 01\n",
    "for i in range(1,11):\n",
    "    try:\n",
    "        print(i)\n",
    "        4 / 0\n",
    "    except:\n",
    "        print('error')\n",
    "        pass"
   ]
  },
  {
   "cell_type": "code",
   "execution_count": 13,
   "metadata": {},
   "outputs": [
    {
     "name": "stdout",
     "output_type": "stream",
     "text": [
      "1번쨰 줄 입니다.\n",
      "2번쨰 줄 입니다.\n",
      "3번쨰 줄 입니다.\n",
      "4번쨰 줄 입니다.\n",
      "5번쨰 줄 입니다.\n",
      "6번쨰 줄 입니다.\n",
      "7번쨰 줄 입니다.\n",
      "8번쨰 줄 입니다.\n",
      "9번쨰 줄 입니다.\n",
      "10번쨰 줄 입니다.\n",
      "\n"
     ]
    }
   ],
   "source": [
    "# Example 02 -> try catch final 과 같은 거\n",
    "try:\n",
    "    f = open('./Data/new2.txt','r')\n",
    "except:\n",
    "    print('file not found')\n",
    "else:\n",
    "    print(f.read())\n",
    "    f.close()"
   ]
  },
  {
   "cell_type": "code",
   "execution_count": 14,
   "metadata": {},
   "outputs": [
    {
     "name": "stdout",
     "output_type": "stream",
     "text": [
      "[Errno 2] No such file or directory: './Data/text.txt'\n"
     ]
    }
   ],
   "source": [
    "# Example 03 -> 모든 예외 처리 문구 보기 위한 처리\n",
    "try:\n",
    "    f = open('./Data/text.txt','r')\n",
    "except Exception as e:\n",
    "    print(e)\n",
    "else:\n",
    "    print(f.read())\n",
    "    f.close()"
   ]
  },
  {
   "cell_type": "code",
   "execution_count": null,
   "metadata": {},
   "outputs": [],
   "source": []
  }
 ],
 "metadata": {
  "kernelspec": {
   "display_name": "tensorflow",
   "language": "python",
   "name": "python3"
  },
  "language_info": {
   "codemirror_mode": {
    "name": "ipython",
    "version": 3
   },
   "file_extension": ".py",
   "mimetype": "text/x-python",
   "name": "python",
   "nbconvert_exporter": "python",
   "pygments_lexer": "ipython3",
   "version": "3.9.13"
  },
  "orig_nbformat": 4,
  "vscode": {
   "interpreter": {
    "hash": "a3680a952170aa4879024e73d39878b7aac962f0b16bced1a9689b2321800c8b"
   }
  }
 },
 "nbformat": 4,
 "nbformat_minor": 2
}

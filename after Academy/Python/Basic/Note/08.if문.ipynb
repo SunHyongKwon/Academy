{
 "cells": [
  {
   "attachments": {},
   "cell_type": "markdown",
   "metadata": {},
   "source": [
    "# if문"
   ]
  },
  {
   "cell_type": "code",
   "execution_count": 1,
   "metadata": {},
   "outputs": [],
   "source": [
    "from random import randint"
   ]
  },
  {
   "cell_type": "code",
   "execution_count": 2,
   "metadata": {},
   "outputs": [],
   "source": [
    "x = randint(1,100)"
   ]
  },
  {
   "cell_type": "code",
   "execution_count": 3,
   "metadata": {},
   "outputs": [
    {
     "name": "stdout",
     "output_type": "stream",
     "text": [
      "x is greater than 50\n"
     ]
    }
   ],
   "source": [
    "if x > 50:\n",
    "    print('x is greater than 50')\n",
    "else:\n",
    "    print('x is smaller than 50')"
   ]
  },
  {
   "cell_type": "code",
   "execution_count": 4,
   "metadata": {},
   "outputs": [
    {
     "name": "stdout",
     "output_type": "stream",
     "text": [
      "홀수\n"
     ]
    }
   ],
   "source": [
    "# 홀짝수 구분\n",
    "x = 9 \n",
    "if x % 2 == 0:\n",
    "    print('짝수')\n",
    "else:\n",
    "    print('홀수')"
   ]
  },
  {
   "cell_type": "code",
   "execution_count": 7,
   "metadata": {},
   "outputs": [
    {
     "name": "stdout",
     "output_type": "stream",
     "text": [
      "x is same as 50\n"
     ]
    }
   ],
   "source": [
    "x = int(input(\"숫자를 입력하세요: \"))\n",
    "\n",
    "if x > 50:\n",
    "    print('x is greater than 50')\n",
    "elif x < 50:\n",
    "    print('x is smaller than 50')\n",
    "else:\n",
    "    print('x is same as 50')"
   ]
  },
  {
   "cell_type": "code",
   "execution_count": 18,
   "metadata": {},
   "outputs": [
    {
     "name": "stdout",
     "output_type": "stream",
     "text": [
      "점수는 50 이고 F학점 입니다.\n",
      "점수는 50 이고 F학점 입니다.\n",
      "점수는 50 이고 F학점 입니다.\n"
     ]
    }
   ],
   "source": [
    "# 사용자로 부터 정수를 입력받아 학점 계산하기\n",
    "score = int(input(\"점수를 입력해주세요 : \"))\n",
    "\n",
    "grade = ['F','F','F','F','F','F','D','C','B','A','A']\n",
    "grade3 = ['F','D','C','B','A']\n",
    "\n",
    "score2 =score // 10\n",
    "print(f'점수는 {score} 이고 {grade[score2]}학점 입니다.')\n",
    "\n",
    "if score >= 90:\n",
    "    grade2 = 'A'\n",
    "    index = 4\n",
    "elif score >= 80:\n",
    "    grade2 = 'B'\n",
    "    index = 3\n",
    "elif score >= 70:\n",
    "    grade2 = 'C'\n",
    "    index = 2\n",
    "elif score >= 60:\n",
    "    grade2 = 'D'\n",
    "    index = 1\n",
    "else:\n",
    "    grade2 = 'F'\n",
    "    index = 0\n",
    "\n",
    "print(f'점수는 {score} 이고 {grade2}학점 입니다.')\n",
    "print(f'점수는 {score} 이고 {grade3[index]}학점 입니다.')"
   ]
  },
  {
   "cell_type": "code",
   "execution_count": 33,
   "metadata": {},
   "outputs": [
    {
     "name": "stdout",
     "output_type": "stream",
     "text": [
      "64.0\n"
     ]
    }
   ],
   "source": [
    "import math\n",
    "\n",
    "num = int(input(\"숫자를 입력해주세요: \"))\n",
    "\n",
    "print(math.sqrt(num)) if not num % 5 else print(math.pow(num,2)) if not num % 4 else print(num)"
   ]
  },
  {
   "attachments": {},
   "cell_type": "markdown",
   "metadata": {},
   "source": [
    "---\n",
    "### 삼항연산자 "
   ]
  },
  {
   "cell_type": "code",
   "execution_count": 30,
   "metadata": {},
   "outputs": [
    {
     "name": "stdout",
     "output_type": "stream",
     "text": [
      "12\n"
     ]
    }
   ],
   "source": [
    "num = 4\n",
    "result = 0\n",
    "\n",
    "result = num * 2 if num >= 5 else num*3 if num >=3 else num * 4 if num >= 2 else num\n",
    "print(result)"
   ]
  },
  {
   "attachments": {},
   "cell_type": "markdown",
   "metadata": {},
   "source": [
    "---\n",
    "### listed for문"
   ]
  },
  {
   "cell_type": "code",
   "execution_count": 35,
   "metadata": {},
   "outputs": [
    {
     "data": {
      "text/plain": [
       "[5, 10, 15, 20]"
      ]
     },
     "execution_count": 35,
     "metadata": {},
     "output_type": "execute_result"
    }
   ],
   "source": [
    "var01 = [1,2,3,4]\n",
    "var02 = [i * 5 for i in var01]\n",
    "var02"
   ]
  },
  {
   "cell_type": "code",
   "execution_count": 41,
   "metadata": {},
   "outputs": [
    {
     "data": {
      "text/plain": [
       "[1, 10, 3, 20]"
      ]
     },
     "execution_count": 41,
     "metadata": {},
     "output_type": "execute_result"
    }
   ],
   "source": [
    "var03 = [i * 5 if not i % 2 else i for i in var01]\n",
    "var03"
   ]
  },
  {
   "cell_type": "code",
   "execution_count": 45,
   "metadata": {},
   "outputs": [
    {
     "name": "stdout",
     "output_type": "stream",
     "text": [
      "카드로 택시타기\n"
     ]
    }
   ],
   "source": [
    "pocket = ['paper','smartphone']\n",
    "card = 1\n",
    "\n",
    "if 'money' in pocket:\n",
    "    print('현금으로 택시 타기')\n",
    "elif card:\n",
    "    print('카드로 택시타기')\n",
    "else:\n",
    "    print('걸어가기')"
   ]
  },
  {
   "cell_type": "code",
   "execution_count": 48,
   "metadata": {},
   "outputs": [
    {
     "name": "stdout",
     "output_type": "stream",
     "text": [
      "택시 타기\n"
     ]
    }
   ],
   "source": [
    "money = 2000\n",
    "card = True\n",
    "\n",
    "if money >= 3000 or card:\n",
    "    print('택시 타기')\n",
    "else:\n",
    "    print('걸어가기')"
   ]
  },
  {
   "cell_type": "code",
   "execution_count": null,
   "metadata": {},
   "outputs": [],
   "source": []
  }
 ],
 "metadata": {
  "kernelspec": {
   "display_name": "Python 3",
   "language": "python",
   "name": "python3"
  },
  "language_info": {
   "codemirror_mode": {
    "name": "ipython",
    "version": 3
   },
   "file_extension": ".py",
   "mimetype": "text/x-python",
   "name": "python",
   "nbconvert_exporter": "python",
   "pygments_lexer": "ipython3",
   "version": "3.9.6 (default, Oct 18 2022, 12:41:40) \n[Clang 14.0.0 (clang-1400.0.29.202)]"
  },
  "orig_nbformat": 4,
  "vscode": {
   "interpreter": {
    "hash": "31f2aee4e71d21fbe5cf8b01ff0e069b9275f58929596ceb00d14d90e3e16cd6"
   }
  }
 },
 "nbformat": 4,
 "nbformat_minor": 2
}

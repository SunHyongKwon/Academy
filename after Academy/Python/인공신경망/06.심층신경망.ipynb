{
 "cells": [
  {
   "attachments": {},
   "cell_type": "markdown",
   "metadata": {},
   "source": [
    "### 심층신경망\n",
    "- hidden layer가 여러개 인것 을 심층 신경망이라고 한다. "
   ]
  },
  {
   "attachments": {},
   "cell_type": "markdown",
   "metadata": {},
   "source": [
    "### 패션 MNIST로 해보기"
   ]
  },
  {
   "cell_type": "code",
   "execution_count": 1,
   "metadata": {},
   "outputs": [],
   "source": [
    "from tensorflow import keras"
   ]
  },
  {
   "cell_type": "code",
   "execution_count": 2,
   "metadata": {},
   "outputs": [],
   "source": [
    "(train_input, train_target),(test_input,test_target)=keras.datasets.fashion_mnist.load_data()"
   ]
  },
  {
   "cell_type": "code",
   "execution_count": 3,
   "metadata": {},
   "outputs": [],
   "source": [
    "from sklearn.model_selection import train_test_split"
   ]
  },
  {
   "cell_type": "code",
   "execution_count": 4,
   "metadata": {},
   "outputs": [
    {
     "data": {
      "text/plain": [
       "(60000, 28, 28)"
      ]
     },
     "execution_count": 4,
     "metadata": {},
     "output_type": "execute_result"
    }
   ],
   "source": [
    "train_input.shape"
   ]
  },
  {
   "cell_type": "code",
   "execution_count": 5,
   "metadata": {},
   "outputs": [],
   "source": [
    "train_scaled = train_input.reshape(-1,28*28)\n",
    "train_scaled = train_scaled / 255.0"
   ]
  },
  {
   "cell_type": "code",
   "execution_count": 6,
   "metadata": {},
   "outputs": [],
   "source": [
    "train_scaled , val_scaled , train_target , val_target = \\\n",
    "    train_test_split(train_scaled,train_target,test_size=0.2)"
   ]
  },
  {
   "attachments": {},
   "cell_type": "markdown",
   "metadata": {},
   "source": [
    "### input layer , hidden layers , output layer\n",
    "- hidden layers는 output layer보다 많아야 한다. "
   ]
  },
  {
   "attachments": {},
   "cell_type": "markdown",
   "metadata": {},
   "source": [
    "#### Layer 추가하는 방법 1"
   ]
  },
  {
   "cell_type": "code",
   "execution_count": 10,
   "metadata": {},
   "outputs": [],
   "source": [
    "# Layer 만들기\n",
    "dense1 = keras.layers.Dense(100,activation='sigmoid',input_shape=(784,)) # 은닉층 : 처음은 input_shape을 줘야 된다.\n",
    "dense2 = keras.layers.Dense(10,activation='softmax') # 출력층"
   ]
  },
  {
   "cell_type": "code",
   "execution_count": 11,
   "metadata": {},
   "outputs": [],
   "source": [
    "# 전체 모델에 층을 추가\n",
    "model = keras.Sequential([dense1,dense2])"
   ]
  },
  {
   "cell_type": "code",
   "execution_count": 12,
   "metadata": {},
   "outputs": [
    {
     "name": "stdout",
     "output_type": "stream",
     "text": [
      "Model: \"sequential_1\"\n",
      "_________________________________________________________________\n",
      " Layer (type)                Output Shape              Param #   \n",
      "=================================================================\n",
      " dense (Dense)               (None, 100)               78500     \n",
      "                                                                 \n",
      " dense_1 (Dense)             (None, 10)                1010      \n",
      "                                                                 \n",
      "=================================================================\n",
      "Total params: 79,510\n",
      "Trainable params: 79,510\n",
      "Non-trainable params: 0\n",
      "_________________________________________________________________\n"
     ]
    }
   ],
   "source": [
    "# model Summary 보기\n",
    "model.summary() \n",
    "# 78500 인 이유 : input_shape 개수 * output_shape 개수 + output_shape의 bias 값"
   ]
  },
  {
   "attachments": {},
   "cell_type": "markdown",
   "metadata": {},
   "source": [
    "### Layer 추가하는 방법 2"
   ]
  },
  {
   "cell_type": "code",
   "execution_count": 14,
   "metadata": {},
   "outputs": [],
   "source": [
    "model = keras.Sequential([\n",
    "    keras.layers.Dense(100,activation = 'sigmoid',input_shape=(784,),name='hidden'),\n",
    "    keras.layers.Dense(10,activation = 'softmax',name='output'),\n",
    "],name='패션 MNIST 모델')"
   ]
  },
  {
   "cell_type": "code",
   "execution_count": 15,
   "metadata": {},
   "outputs": [
    {
     "name": "stdout",
     "output_type": "stream",
     "text": [
      "Model: \"패션 MNIST 모델\"\n",
      "_________________________________________________________________\n",
      " Layer (type)                Output Shape              Param #   \n",
      "=================================================================\n",
      " hidden (Dense)              (None, 100)               78500     \n",
      "                                                                 \n",
      " output (Dense)              (None, 10)                1010      \n",
      "                                                                 \n",
      "=================================================================\n",
      "Total params: 79,510\n",
      "Trainable params: 79,510\n",
      "Non-trainable params: 0\n",
      "_________________________________________________________________\n"
     ]
    }
   ],
   "source": [
    "model.summary()"
   ]
  },
  {
   "attachments": {},
   "cell_type": "markdown",
   "metadata": {},
   "source": [
    "### Layer 추가하는 방법 3\n",
    ": 한경호 선생님이 추천하는 방법!!! <br><br>\n",
    "- if문을 .add 위에 부분에 넣을 수 있어서 함수를 만들어서 쓸 수 있다. <br><br>"
   ]
  },
  {
   "cell_type": "code",
   "execution_count": 16,
   "metadata": {},
   "outputs": [],
   "source": [
    "model = keras.Sequential()\n",
    "model.add(keras.layers.Dense(100,activation='sigmoid',input_shape=(784,),name='hidden'))\n",
    "model.add(keras.layers.Dense(10,activation='softmax',name='output'))"
   ]
  },
  {
   "cell_type": "code",
   "execution_count": 17,
   "metadata": {},
   "outputs": [
    {
     "name": "stdout",
     "output_type": "stream",
     "text": [
      "Model: \"sequential_3\"\n",
      "_________________________________________________________________\n",
      " Layer (type)                Output Shape              Param #   \n",
      "=================================================================\n",
      " hidden (Dense)              (None, 100)               78500     \n",
      "                                                                 \n",
      " output (Dense)              (None, 10)                1010      \n",
      "                                                                 \n",
      "=================================================================\n",
      "Total params: 79,510\n",
      "Trainable params: 79,510\n",
      "Non-trainable params: 0\n",
      "_________________________________________________________________\n"
     ]
    }
   ],
   "source": [
    "model.summary()"
   ]
  },
  {
   "attachments": {},
   "cell_type": "markdown",
   "metadata": {},
   "source": [
    "### 모델 훈련"
   ]
  },
  {
   "cell_type": "code",
   "execution_count": 18,
   "metadata": {},
   "outputs": [],
   "source": [
    "model.compile(loss='sparse_categorical_crossentropy',metrics='accuracy')"
   ]
  },
  {
   "cell_type": "code",
   "execution_count": 19,
   "metadata": {},
   "outputs": [
    {
     "name": "stdout",
     "output_type": "stream",
     "text": [
      "Epoch 1/20\n"
     ]
    },
    {
     "name": "stderr",
     "output_type": "stream",
     "text": [
      "2023-02-28 16:42:28.266272: W tensorflow/tsl/platform/profile_utils/cpu_utils.cc:128] Failed to get CPU frequency: 0 Hz\n"
     ]
    },
    {
     "name": "stdout",
     "output_type": "stream",
     "text": [
      "1500/1500 [==============================] - 1s 716us/step - loss: 0.5623 - accuracy: 0.8097\n",
      "Epoch 2/20\n",
      "1500/1500 [==============================] - 1s 632us/step - loss: 0.4087 - accuracy: 0.8534\n",
      "Epoch 3/20\n",
      "1500/1500 [==============================] - 1s 632us/step - loss: 0.3751 - accuracy: 0.8654\n",
      "Epoch 4/20\n",
      "1500/1500 [==============================] - 1s 633us/step - loss: 0.3525 - accuracy: 0.8718\n",
      "Epoch 5/20\n",
      "1500/1500 [==============================] - 1s 699us/step - loss: 0.3355 - accuracy: 0.8790\n",
      "Epoch 6/20\n",
      "1500/1500 [==============================] - 1s 626us/step - loss: 0.3222 - accuracy: 0.8827\n",
      "Epoch 7/20\n",
      "1500/1500 [==============================] - 1s 628us/step - loss: 0.3083 - accuracy: 0.8867\n",
      "Epoch 8/20\n",
      "1500/1500 [==============================] - 1s 651us/step - loss: 0.2997 - accuracy: 0.8920\n",
      "Epoch 9/20\n",
      "1500/1500 [==============================] - 1s 694us/step - loss: 0.2910 - accuracy: 0.8933\n",
      "Epoch 10/20\n",
      "1500/1500 [==============================] - 1s 638us/step - loss: 0.2828 - accuracy: 0.8967\n",
      "Epoch 11/20\n",
      "1500/1500 [==============================] - 1s 630us/step - loss: 0.2744 - accuracy: 0.8998\n",
      "Epoch 12/20\n",
      "1500/1500 [==============================] - 1s 695us/step - loss: 0.2677 - accuracy: 0.9024\n",
      "Epoch 13/20\n",
      "1500/1500 [==============================] - 1s 739us/step - loss: 0.2619 - accuracy: 0.9046\n",
      "Epoch 14/20\n",
      "1500/1500 [==============================] - 1s 638us/step - loss: 0.2557 - accuracy: 0.9070\n",
      "Epoch 15/20\n",
      "1500/1500 [==============================] - 1s 637us/step - loss: 0.2495 - accuracy: 0.9090\n",
      "Epoch 16/20\n",
      "1500/1500 [==============================] - 1s 658us/step - loss: 0.2440 - accuracy: 0.9101\n",
      "Epoch 17/20\n",
      "1500/1500 [==============================] - 1s 655us/step - loss: 0.2390 - accuracy: 0.9139\n",
      "Epoch 18/20\n",
      "1500/1500 [==============================] - 1s 624us/step - loss: 0.2340 - accuracy: 0.9151\n",
      "Epoch 19/20\n",
      "1500/1500 [==============================] - 1s 620us/step - loss: 0.2279 - accuracy: 0.9171\n",
      "Epoch 20/20\n",
      "1500/1500 [==============================] - 1s 665us/step - loss: 0.2245 - accuracy: 0.9186\n"
     ]
    },
    {
     "data": {
      "text/plain": [
       "<keras.callbacks.History at 0x177d163e0>"
      ]
     },
     "execution_count": 19,
     "metadata": {},
     "output_type": "execute_result"
    }
   ],
   "source": [
    "model.fit(train_scaled,train_target,epochs=20)"
   ]
  },
  {
   "cell_type": "code",
   "execution_count": 20,
   "metadata": {},
   "outputs": [
    {
     "name": "stdout",
     "output_type": "stream",
     "text": [
      "375/375 [==============================] - 0s 429us/step - loss: 0.3382 - accuracy: 0.8824\n"
     ]
    },
    {
     "data": {
      "text/plain": [
       "[0.33816948533058167, 0.8824166655540466]"
      ]
     },
     "execution_count": 20,
     "metadata": {},
     "output_type": "execute_result"
    }
   ],
   "source": [
    "model.evaluate(val_scaled,val_target)"
   ]
  },
  {
   "attachments": {},
   "cell_type": "markdown",
   "metadata": {},
   "source": [
    "### 층 하나 더만들기 와 activation 변경 "
   ]
  },
  {
   "cell_type": "code",
   "execution_count": 21,
   "metadata": {},
   "outputs": [],
   "source": [
    "model = keras.Sequential()\n",
    "model.add(keras.layers.Flatten(input_shape=(28,28))) # 원래 2차원 데이터를 넣는것\n",
    "model.add(keras.layers.Dense(100,activation='relu',name='hidden1'))\n",
    "model.add(keras.layers.Dense(10,activation='softmax',name='output'))"
   ]
  },
  {
   "cell_type": "code",
   "execution_count": 22,
   "metadata": {},
   "outputs": [
    {
     "name": "stdout",
     "output_type": "stream",
     "text": [
      "Model: \"sequential_4\"\n",
      "_________________________________________________________________\n",
      " Layer (type)                Output Shape              Param #   \n",
      "=================================================================\n",
      " flatten (Flatten)           (None, 784)               0         \n",
      "                                                                 \n",
      " hidden1 (Dense)             (None, 100)               78500     \n",
      "                                                                 \n",
      " output (Dense)              (None, 10)                1010      \n",
      "                                                                 \n",
      "=================================================================\n",
      "Total params: 79,510\n",
      "Trainable params: 79,510\n",
      "Non-trainable params: 0\n",
      "_________________________________________________________________\n"
     ]
    }
   ],
   "source": [
    "model.summary() # flatten 층은 모가 추가되는게 없다."
   ]
  },
  {
   "cell_type": "code",
   "execution_count": 31,
   "metadata": {},
   "outputs": [],
   "source": [
    "(train_input, train_target),(test_input,test_target)=keras.datasets.fashion_mnist.load_data()"
   ]
  },
  {
   "cell_type": "code",
   "execution_count": 32,
   "metadata": {},
   "outputs": [],
   "source": [
    "train_scaled = train_input / 255.0"
   ]
  },
  {
   "cell_type": "code",
   "execution_count": 33,
   "metadata": {},
   "outputs": [],
   "source": [
    "train_scaled , val_scaled , train_target , val_target = \\\n",
    "    train_test_split(train_scaled,train_target,test_size=0.2)"
   ]
  },
  {
   "cell_type": "code",
   "execution_count": 34,
   "metadata": {},
   "outputs": [
    {
     "data": {
      "text/plain": [
       "(48000, 28, 28)"
      ]
     },
     "execution_count": 34,
     "metadata": {},
     "output_type": "execute_result"
    }
   ],
   "source": [
    "train_scaled.shape"
   ]
  },
  {
   "cell_type": "code",
   "execution_count": 37,
   "metadata": {},
   "outputs": [],
   "source": [
    "model.compile(loss='sparse_categorical_crossentropy',metrics='accuracy')"
   ]
  },
  {
   "cell_type": "code",
   "execution_count": 38,
   "metadata": {},
   "outputs": [
    {
     "name": "stdout",
     "output_type": "stream",
     "text": [
      "Epoch 1/5\n",
      "1500/1500 [==============================] - 1s 691us/step - loss: 0.5289 - accuracy: 0.8132\n",
      "Epoch 2/5\n",
      "1500/1500 [==============================] - 1s 673us/step - loss: 0.3924 - accuracy: 0.8581\n",
      "Epoch 3/5\n",
      "1500/1500 [==============================] - 1s 634us/step - loss: 0.3536 - accuracy: 0.8720\n",
      "Epoch 4/5\n",
      "1500/1500 [==============================] - 1s 632us/step - loss: 0.3327 - accuracy: 0.8798\n",
      "Epoch 5/5\n",
      "1500/1500 [==============================] - 1s 668us/step - loss: 0.3192 - accuracy: 0.8865\n"
     ]
    },
    {
     "data": {
      "text/plain": [
       "<keras.callbacks.History at 0x2c78cb040>"
      ]
     },
     "execution_count": 38,
     "metadata": {},
     "output_type": "execute_result"
    }
   ],
   "source": [
    "model.fit(train_scaled,train_target,epochs=5)"
   ]
  },
  {
   "attachments": {},
   "cell_type": "markdown",
   "metadata": {},
   "source": [
    "### optimizer 적용시키기\n",
    "SGD -> momentum <br><br>\n",
    "RMSprop <br><br>\n",
    "momentum + RMSprop = Adam *** 가장 많이 쓴다. <br><br>"
   ]
  },
  {
   "attachments": {},
   "cell_type": "markdown",
   "metadata": {},
   "source": [
    "#### 적용방법 (확률적 경사 하강법) - 1"
   ]
  },
  {
   "cell_type": "code",
   "execution_count": 44,
   "metadata": {},
   "outputs": [
    {
     "name": "stdout",
     "output_type": "stream",
     "text": [
      "Epoch 1/5\n",
      "1500/1500 [==============================] - 1s 785us/step - loss: 0.2046 - accuracy: 0.9250\n",
      "Epoch 2/5\n",
      "1500/1500 [==============================] - 1s 563us/step - loss: 0.2000 - accuracy: 0.9276\n",
      "Epoch 3/5\n",
      "1500/1500 [==============================] - 1s 527us/step - loss: 0.1985 - accuracy: 0.9275\n",
      "Epoch 4/5\n",
      "1500/1500 [==============================] - 1s 537us/step - loss: 0.1972 - accuracy: 0.9279\n",
      "Epoch 5/5\n",
      "1500/1500 [==============================] - 1s 611us/step - loss: 0.1962 - accuracy: 0.9290\n"
     ]
    },
    {
     "data": {
      "text/plain": [
       "<keras.callbacks.History at 0x288e16800>"
      ]
     },
     "execution_count": 44,
     "metadata": {},
     "output_type": "execute_result"
    }
   ],
   "source": [
    "model.compile(optimizer='sgd',loss='sparse_categorical_crossentropy',metrics='accuracy')\n",
    "model.fit(train_scaled,train_target,epochs=5)"
   ]
  },
  {
   "attachments": {},
   "cell_type": "markdown",
   "metadata": {},
   "source": [
    "#### 적용방법 (확률적 경사 하강법) - 2"
   ]
  },
  {
   "cell_type": "code",
   "execution_count": 42,
   "metadata": {},
   "outputs": [
    {
     "name": "stdout",
     "output_type": "stream",
     "text": [
      "Epoch 1/5\n",
      "1500/1500 [==============================] - 1s 604us/step - loss: 0.2440 - accuracy: 0.9124\n",
      "Epoch 2/5\n",
      "1500/1500 [==============================] - 1s 584us/step - loss: 0.2424 - accuracy: 0.9122\n",
      "Epoch 3/5\n",
      "1500/1500 [==============================] - 1s 622us/step - loss: 0.2405 - accuracy: 0.9131\n",
      "Epoch 4/5\n",
      "1500/1500 [==============================] - 1s 543us/step - loss: 0.2388 - accuracy: 0.9137\n",
      "Epoch 5/5\n",
      "1500/1500 [==============================] - 1s 554us/step - loss: 0.2376 - accuracy: 0.9139\n"
     ]
    },
    {
     "data": {
      "text/plain": [
       "<keras.callbacks.History at 0x1691267a0>"
      ]
     },
     "execution_count": 42,
     "metadata": {},
     "output_type": "execute_result"
    }
   ],
   "source": [
    "sgd = keras.optimizers.SGD()\n",
    "model.compile(optimizer=sgd,loss='sparse_categorical_crossentropy',metrics='accuracy')\n",
    "model.fit(train_scaled,train_target,epochs=5)"
   ]
  },
  {
   "attachments": {},
   "cell_type": "markdown",
   "metadata": {},
   "source": [
    "#### 적용방법 (momentum)"
   ]
  },
  {
   "cell_type": "code",
   "execution_count": 43,
   "metadata": {},
   "outputs": [
    {
     "name": "stdout",
     "output_type": "stream",
     "text": [
      "Epoch 1/5\n",
      "1500/1500 [==============================] - 1s 687us/step - loss: 0.2679 - accuracy: 0.9021\n",
      "Epoch 2/5\n",
      "1500/1500 [==============================] - 1s 612us/step - loss: 0.2600 - accuracy: 0.9049\n",
      "Epoch 3/5\n",
      "1500/1500 [==============================] - 1s 615us/step - loss: 0.2516 - accuracy: 0.9067\n",
      "Epoch 4/5\n",
      "1500/1500 [==============================] - 1s 608us/step - loss: 0.2466 - accuracy: 0.9096\n",
      "Epoch 5/5\n",
      "1500/1500 [==============================] - 1s 691us/step - loss: 0.2385 - accuracy: 0.9132\n"
     ]
    },
    {
     "data": {
      "text/plain": [
       "<keras.callbacks.History at 0x1691dab60>"
      ]
     },
     "execution_count": 43,
     "metadata": {},
     "output_type": "execute_result"
    }
   ],
   "source": [
    "sgd = keras.optimizers.SGD(momentum=0.9,nesterov=True)\n",
    "model.compile(optimizer=sgd,loss='sparse_categorical_crossentropy',metrics='accuracy')\n",
    "model.fit(train_scaled,train_target,epochs=5)"
   ]
  },
  {
   "attachments": {},
   "cell_type": "markdown",
   "metadata": {},
   "source": [
    "#### 적용방법 (Adagrad)"
   ]
  },
  {
   "cell_type": "code",
   "execution_count": 45,
   "metadata": {},
   "outputs": [
    {
     "name": "stdout",
     "output_type": "stream",
     "text": [
      "Epoch 1/5\n",
      "1500/1500 [==============================] - 1s 725us/step - loss: 0.1923 - accuracy: 0.9304\n",
      "Epoch 2/5\n",
      "1500/1500 [==============================] - 1s 690us/step - loss: 0.1915 - accuracy: 0.9309\n",
      "Epoch 3/5\n",
      "1500/1500 [==============================] - 1s 703us/step - loss: 0.1911 - accuracy: 0.9308\n",
      "Epoch 4/5\n",
      "1500/1500 [==============================] - 1s 681us/step - loss: 0.1908 - accuracy: 0.9307\n",
      "Epoch 5/5\n",
      "1500/1500 [==============================] - 1s 663us/step - loss: 0.1905 - accuracy: 0.9310\n"
     ]
    },
    {
     "data": {
      "text/plain": [
       "<keras.callbacks.History at 0x2c79b1ae0>"
      ]
     },
     "execution_count": 45,
     "metadata": {},
     "output_type": "execute_result"
    }
   ],
   "source": [
    "model.compile(optimizer='adagrad',loss='sparse_categorical_crossentropy',metrics='accuracy')\n",
    "model.fit(train_scaled,train_target,epochs=5)"
   ]
  },
  {
   "attachments": {},
   "cell_type": "markdown",
   "metadata": {},
   "source": [
    "#### 적용방법 (RMSprop)"
   ]
  },
  {
   "cell_type": "code",
   "execution_count": 46,
   "metadata": {},
   "outputs": [
    {
     "name": "stdout",
     "output_type": "stream",
     "text": [
      "Epoch 1/5\n",
      "1500/1500 [==============================] - 1s 653us/step - loss: 0.2635 - accuracy: 0.9030\n",
      "Epoch 2/5\n",
      "1500/1500 [==============================] - 1s 678us/step - loss: 0.2543 - accuracy: 0.9066\n",
      "Epoch 3/5\n",
      "1500/1500 [==============================] - 1s 667us/step - loss: 0.2525 - accuracy: 0.9095\n",
      "Epoch 4/5\n",
      "1500/1500 [==============================] - 1s 626us/step - loss: 0.2459 - accuracy: 0.9117\n",
      "Epoch 5/5\n",
      "1500/1500 [==============================] - 1s 627us/step - loss: 0.2430 - accuracy: 0.9142\n"
     ]
    },
    {
     "data": {
      "text/plain": [
       "<keras.callbacks.History at 0x289727e80>"
      ]
     },
     "execution_count": 46,
     "metadata": {},
     "output_type": "execute_result"
    }
   ],
   "source": [
    "model.compile(optimizer='rmsprop',loss='sparse_categorical_crossentropy',metrics='accuracy')\n",
    "model.fit(train_scaled,train_target,epochs=5)"
   ]
  },
  {
   "attachments": {},
   "cell_type": "markdown",
   "metadata": {},
   "source": [
    "#### 적용방법 (Adam)"
   ]
  },
  {
   "cell_type": "code",
   "execution_count": 47,
   "metadata": {},
   "outputs": [
    {
     "name": "stdout",
     "output_type": "stream",
     "text": [
      "Epoch 1/5\n",
      "1500/1500 [==============================] - 1s 789us/step - loss: 0.2359 - accuracy: 0.9130\n",
      "Epoch 2/5\n",
      "1500/1500 [==============================] - 1s 787us/step - loss: 0.2281 - accuracy: 0.9171\n",
      "Epoch 3/5\n",
      "1500/1500 [==============================] - 1s 733us/step - loss: 0.2176 - accuracy: 0.9188\n",
      "Epoch 4/5\n",
      "1500/1500 [==============================] - 1s 726us/step - loss: 0.2107 - accuracy: 0.9220\n",
      "Epoch 5/5\n",
      "1500/1500 [==============================] - 1s 776us/step - loss: 0.2015 - accuracy: 0.9250\n"
     ]
    },
    {
     "data": {
      "text/plain": [
       "<keras.callbacks.History at 0x28a4f87f0>"
      ]
     },
     "execution_count": 47,
     "metadata": {},
     "output_type": "execute_result"
    }
   ],
   "source": [
    "model.compile(optimizer='adam',loss='sparse_categorical_crossentropy',metrics='accuracy')\n",
    "model.fit(train_scaled,train_target,epochs=5)"
   ]
  },
  {
   "attachments": {},
   "cell_type": "markdown",
   "metadata": {},
   "source": [
    "### Activation 함수 : Relu\n",
    "### Optimizer : Adam"
   ]
  },
  {
   "cell_type": "code",
   "execution_count": 50,
   "metadata": {},
   "outputs": [
    {
     "name": "stdout",
     "output_type": "stream",
     "text": [
      "Epoch 1/200\n",
      "1500/1500 [==============================] - 1s 786us/step - loss: 0.5275 - accuracy: 0.8166\n",
      "Epoch 2/200\n",
      "1500/1500 [==============================] - 1s 752us/step - loss: 0.3923 - accuracy: 0.8607\n",
      "Epoch 3/200\n",
      "1500/1500 [==============================] - 1s 736us/step - loss: 0.3505 - accuracy: 0.8728\n",
      "Epoch 4/200\n",
      "1500/1500 [==============================] - 1s 745us/step - loss: 0.3250 - accuracy: 0.8820\n",
      "Epoch 5/200\n",
      "1500/1500 [==============================] - 1s 723us/step - loss: 0.3066 - accuracy: 0.8881\n",
      "Epoch 6/200\n",
      "1500/1500 [==============================] - 1s 763us/step - loss: 0.2908 - accuracy: 0.8919\n",
      "Epoch 7/200\n",
      "1500/1500 [==============================] - 1s 724us/step - loss: 0.2785 - accuracy: 0.8970\n",
      "Epoch 8/200\n",
      "1500/1500 [==============================] - 1s 836us/step - loss: 0.2692 - accuracy: 0.9001\n",
      "Epoch 9/200\n",
      "1500/1500 [==============================] - 1s 773us/step - loss: 0.2571 - accuracy: 0.9041\n",
      "Epoch 10/200\n",
      "1500/1500 [==============================] - 1s 739us/step - loss: 0.2478 - accuracy: 0.9080\n",
      "Epoch 11/200\n",
      "1500/1500 [==============================] - 1s 771us/step - loss: 0.2397 - accuracy: 0.9113\n",
      "Epoch 12/200\n",
      "1500/1500 [==============================] - 1s 749us/step - loss: 0.2323 - accuracy: 0.9140\n",
      "Epoch 13/200\n",
      "1500/1500 [==============================] - 1s 786us/step - loss: 0.2255 - accuracy: 0.9147\n",
      "Epoch 14/200\n",
      "1500/1500 [==============================] - 1s 733us/step - loss: 0.2181 - accuracy: 0.9194\n",
      "Epoch 15/200\n",
      "1500/1500 [==============================] - 1s 760us/step - loss: 0.2130 - accuracy: 0.9203\n",
      "Epoch 16/200\n",
      "1500/1500 [==============================] - 1s 724us/step - loss: 0.2054 - accuracy: 0.9232\n",
      "Epoch 17/200\n",
      "1500/1500 [==============================] - 1s 758us/step - loss: 0.2031 - accuracy: 0.9250\n",
      "Epoch 18/200\n",
      "1500/1500 [==============================] - 1s 726us/step - loss: 0.1957 - accuracy: 0.9261\n",
      "Epoch 19/200\n",
      "1500/1500 [==============================] - 1s 772us/step - loss: 0.1919 - accuracy: 0.9282\n",
      "Epoch 20/200\n",
      "1500/1500 [==============================] - 1s 733us/step - loss: 0.1865 - accuracy: 0.9309\n",
      "Epoch 21/200\n",
      "1500/1500 [==============================] - 1s 768us/step - loss: 0.1815 - accuracy: 0.9326\n",
      "Epoch 22/200\n",
      "1500/1500 [==============================] - 1s 761us/step - loss: 0.1783 - accuracy: 0.9329\n",
      "Epoch 23/200\n",
      "1500/1500 [==============================] - 1s 742us/step - loss: 0.1730 - accuracy: 0.9349\n",
      "Epoch 24/200\n",
      "1500/1500 [==============================] - 1s 769us/step - loss: 0.1698 - accuracy: 0.9365\n",
      "Epoch 25/200\n",
      "1500/1500 [==============================] - 1s 760us/step - loss: 0.1648 - accuracy: 0.9387\n",
      "Epoch 26/200\n",
      "1500/1500 [==============================] - 1s 796us/step - loss: 0.1641 - accuracy: 0.9392\n",
      "Epoch 27/200\n",
      "1500/1500 [==============================] - 1s 733us/step - loss: 0.1584 - accuracy: 0.9401\n",
      "Epoch 28/200\n",
      "1500/1500 [==============================] - 1s 758us/step - loss: 0.1535 - accuracy: 0.9422\n",
      "Epoch 29/200\n",
      "1500/1500 [==============================] - 1s 740us/step - loss: 0.1550 - accuracy: 0.9421\n",
      "Epoch 30/200\n",
      "1500/1500 [==============================] - 1s 772us/step - loss: 0.1498 - accuracy: 0.9434\n",
      "Epoch 31/200\n",
      "1500/1500 [==============================] - 1s 723us/step - loss: 0.1455 - accuracy: 0.9455\n",
      "Epoch 32/200\n",
      "1500/1500 [==============================] - 1s 761us/step - loss: 0.1408 - accuracy: 0.9471\n",
      "Epoch 33/200\n",
      "1500/1500 [==============================] - 1s 772us/step - loss: 0.1396 - accuracy: 0.9483\n",
      "Epoch 34/200\n",
      "1500/1500 [==============================] - 1s 739us/step - loss: 0.1381 - accuracy: 0.9481\n",
      "Epoch 35/200\n",
      "1500/1500 [==============================] - 1s 743us/step - loss: 0.1338 - accuracy: 0.9496\n",
      "Epoch 36/200\n",
      "1500/1500 [==============================] - 1s 768us/step - loss: 0.1324 - accuracy: 0.9502\n",
      "Epoch 37/200\n",
      "1500/1500 [==============================] - 1s 784us/step - loss: 0.1277 - accuracy: 0.9530\n",
      "Epoch 38/200\n",
      "1500/1500 [==============================] - 1s 749us/step - loss: 0.1290 - accuracy: 0.9517\n",
      "Epoch 39/200\n",
      "1500/1500 [==============================] - 1s 798us/step - loss: 0.1233 - accuracy: 0.9539\n",
      "Epoch 40/200\n",
      "1500/1500 [==============================] - 1s 779us/step - loss: 0.1220 - accuracy: 0.9546\n",
      "Epoch 41/200\n",
      "1500/1500 [==============================] - 1s 768us/step - loss: 0.1182 - accuracy: 0.9565\n",
      "Epoch 42/200\n",
      "1500/1500 [==============================] - 1s 792us/step - loss: 0.1190 - accuracy: 0.9561\n",
      "Epoch 43/200\n",
      "1500/1500 [==============================] - 1s 813us/step - loss: 0.1189 - accuracy: 0.9550\n",
      "Epoch 44/200\n",
      "1500/1500 [==============================] - 1s 870us/step - loss: 0.1127 - accuracy: 0.9574\n",
      "Epoch 45/200\n",
      "1500/1500 [==============================] - 1s 810us/step - loss: 0.1107 - accuracy: 0.9594\n",
      "Epoch 46/200\n",
      "1500/1500 [==============================] - 1s 766us/step - loss: 0.1118 - accuracy: 0.9584\n",
      "Epoch 47/200\n",
      "1500/1500 [==============================] - 1s 820us/step - loss: 0.1074 - accuracy: 0.9607\n",
      "Epoch 48/200\n",
      "1500/1500 [==============================] - 1s 761us/step - loss: 0.1095 - accuracy: 0.9591\n",
      "Epoch 49/200\n",
      "1500/1500 [==============================] - 1s 832us/step - loss: 0.1027 - accuracy: 0.9616\n",
      "Epoch 50/200\n",
      "1500/1500 [==============================] - 1s 832us/step - loss: 0.1008 - accuracy: 0.9626\n",
      "Epoch 51/200\n",
      "1500/1500 [==============================] - 1s 871us/step - loss: 0.1007 - accuracy: 0.9630\n",
      "Epoch 52/200\n",
      "1500/1500 [==============================] - 1s 836us/step - loss: 0.1007 - accuracy: 0.9626\n",
      "Epoch 53/200\n",
      "1500/1500 [==============================] - 1s 763us/step - loss: 0.0982 - accuracy: 0.9635\n",
      "Epoch 54/200\n",
      "1500/1500 [==============================] - 1s 879us/step - loss: 0.0948 - accuracy: 0.9649\n",
      "Epoch 55/200\n",
      "1500/1500 [==============================] - 1s 843us/step - loss: 0.0979 - accuracy: 0.9641\n",
      "Epoch 56/200\n",
      "1500/1500 [==============================] - 1s 758us/step - loss: 0.0929 - accuracy: 0.9655\n",
      "Epoch 57/200\n",
      "1500/1500 [==============================] - 2s 1ms/step - loss: 0.0945 - accuracy: 0.9653\n",
      "Epoch 58/200\n",
      "1500/1500 [==============================] - 1s 817us/step - loss: 0.0908 - accuracy: 0.9673\n",
      "Epoch 59/200\n",
      "1500/1500 [==============================] - 1s 850us/step - loss: 0.0884 - accuracy: 0.9674\n",
      "Epoch 60/200\n",
      "1500/1500 [==============================] - 1s 812us/step - loss: 0.0881 - accuracy: 0.9672\n",
      "Epoch 61/200\n",
      "1500/1500 [==============================] - 1s 767us/step - loss: 0.0880 - accuracy: 0.9680\n",
      "Epoch 62/200\n",
      "1500/1500 [==============================] - 1s 851us/step - loss: 0.0842 - accuracy: 0.9690\n",
      "Epoch 63/200\n",
      "1500/1500 [==============================] - 1s 769us/step - loss: 0.0868 - accuracy: 0.9685\n",
      "Epoch 64/200\n",
      "1500/1500 [==============================] - 2s 1ms/step - loss: 0.0824 - accuracy: 0.9691\n",
      "Epoch 65/200\n",
      "1500/1500 [==============================] - 1s 790us/step - loss: 0.0813 - accuracy: 0.9706\n",
      "Epoch 66/200\n",
      "1500/1500 [==============================] - 1s 749us/step - loss: 0.0808 - accuracy: 0.9698\n",
      "Epoch 67/200\n",
      "1500/1500 [==============================] - 1s 887us/step - loss: 0.0808 - accuracy: 0.9699\n",
      "Epoch 68/200\n",
      "1500/1500 [==============================] - 1s 969us/step - loss: 0.0769 - accuracy: 0.9715\n",
      "Epoch 69/200\n",
      "1500/1500 [==============================] - 1s 858us/step - loss: 0.0765 - accuracy: 0.9710\n",
      "Epoch 70/200\n",
      "1500/1500 [==============================] - 1s 801us/step - loss: 0.0775 - accuracy: 0.9708\n",
      "Epoch 71/200\n",
      "1500/1500 [==============================] - 1s 789us/step - loss: 0.0734 - accuracy: 0.9723\n",
      "Epoch 72/200\n",
      "1500/1500 [==============================] - 1s 792us/step - loss: 0.0763 - accuracy: 0.9722\n",
      "Epoch 73/200\n",
      "1500/1500 [==============================] - 1s 781us/step - loss: 0.0746 - accuracy: 0.9724\n",
      "Epoch 74/200\n",
      "1500/1500 [==============================] - 2s 2ms/step - loss: 0.0723 - accuracy: 0.9725\n",
      "Epoch 75/200\n",
      "1500/1500 [==============================] - 1s 831us/step - loss: 0.0733 - accuracy: 0.9732\n",
      "Epoch 76/200\n",
      "1500/1500 [==============================] - 1s 868us/step - loss: 0.0687 - accuracy: 0.9739\n",
      "Epoch 77/200\n",
      "1500/1500 [==============================] - 2s 1ms/step - loss: 0.0692 - accuracy: 0.9754\n",
      "Epoch 78/200\n",
      "1500/1500 [==============================] - 1s 746us/step - loss: 0.0688 - accuracy: 0.9743\n",
      "Epoch 79/200\n",
      "1500/1500 [==============================] - 1s 831us/step - loss: 0.0671 - accuracy: 0.9754\n",
      "Epoch 80/200\n",
      "1500/1500 [==============================] - 1s 730us/step - loss: 0.0683 - accuracy: 0.9746\n",
      "Epoch 81/200\n",
      "1500/1500 [==============================] - 1s 814us/step - loss: 0.0654 - accuracy: 0.9760\n",
      "Epoch 82/200\n",
      "1500/1500 [==============================] - 1s 763us/step - loss: 0.0659 - accuracy: 0.9756\n",
      "Epoch 83/200\n",
      "1500/1500 [==============================] - 1s 728us/step - loss: 0.0668 - accuracy: 0.9751\n",
      "Epoch 84/200\n",
      "1500/1500 [==============================] - 1s 791us/step - loss: 0.0646 - accuracy: 0.9764\n",
      "Epoch 85/200\n",
      "1500/1500 [==============================] - 1s 780us/step - loss: 0.0628 - accuracy: 0.9772\n",
      "Epoch 86/200\n",
      "1500/1500 [==============================] - 1s 827us/step - loss: 0.0627 - accuracy: 0.9768\n",
      "Epoch 87/200\n",
      "1500/1500 [==============================] - 1s 739us/step - loss: 0.0611 - accuracy: 0.9777\n",
      "Epoch 88/200\n",
      "1500/1500 [==============================] - 1s 747us/step - loss: 0.0626 - accuracy: 0.9765\n",
      "Epoch 89/200\n",
      "1500/1500 [==============================] - 1s 797us/step - loss: 0.0598 - accuracy: 0.9786\n",
      "Epoch 90/200\n",
      "1500/1500 [==============================] - 1s 836us/step - loss: 0.0607 - accuracy: 0.9778\n",
      "Epoch 91/200\n",
      "1500/1500 [==============================] - 1s 790us/step - loss: 0.0586 - accuracy: 0.9789\n",
      "Epoch 92/200\n",
      "1500/1500 [==============================] - 1s 755us/step - loss: 0.0572 - accuracy: 0.9789\n",
      "Epoch 93/200\n",
      "1500/1500 [==============================] - 1s 762us/step - loss: 0.0575 - accuracy: 0.9781\n",
      "Epoch 94/200\n",
      "1500/1500 [==============================] - 1s 795us/step - loss: 0.0561 - accuracy: 0.9791\n",
      "Epoch 95/200\n",
      "1500/1500 [==============================] - 1s 891us/step - loss: 0.0542 - accuracy: 0.9804\n",
      "Epoch 96/200\n",
      "1500/1500 [==============================] - 1s 983us/step - loss: 0.0556 - accuracy: 0.9787\n",
      "Epoch 97/200\n",
      "1500/1500 [==============================] - 1s 777us/step - loss: 0.0552 - accuracy: 0.9796\n",
      "Epoch 98/200\n",
      "1500/1500 [==============================] - 1s 728us/step - loss: 0.0543 - accuracy: 0.9798\n",
      "Epoch 99/200\n",
      "1500/1500 [==============================] - 1s 831us/step - loss: 0.0545 - accuracy: 0.9805\n",
      "Epoch 100/200\n",
      "1500/1500 [==============================] - 1s 709us/step - loss: 0.0561 - accuracy: 0.9792\n",
      "Epoch 101/200\n",
      "1500/1500 [==============================] - 1s 719us/step - loss: 0.0508 - accuracy: 0.9807\n",
      "Epoch 102/200\n",
      "1500/1500 [==============================] - 1s 845us/step - loss: 0.0533 - accuracy: 0.9806\n",
      "Epoch 103/200\n",
      "1500/1500 [==============================] - 2s 1ms/step - loss: 0.0491 - accuracy: 0.9810\n",
      "Epoch 104/200\n",
      "1500/1500 [==============================] - 1s 976us/step - loss: 0.0513 - accuracy: 0.9806\n",
      "Epoch 105/200\n",
      "1500/1500 [==============================] - 1s 800us/step - loss: 0.0504 - accuracy: 0.9811\n",
      "Epoch 106/200\n",
      "1500/1500 [==============================] - 1s 812us/step - loss: 0.0502 - accuracy: 0.9817\n",
      "Epoch 107/200\n",
      "1500/1500 [==============================] - 1s 767us/step - loss: 0.0481 - accuracy: 0.9816\n",
      "Epoch 108/200\n",
      "1500/1500 [==============================] - 1s 814us/step - loss: 0.0515 - accuracy: 0.9813\n",
      "Epoch 109/200\n",
      "1500/1500 [==============================] - 1s 843us/step - loss: 0.0459 - accuracy: 0.9832\n",
      "Epoch 110/200\n",
      "1500/1500 [==============================] - 1s 813us/step - loss: 0.0470 - accuracy: 0.9829\n",
      "Epoch 111/200\n",
      "1500/1500 [==============================] - 1s 841us/step - loss: 0.0464 - accuracy: 0.9827\n",
      "Epoch 112/200\n",
      "1500/1500 [==============================] - 1s 862us/step - loss: 0.0459 - accuracy: 0.9834\n",
      "Epoch 113/200\n",
      "1500/1500 [==============================] - 1s 767us/step - loss: 0.0464 - accuracy: 0.9831\n",
      "Epoch 114/200\n",
      "1500/1500 [==============================] - 1s 811us/step - loss: 0.0471 - accuracy: 0.9827\n",
      "Epoch 115/200\n",
      "1500/1500 [==============================] - 1s 771us/step - loss: 0.0463 - accuracy: 0.9830\n",
      "Epoch 116/200\n",
      "1500/1500 [==============================] - 1s 812us/step - loss: 0.0448 - accuracy: 0.9834\n",
      "Epoch 117/200\n",
      "1500/1500 [==============================] - 1s 738us/step - loss: 0.0483 - accuracy: 0.9823\n",
      "Epoch 118/200\n",
      "1500/1500 [==============================] - 1s 752us/step - loss: 0.0423 - accuracy: 0.9841\n",
      "Epoch 119/200\n",
      "1500/1500 [==============================] - 1s 889us/step - loss: 0.0454 - accuracy: 0.9835\n",
      "Epoch 120/200\n",
      "1500/1500 [==============================] - 1s 757us/step - loss: 0.0430 - accuracy: 0.9845\n",
      "Epoch 121/200\n",
      "1500/1500 [==============================] - 1s 830us/step - loss: 0.0440 - accuracy: 0.9833\n",
      "Epoch 122/200\n",
      "1500/1500 [==============================] - 1s 769us/step - loss: 0.0416 - accuracy: 0.9852\n",
      "Epoch 123/200\n",
      "1500/1500 [==============================] - 1s 762us/step - loss: 0.0455 - accuracy: 0.9832\n",
      "Epoch 124/200\n",
      "1500/1500 [==============================] - 1s 787us/step - loss: 0.0433 - accuracy: 0.9838\n",
      "Epoch 125/200\n",
      "1500/1500 [==============================] - 1s 783us/step - loss: 0.0437 - accuracy: 0.9841\n",
      "Epoch 126/200\n",
      "1500/1500 [==============================] - 1s 868us/step - loss: 0.0395 - accuracy: 0.9854\n",
      "Epoch 127/200\n",
      "1500/1500 [==============================] - 1s 798us/step - loss: 0.0451 - accuracy: 0.9835\n",
      "Epoch 128/200\n",
      "1500/1500 [==============================] - 1s 743us/step - loss: 0.0414 - accuracy: 0.9851\n",
      "Epoch 129/200\n",
      "1500/1500 [==============================] - 1s 760us/step - loss: 0.0381 - accuracy: 0.9858\n",
      "Epoch 130/200\n",
      "1500/1500 [==============================] - 1s 798us/step - loss: 0.0396 - accuracy: 0.9854\n",
      "Epoch 131/200\n",
      "1500/1500 [==============================] - 1s 796us/step - loss: 0.0408 - accuracy: 0.9843\n",
      "Epoch 132/200\n",
      "1500/1500 [==============================] - 1s 833us/step - loss: 0.0359 - accuracy: 0.9870\n",
      "Epoch 133/200\n",
      "1500/1500 [==============================] - 1s 827us/step - loss: 0.0408 - accuracy: 0.9856\n",
      "Epoch 134/200\n",
      "1500/1500 [==============================] - 1s 818us/step - loss: 0.0403 - accuracy: 0.9851\n",
      "Epoch 135/200\n",
      "1500/1500 [==============================] - 1s 891us/step - loss: 0.0359 - accuracy: 0.9870\n",
      "Epoch 136/200\n",
      "1500/1500 [==============================] - 1s 933us/step - loss: 0.0375 - accuracy: 0.9868\n",
      "Epoch 137/200\n",
      "1500/1500 [==============================] - 1s 768us/step - loss: 0.0372 - accuracy: 0.9860\n",
      "Epoch 138/200\n",
      "1500/1500 [==============================] - 1s 992us/step - loss: 0.0406 - accuracy: 0.9855\n",
      "Epoch 139/200\n",
      "1500/1500 [==============================] - 1s 876us/step - loss: 0.0352 - accuracy: 0.9864\n",
      "Epoch 140/200\n",
      "1500/1500 [==============================] - 1s 798us/step - loss: 0.0394 - accuracy: 0.9858\n",
      "Epoch 141/200\n",
      "1500/1500 [==============================] - 1s 771us/step - loss: 0.0360 - accuracy: 0.9865\n",
      "Epoch 142/200\n",
      "1500/1500 [==============================] - 1s 752us/step - loss: 0.0362 - accuracy: 0.9869\n",
      "Epoch 143/200\n",
      "1500/1500 [==============================] - 1s 854us/step - loss: 0.0368 - accuracy: 0.9865\n",
      "Epoch 144/200\n",
      "1500/1500 [==============================] - 1s 800us/step - loss: 0.0365 - accuracy: 0.9868\n",
      "Epoch 145/200\n",
      "1500/1500 [==============================] - 1s 776us/step - loss: 0.0389 - accuracy: 0.9865\n",
      "Epoch 146/200\n",
      "1500/1500 [==============================] - 1s 817us/step - loss: 0.0339 - accuracy: 0.9875\n",
      "Epoch 147/200\n",
      "1500/1500 [==============================] - 1s 751us/step - loss: 0.0395 - accuracy: 0.9857\n",
      "Epoch 148/200\n",
      "1500/1500 [==============================] - 1s 753us/step - loss: 0.0325 - accuracy: 0.9881\n",
      "Epoch 149/200\n",
      "1500/1500 [==============================] - 1s 780us/step - loss: 0.0364 - accuracy: 0.9872\n",
      "Epoch 150/200\n",
      "1500/1500 [==============================] - 1s 780us/step - loss: 0.0334 - accuracy: 0.9880\n",
      "Epoch 151/200\n",
      "1500/1500 [==============================] - 1s 744us/step - loss: 0.0345 - accuracy: 0.9876\n",
      "Epoch 152/200\n",
      "1500/1500 [==============================] - 1s 770us/step - loss: 0.0349 - accuracy: 0.9872\n",
      "Epoch 153/200\n",
      "1500/1500 [==============================] - 1s 750us/step - loss: 0.0321 - accuracy: 0.9891\n",
      "Epoch 154/200\n",
      "1500/1500 [==============================] - 1s 838us/step - loss: 0.0367 - accuracy: 0.9868\n",
      "Epoch 155/200\n",
      "1500/1500 [==============================] - 1s 844us/step - loss: 0.0310 - accuracy: 0.9887\n",
      "Epoch 156/200\n",
      "1500/1500 [==============================] - 1s 817us/step - loss: 0.0340 - accuracy: 0.9871\n",
      "Epoch 157/200\n",
      "1500/1500 [==============================] - 1s 803us/step - loss: 0.0322 - accuracy: 0.9883\n",
      "Epoch 158/200\n",
      "1500/1500 [==============================] - 1s 784us/step - loss: 0.0359 - accuracy: 0.9877\n",
      "Epoch 159/200\n",
      "1500/1500 [==============================] - 1s 796us/step - loss: 0.0290 - accuracy: 0.9898\n",
      "Epoch 160/200\n",
      "1500/1500 [==============================] - 1s 928us/step - loss: 0.0335 - accuracy: 0.9881\n",
      "Epoch 161/200\n",
      "1500/1500 [==============================] - 1s 744us/step - loss: 0.0285 - accuracy: 0.9899\n",
      "Epoch 162/200\n",
      "1500/1500 [==============================] - 1s 749us/step - loss: 0.0358 - accuracy: 0.9875\n",
      "Epoch 163/200\n",
      "1500/1500 [==============================] - 1s 733us/step - loss: 0.0282 - accuracy: 0.9903\n",
      "Epoch 164/200\n",
      "1500/1500 [==============================] - 1s 838us/step - loss: 0.0304 - accuracy: 0.9887\n",
      "Epoch 165/200\n",
      "1500/1500 [==============================] - 1s 750us/step - loss: 0.0353 - accuracy: 0.9876\n",
      "Epoch 166/200\n",
      "1500/1500 [==============================] - 1s 729us/step - loss: 0.0291 - accuracy: 0.9893\n",
      "Epoch 167/200\n",
      "1500/1500 [==============================] - 1s 803us/step - loss: 0.0305 - accuracy: 0.9898\n",
      "Epoch 168/200\n",
      "1500/1500 [==============================] - 1s 732us/step - loss: 0.0284 - accuracy: 0.9894\n",
      "Epoch 169/200\n",
      "1500/1500 [==============================] - 1s 763us/step - loss: 0.0346 - accuracy: 0.9879\n",
      "Epoch 170/200\n",
      "1500/1500 [==============================] - 1s 781us/step - loss: 0.0293 - accuracy: 0.9895\n",
      "Epoch 171/200\n",
      "1500/1500 [==============================] - 1s 789us/step - loss: 0.0313 - accuracy: 0.9890\n",
      "Epoch 172/200\n",
      "1500/1500 [==============================] - 1s 740us/step - loss: 0.0337 - accuracy: 0.9887\n",
      "Epoch 173/200\n",
      "1500/1500 [==============================] - 1s 795us/step - loss: 0.0259 - accuracy: 0.9906\n",
      "Epoch 174/200\n",
      "1500/1500 [==============================] - 1s 780us/step - loss: 0.0241 - accuracy: 0.9916\n",
      "Epoch 175/200\n",
      "1500/1500 [==============================] - 1s 746us/step - loss: 0.0342 - accuracy: 0.9879\n",
      "Epoch 176/200\n",
      "1500/1500 [==============================] - 1s 823us/step - loss: 0.0250 - accuracy: 0.9907\n",
      "Epoch 177/200\n",
      "1500/1500 [==============================] - 1s 770us/step - loss: 0.0310 - accuracy: 0.9887\n",
      "Epoch 178/200\n",
      "1500/1500 [==============================] - 1s 783us/step - loss: 0.0282 - accuracy: 0.9895\n",
      "Epoch 179/200\n",
      "1500/1500 [==============================] - 1s 814us/step - loss: 0.0302 - accuracy: 0.9900\n",
      "Epoch 180/200\n",
      "1500/1500 [==============================] - 1s 749us/step - loss: 0.0280 - accuracy: 0.9904\n",
      "Epoch 181/200\n",
      "1500/1500 [==============================] - 1s 811us/step - loss: 0.0264 - accuracy: 0.9906\n",
      "Epoch 182/200\n",
      "1500/1500 [==============================] - 1s 879us/step - loss: 0.0295 - accuracy: 0.9897\n",
      "Epoch 183/200\n",
      "1500/1500 [==============================] - 1s 730us/step - loss: 0.0289 - accuracy: 0.9890\n",
      "Epoch 184/200\n",
      "1500/1500 [==============================] - 1s 851us/step - loss: 0.0285 - accuracy: 0.9895\n",
      "Epoch 185/200\n",
      "1500/1500 [==============================] - 1s 864us/step - loss: 0.0270 - accuracy: 0.9906\n",
      "Epoch 186/200\n",
      "1500/1500 [==============================] - 1s 879us/step - loss: 0.0274 - accuracy: 0.9904\n",
      "Epoch 187/200\n",
      "1500/1500 [==============================] - 1s 845us/step - loss: 0.0292 - accuracy: 0.9900\n",
      "Epoch 188/200\n",
      "1500/1500 [==============================] - 1s 868us/step - loss: 0.0336 - accuracy: 0.9888\n",
      "Epoch 189/200\n",
      "1500/1500 [==============================] - 1s 776us/step - loss: 0.0259 - accuracy: 0.9912\n",
      "Epoch 190/200\n",
      "1500/1500 [==============================] - 1s 778us/step - loss: 0.0278 - accuracy: 0.9904\n",
      "Epoch 191/200\n",
      "1500/1500 [==============================] - 1s 829us/step - loss: 0.0280 - accuracy: 0.9901\n",
      "Epoch 192/200\n",
      "1500/1500 [==============================] - 1s 783us/step - loss: 0.0214 - accuracy: 0.9924\n",
      "Epoch 193/200\n",
      "1500/1500 [==============================] - 1s 771us/step - loss: 0.0298 - accuracy: 0.9891\n",
      "Epoch 194/200\n",
      "1500/1500 [==============================] - 1s 774us/step - loss: 0.0235 - accuracy: 0.9924\n",
      "Epoch 195/200\n",
      "1500/1500 [==============================] - 1s 798us/step - loss: 0.0316 - accuracy: 0.9887\n",
      "Epoch 196/200\n",
      "1500/1500 [==============================] - 1s 861us/step - loss: 0.0234 - accuracy: 0.9917\n",
      "Epoch 197/200\n",
      "1500/1500 [==============================] - 1s 788us/step - loss: 0.0300 - accuracy: 0.9905\n",
      "Epoch 198/200\n",
      "1500/1500 [==============================] - 1s 839us/step - loss: 0.0230 - accuracy: 0.9917\n",
      "Epoch 199/200\n",
      "1500/1500 [==============================] - 1s 732us/step - loss: 0.0252 - accuracy: 0.9905\n",
      "Epoch 200/200\n",
      "1500/1500 [==============================] - 1s 793us/step - loss: 0.0271 - accuracy: 0.9904\n"
     ]
    },
    {
     "data": {
      "text/plain": [
       "<keras.callbacks.History at 0x2c547ad10>"
      ]
     },
     "execution_count": 50,
     "metadata": {},
     "output_type": "execute_result"
    }
   ],
   "source": [
    "model = keras.Sequential()\n",
    "model.add(keras.layers.Flatten(input_shape=(28,28))) \n",
    "model.add(keras.layers.Dense(100,activation='relu',name='hidden'))\n",
    "model.add(keras.layers.Dense(10,activation='softmax',name='output'))\n",
    "model.compile(optimizer='adam',loss='sparse_categorical_crossentropy',metrics='accuracy')\n",
    "model.fit(train_scaled,train_target,epochs=200)"
   ]
  },
  {
   "cell_type": "code",
   "execution_count": null,
   "metadata": {},
   "outputs": [],
   "source": []
  }
 ],
 "metadata": {
  "kernelspec": {
   "display_name": "tensorflow_env",
   "language": "python",
   "name": "python3"
  },
  "language_info": {
   "codemirror_mode": {
    "name": "ipython",
    "version": 3
   },
   "file_extension": ".py",
   "mimetype": "text/x-python",
   "name": "python",
   "nbconvert_exporter": "python",
   "pygments_lexer": "ipython3",
   "version": "3.10.9"
  },
  "orig_nbformat": 4,
  "vscode": {
   "interpreter": {
    "hash": "66d2a5466b65b65e05b6be368e014d05fe7b77252d6f23aaf536dcc261447230"
   }
  }
 },
 "nbformat": 4,
 "nbformat_minor": 2
}

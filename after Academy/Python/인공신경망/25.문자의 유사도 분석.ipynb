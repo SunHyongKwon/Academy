{
 "cells": [
  {
   "attachments": {},
   "cell_type": "markdown",
   "metadata": {},
   "source": [
    "### 문장의 유사도 분석\n",
    ": 두 갱의 문장이 비슷한 것인지 관련이 있는 것인지 분석 <br><br>\n",
    "- 레벤슈타인 거리 <br><br>\n",
    "- N-gram <br><br>"
   ]
  },
  {
   "attachments": {},
   "cell_type": "markdown",
   "metadata": {},
   "source": [
    "### 레벤슈타인 거리(Lvenshtein distance)\n",
    "- 두 개의 문자열이 어느 정도 다른지를 나타내는 것으로 편집 거리(Edit Distance)라고도 부른다. <br><br>\n",
    "- 의학 분야에서는 DNA 배열의 유사성을 판단할 때도 사용 <br><br>"
   ]
  },
  {
   "cell_type": "code",
   "execution_count": 1,
   "metadata": {},
   "outputs": [],
   "source": [
    "from lvenshtein import Lvenshtein"
   ]
  },
  {
   "cell_type": "code",
   "execution_count": 2,
   "metadata": {},
   "outputs": [],
   "source": [
    "lv = Lvenshtein()"
   ]
  },
  {
   "cell_type": "code",
   "execution_count": 3,
   "metadata": {},
   "outputs": [
    {
     "data": {
      "text/plain": [
       "2"
      ]
     },
     "execution_count": 3,
     "metadata": {},
     "output_type": "execute_result"
    }
   ],
   "source": [
    "# 가나다라 와 가마바라의 거리\n",
    "lv.calc_distance('가나다라','가마바라')"
   ]
  },
  {
   "cell_type": "code",
   "execution_count": 4,
   "metadata": {},
   "outputs": [],
   "source": [
    "# 신촌역과 가장 근접한 순서로 정렬\n",
    "samples = ['신촌역','신천군','신천역','마곡역','신발']\n",
    "base = samples[0]"
   ]
  },
  {
   "cell_type": "code",
   "execution_count": 7,
   "metadata": {},
   "outputs": [
    {
     "data": {
      "text/plain": [
       "['신촌역', '신천역', '신천군', '마곡역', '신발']"
      ]
     },
     "execution_count": 7,
     "metadata": {},
     "output_type": "execute_result"
    }
   ],
   "source": [
    "r = sorted(samples , key = lambda n: lv.calc_distance(base,n))\n",
    "r"
   ]
  },
  {
   "cell_type": "code",
   "execution_count": 9,
   "metadata": {},
   "outputs": [
    {
     "name": "stdout",
     "output_type": "stream",
     "text": [
      "0 신촌역\n",
      "1 신천역\n",
      "2 신천군\n",
      "2 마곡역\n",
      "2 신발\n"
     ]
    }
   ],
   "source": [
    "for n in r:\n",
    "    print(lv.calc_distance(base,n),n)"
   ]
  },
  {
   "attachments": {},
   "cell_type": "markdown",
   "metadata": {},
   "source": [
    "### N - gram 으로 유사도 구하기\n",
    "- 이웃한 N개의 문자 <br><br>\n",
    "- 서로 다른 2개의 문장을 N-gram으로 비교해보면 출현하는 단어의 종류와 빈도를 확인 가능 <br><br>\n",
    "- 논문 도용 등을 확인 "
   ]
  },
  {
   "cell_type": "code",
   "execution_count": 10,
   "metadata": {},
   "outputs": [],
   "source": [
    "from ngram import Ngram"
   ]
  },
  {
   "cell_type": "code",
   "execution_count": 11,
   "metadata": {},
   "outputs": [],
   "source": [
    "ngrm = Ngram()"
   ]
  },
  {
   "cell_type": "code",
   "execution_count": 12,
   "metadata": {},
   "outputs": [],
   "source": [
    "# 2문장 나누기\n",
    "a = '오늘 강남에서 맛있는 스파게티를 먹었다.'\n",
    "b = '강남에서 먹었던 오늘의 스파게티는 맛있었다.'"
   ]
  },
  {
   "cell_type": "code",
   "execution_count": 15,
   "metadata": {},
   "outputs": [
    {
     "name": "stdout",
     "output_type": "stream",
     "text": [
      "['오늘', '늘 ', ' 강', '강남', '남에', '에서', '서 ', ' 맛', '맛있', '있는', '는 ', ' 스', '스파', '파게', '게티', '티를', '를 ', ' 먹', '먹었', '었다', '다.']\n",
      "['강남', '남에', '에서', '서 ', ' 먹', '먹었', '었던', '던 ', ' 오', '오늘', '늘의', '의 ', ' 스', '스파', '파게', '게티', '티는', '는 ', ' 맛', '맛있', '있었', '었다', '다.']\n"
     ]
    }
   ],
   "source": [
    "print(ngrm.ngram(a,2))\n",
    "print(ngrm.ngram(b,2))"
   ]
  },
  {
   "cell_type": "code",
   "execution_count": 21,
   "metadata": {},
   "outputs": [
    {
     "name": "stdout",
     "output_type": "stream",
     "text": [
      "유사도 : 0.7619047619047619\n",
      "유사 단어 : ['오늘', '강남', '남에', '에서', '서 ', ' 맛', '맛있', '는 ', ' 스', '스파', '파게', '게티', ' 먹', '먹었', '었다', '다.']\n"
     ]
    }
   ],
   "source": [
    "r2 = ngrm.diff_ngram(a,b,2)\n",
    "print('유사도 :',r2[0])\n",
    "print('유사 단어 :',r2[1])"
   ]
  },
  {
   "cell_type": "code",
   "execution_count": 30,
   "metadata": {},
   "outputs": [
    {
     "name": "stdout",
     "output_type": "stream",
     "text": [
      "유사도 : 0.75\n",
      "유사 단어 : ['머신', '신러', '러닝', ' 재', '재미', '미있', '있는', '는 ', ' 기', '기술', '술이', '이라', '라 ', '공부', '부하', '고 ', ' 있', '있습', '습니', '니다', '다.']\n"
     ]
    }
   ],
   "source": [
    "a = '머신러닝은 매우 재미있는 기술이라 공부하고 있습니다.'\n",
    "b = '공부하면 재미있는 기술이라 머신러닝을 배우고 있습니다.'\n",
    "\n",
    "r2 = ngrm.diff_ngram(a,b,2)\n",
    "print('유사도 :',r2[0])\n",
    "print('유사 단어 :',r2[1])"
   ]
  },
  {
   "cell_type": "code",
   "execution_count": 29,
   "metadata": {},
   "outputs": [
    {
     "name": "stdout",
     "output_type": "stream",
     "text": [
      "유사도 : 0.125\n",
      "유사 단어 : ['한 ', '니다', '다.']\n"
     ]
    }
   ],
   "source": [
    "a = '파이썬 프로그래밍에서 중요한 것은 블록입니다.'\n",
    "b = '겨울에는 충분한 수분을 보충해야 합니다.'\n",
    "\n",
    "r2 = ngrm.diff_ngram(a,b,2)\n",
    "print('유사도 :',r2[0])\n",
    "print('유사 단어 :',r2[1])"
   ]
  },
  {
   "cell_type": "code",
   "execution_count": null,
   "metadata": {},
   "outputs": [],
   "source": []
  }
 ],
 "metadata": {
  "kernelspec": {
   "display_name": "tensorflow_env",
   "language": "python",
   "name": "python3"
  },
  "language_info": {
   "codemirror_mode": {
    "name": "ipython",
    "version": 3
   },
   "file_extension": ".py",
   "mimetype": "text/x-python",
   "name": "python",
   "nbconvert_exporter": "python",
   "pygments_lexer": "ipython3",
   "version": "3.10.9"
  },
  "orig_nbformat": 4
 },
 "nbformat": 4,
 "nbformat_minor": 2
}

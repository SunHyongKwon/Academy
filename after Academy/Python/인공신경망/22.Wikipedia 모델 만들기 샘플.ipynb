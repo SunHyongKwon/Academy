{
 "cells": [
  {
   "attachments": {},
   "cell_type": "markdown",
   "metadata": {},
   "source": [
    "1. 위키디피아 데이터 다운로드 : https://dumps.wikimedia.org/kowiki/latest/ 에서 kowiki-latest-pages-articles.xml.bz2를 다운  <br><br> \n",
    "2. bzip2 -d kowiki-latest-pages-articles.xml.bz   <br> <br> \n",
    "3. sudo gem install wp2txt     <br> <br> \n",
    "4. wp2txt —input-file ./kowiki-latest-pages-articles.xml (약 20분 소요)   <br> <br> \n",
    "5. cat kowiki-latest-pages-articles-* > wiki.txt<br> <br> \n",
    "6. txt 파일 wakati 만들기 "
   ]
  },
  {
   "cell_type": "code",
   "execution_count": 3,
   "metadata": {},
   "outputs": [
    {
     "ename": "FileNotFoundError",
     "evalue": "[Errno 2] No such file or directory: '../../wiki/wiki.txt'",
     "output_type": "error",
     "traceback": [
      "\u001b[0;31m---------------------------------------------------------------------------\u001b[0m",
      "\u001b[0;31mFileNotFoundError\u001b[0m                         Traceback (most recent call last)",
      "Cell \u001b[0;32mIn[3], line 7\u001b[0m\n\u001b[1;32m      4\u001b[0m \u001b[39mfrom\u001b[39;00m \u001b[39mgensim\u001b[39;00m\u001b[39m.\u001b[39;00m\u001b[39mmodels\u001b[39;00m \u001b[39mimport\u001b[39;00m word2vec\n\u001b[1;32m      6\u001b[0m \u001b[39m# 파일 열기\u001b[39;00m\n\u001b[0;32m----> 7\u001b[0m readFp \u001b[39m=\u001b[39m codecs\u001b[39m.\u001b[39;49mopen(\u001b[39m\"\u001b[39;49m\u001b[39m../../wiki/wiki.txt\u001b[39;49m\u001b[39m\"\u001b[39;49m, \u001b[39m\"\u001b[39;49m\u001b[39mr\u001b[39;49m\u001b[39m\"\u001b[39;49m, encoding\u001b[39m=\u001b[39;49m\u001b[39m\"\u001b[39;49m\u001b[39mutf-8\u001b[39;49m\u001b[39m\"\u001b[39;49m)\n\u001b[1;32m      8\u001b[0m wakati_file \u001b[39m=\u001b[39m \u001b[39m\"\u001b[39m\u001b[39m../../wiki/wiki.wakati\u001b[39m\u001b[39m\"\u001b[39m\n\u001b[1;32m      9\u001b[0m writeFp \u001b[39m=\u001b[39m \u001b[39mopen\u001b[39m(wakati_file, \u001b[39m\"\u001b[39m\u001b[39mw\u001b[39m\u001b[39m\"\u001b[39m, encoding\u001b[39m=\u001b[39m\u001b[39m\"\u001b[39m\u001b[39mutf-8\u001b[39m\u001b[39m\"\u001b[39m)\n",
      "File \u001b[0;32m~/miniforge3/envs/tf/lib/python3.10/codecs.py:905\u001b[0m, in \u001b[0;36mopen\u001b[0;34m(filename, mode, encoding, errors, buffering)\u001b[0m\n\u001b[1;32m    901\u001b[0m \u001b[39mif\u001b[39;00m encoding \u001b[39mis\u001b[39;00m \u001b[39mnot\u001b[39;00m \u001b[39mNone\u001b[39;00m \u001b[39mand\u001b[39;00m \\\n\u001b[1;32m    902\u001b[0m    \u001b[39m'\u001b[39m\u001b[39mb\u001b[39m\u001b[39m'\u001b[39m \u001b[39mnot\u001b[39;00m \u001b[39min\u001b[39;00m mode:\n\u001b[1;32m    903\u001b[0m     \u001b[39m# Force opening of the file in binary mode\u001b[39;00m\n\u001b[1;32m    904\u001b[0m     mode \u001b[39m=\u001b[39m mode \u001b[39m+\u001b[39m \u001b[39m'\u001b[39m\u001b[39mb\u001b[39m\u001b[39m'\u001b[39m\n\u001b[0;32m--> 905\u001b[0m file \u001b[39m=\u001b[39m builtins\u001b[39m.\u001b[39;49mopen(filename, mode, buffering)\n\u001b[1;32m    906\u001b[0m \u001b[39mif\u001b[39;00m encoding \u001b[39mis\u001b[39;00m \u001b[39mNone\u001b[39;00m:\n\u001b[1;32m    907\u001b[0m     \u001b[39mreturn\u001b[39;00m file\n",
      "\u001b[0;31mFileNotFoundError\u001b[0m: [Errno 2] No such file or directory: '../../wiki/wiki.txt'"
     ]
    }
   ],
   "source": [
    "import codecs\n",
    "from bs4 import BeautifulSoup\n",
    "from konlpy.tag import Okt\n",
    "from gensim.models import word2vec\n",
    "\n",
    "# 파일 열기\n",
    "readFp = codecs.open(\"../../wiki/wiki.txt\", \"r\", encoding=\"utf-8\")\n",
    "wakati_file = \"../../wiki/wiki.wakati\"\n",
    "writeFp = open(wakati_file, \"w\", encoding=\"utf-8\")\n",
    "\n",
    "# 형태소 분석 -\n",
    "twitter = Okt()\n",
    "i = 0\n",
    "\n",
    "# 텍스트를 한 줄씩 처리하기\n",
    "while True:\n",
    "    line = readFp.readline()\n",
    "    if not line: break\n",
    "    if i % 20000 == 0:\n",
    "        print(\"current - \" + str(i))\n",
    "    i += 1\n",
    "    # 형태소 분석\n",
    "    malist = twitter.pos(line, norm=True, stem=True)\n",
    "    # 필요한 어구만 대상으로 하기\n",
    "    r = []\n",
    "    for word in malist:\n",
    "        # 어미/조사/구두점 등은 대상에서 제외 \n",
    "        if not word[1] in [\"Josa\", \"Eomi\", \"Punctuation\"]:\n",
    "            writeFp.write(word[0] + \" \")\n",
    "writeFp.close()"
   ]
  },
  {
   "attachments": {},
   "cell_type": "markdown",
   "metadata": {},
   "source": [
    "7. wakati 파일을 model로 만드는 것"
   ]
  },
  {
   "cell_type": "code",
   "execution_count": null,
   "metadata": {},
   "outputs": [],
   "source": [
    "from gensim.models import word2vec\n",
    "data = word2vec.Text8Corpus(\"../../wiki/wiki.wakati\")\n",
    "model = word2vec.Word2Vec(data)\n",
    "model.save(\"../../wiki/wiki.model\")\n",
    "print(\"ok\")"
   ]
  }
 ],
 "metadata": {
  "kernelspec": {
   "display_name": "tf",
   "language": "python",
   "name": "python3"
  },
  "language_info": {
   "codemirror_mode": {
    "name": "ipython",
    "version": 3
   },
   "file_extension": ".py",
   "mimetype": "text/x-python",
   "name": "python",
   "nbconvert_exporter": "python",
   "pygments_lexer": "ipython3",
   "version": "3.10.4"
  },
  "orig_nbformat": 4
 },
 "nbformat": 4,
 "nbformat_minor": 2
}

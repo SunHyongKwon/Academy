{
 "cells": [
  {
   "attachments": {},
   "cell_type": "markdown",
   "metadata": {},
   "source": [
    "### ai 개발자를 꿈꾼다면\n",
    "- 개념정리 확실하게 하고 가기"
   ]
  },
  {
   "attachments": {},
   "cell_type": "markdown",
   "metadata": {},
   "source": [
    "# 인터넷의 빅데이터\n",
    "- 핵심 키워드 : 활용 , 가치 , 생성 <br><br>\n",
    "- 빅데이터는 이름 그대로 대규모의 데이터 집합을 의미. (quantity) <br><br>\n",
    "- 데이터를 수집하는 것만으로는 어떤 의미도 없음 <br><br>\n",
    "- 수집한 데이터를 활용해야 가치가 생성 <br><br>\n"
   ]
  },
  {
   "attachments": {},
   "cell_type": "markdown",
   "metadata": {},
   "source": [
    "\n",
    " ><i> 빅데이터라는 용어는 수집한 데이터를 분석해서 비즈니스에 활용하는 것까지를 의미한다."
   ]
  },
  {
   "attachments": {},
   "cell_type": "markdown",
   "metadata": {},
   "source": [
    "- 빅데이터를 분석한다는 것은 수많은 데이터에서 규칙성을 찾는 것을 말함. <br><br>\n",
    "- 이러한 규칙들을 함수라고 보면 된다. <br><br>\n",
    "- 데이터에 포함되어 있는 요소 중요한 것들을 추출(EDA)하고 이를 분류해서 규칙성을 찾는 것(AI)이 일반적임. <br><br>\n",
    "> 요소 : 데이터 한줄을 의미 :record , 프로그램:parameter , data , sample <br>"
   ]
  },
  {
   "attachments": {},
   "cell_type": "markdown",
   "metadata": {},
   "source": [
    "---\n",
    "### 블로그와 SNS\n",
    "- 트렌드 분석 <br><br>"
   ]
  },
  {
   "attachments": {},
   "cell_type": "markdown",
   "metadata": {},
   "source": [
    "---\n",
    "### 인터넷 전자 상거래\n",
    "- 상품 데이터 베이스 : 이러한 것들을 사이트로 만든 것이 다나와 <br><br>\n",
    "- 네이버와 다음 같은 사이트에서 다양한 곳의 상품 데이터를 모아 웹API로 제공 : kakao 책 API 같은거 <br><br>"
   ]
  },
  {
   "attachments": {},
   "cell_type": "markdown",
   "metadata": {},
   "source": [
    "---\n",
    "### 금융정보\n",
    "- 환율 , 주식등의 다양한 금융정보 <br><br>\n",
    "- 각 국가의 환율 , 주식 , 금값등을 실시간으로 추출 가능 <br><br>\n",
    "- 이러한 정보를 정기적으로 추출하는 것을 크롤링이라 하고, 이를 저장해두고 활용하면 예측 등에 활용할 수 있음 <br><br>"
   ]
  },
  {
   "attachments": {},
   "cell_type": "markdown",
   "metadata": {},
   "source": [
    "---\n",
    "### 이미지 데이터\n",
    "- 플리커 , 인스타그램 같은 사이트에서 이미지 서비스를 활용해서 이미지 획득 가능 <br><br>\n",
    "- 이미지와 함께 제공되는 태그 정보등을 활용 <br><br>\n",
    "    - 이를 활용해서 어느 곳이 가장 핫한지 , 어딜 가장 놀러가는지 등등을 파악할 수 있다. <br><br>\n",
    "\n",
    "---\n",
    "### 행정기관 정보\n",
    "- 공개 데이터 : 서울 열린 데이터 광장 <br><br>\n",
    "\n",
    "---\n",
    "### 위키 데이터\n",
    "- 데이터 가져오는 것이 아무 상관 없다. <br><br>\n",
    "\n",
    "---\n",
    "### 저작권이 없어진 작품\n",
    "- 고전소설 , 고전 그림 <br><br>\n",
    "\n",
    "---\n",
    "### 머신러닝 데이터\n",
    "- 공개 데이터 활용해서 사용할 수 있다. <br><br>"
   ]
  },
  {
   "attachments": {},
   "cell_type": "markdown",
   "metadata": {},
   "source": [
    "---\n",
    "### 데이터 가져올 때 조심해야 할 점\n",
    "- 사이트 주소 뒤에 robots.txt 를 보고 disallow 와 allow를 확인해야 된다. <br><br>\n",
    "- 만약 없다면 free하게 크롤링 해도 된다. "
   ]
  },
  {
   "attachments": {},
   "cell_type": "markdown",
   "metadata": {},
   "source": [
    "---\n",
    "### Scrapying , Crawling , 데이터 가공\n",
    "\n",
    "#### Scrapying\n",
    "- 웹사이트에 있는 특정 정보를 추출하는 기술 <br><br>\n",
    "- 웹에 공개된 정보는 HTML 형식 <br><br>\n",
    "- HTML 데이터를 획득하여 데이터베이스에 저장하려면 가공 기술이 필요 -> 이부분을 파이썬으로 구현하게 될 것이다. <br><br>\n",
    "- 광고 등의 불필요한 정보를 제거하고 필요한 정보를 가져오려면 사이트의 구조를 분석 해야 가능함\n",
    "\n",
    "#### Crawling\n",
    "- 프로그램(웹봇)이 웹사이트를 정기적으로 추출하는 기술\n",
    "\n",
    "---\n",
    "### 머신러닝에 사용할 수 있는 데이터 구조\n",
    "- 수집한 데이터는 머신러닝을 사용해 다양하게 활용 가능함 <br><br>\n",
    "- 웹에서 내려 받은 데이터는 HTML이므로 머신러니이에 바로 사용 불가 <br><br>\n",
    "- 이를 해결하기 위해 데ㅣ터의 구조를 분석하고 필요한 부분만 추출하는 과정이 필요 <br><br>\n",
    "- 텍스트와 이미지 파일을 아무런 처리없이 학습용 데이터로 사용할 수 없다. <br><br>\n",
    "- 데이터에 어떤 특징 있는지 분석가가 직접 확인하고 가공해야 학습을 시킬 수 있다. <br><br>\n",
    "\n",
    "---\n",
    "### Web Crawling\n",
    "- Web Scarpying이라고도 하며 Computer Software 기술로 각종 웹사이트들에서 원하는 정보를 추출하는 것을 의미 <br><br>\n",
    "- 선행학습 : Python 기초, HTML, CSS , Javascript 구조 및 Tag <br><br>\n",
    "\n",
    "---\n",
    "### Web Crawling 기법\n",
    "- HTML page를 가져와서 HTML/CSS등을 parsing하고 필요한 데이터만 추출하는 기법 <br><br>\n",
    "- OpenAPI(RestAPI)를 제공하는 서비스에 OpenAPI를 호출해서 받은 데이터중 필요한 데이터만 추출하는 기법 <br><br>\n",
    "- Web Browser를 Programming으로 조작해서 필요한 데이터만 추출하는 기법\n",
    "\n",
    "--- \n",
    "### Web Crawling의 합법 여부 판단\n",
    "- site명 뒤에 /robots.txt를 확인하여 허용범위 확인"
   ]
  },
  {
   "cell_type": "code",
   "execution_count": null,
   "metadata": {},
   "outputs": [],
   "source": []
  }
 ],
 "metadata": {
  "kernelspec": {
   "display_name": "Python 3",
   "language": "python",
   "name": "python3"
  },
  "language_info": {
   "name": "python",
   "version": "3.9.6 (default, Oct 18 2022, 12:41:40) \n[Clang 14.0.0 (clang-1400.0.29.202)]"
  },
  "orig_nbformat": 4,
  "vscode": {
   "interpreter": {
    "hash": "31f2aee4e71d21fbe5cf8b01ff0e069b9275f58929596ceb00d14d90e3e16cd6"
   }
  }
 },
 "nbformat": 4,
 "nbformat_minor": 2
}

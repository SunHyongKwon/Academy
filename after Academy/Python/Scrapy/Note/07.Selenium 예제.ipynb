{
 "cells": [
  {
   "attachments": {},
   "cell_type": "markdown",
   "metadata": {},
   "source": [
    "---\n",
    "### 가장 맛있는 족발 매장명 , 매장주소, 전화번호 , 이미지"
   ]
  },
  {
   "cell_type": "code",
   "execution_count": 98,
   "metadata": {},
   "outputs": [],
   "source": [
    "from selenium import webdriver\n",
    "from selenium.webdriver.chrome.service import Service\n",
    "from webdriver_manager.chrome import ChromeDriverManager\n",
    "from selenium.webdriver.common.by import By\n",
    "from bs4 import BeautifulSoup\n",
    "import urllib.request as req\n",
    "\n",
    "import pandas as pd"
   ]
  },
  {
   "cell_type": "code",
   "execution_count": 99,
   "metadata": {},
   "outputs": [],
   "source": [
    "chrom_options = webdriver.ChromeOptions()\n",
    "driver = webdriver.Chrome(service=Service(ChromeDriverManager().install()),options=chrom_options)\n",
    "driver.get('https://gajok.kr/sub/store.php')"
   ]
  },
  {
   "cell_type": "code",
   "execution_count": 96,
   "metadata": {},
   "outputs": [
    {
     "name": "stdout",
     "output_type": "stream",
     "text": [
      "403\n"
     ]
    }
   ],
   "source": [
    "# 가게 몇 개 인지 판단하기\n",
    "url='https://gajok.kr/sub/store.php'\n",
    "\n",
    "res = req.urlopen(url)\n",
    "\n",
    "soup = BeautifulSoup(res,\"html.parser\")\n",
    "\n",
    "shops = soup.select('dt')\n",
    "\n",
    "\n",
    "shops = [shop.text for shop in shops]\n",
    "shops.remove('')\n",
    "print(len(shops))"
   ]
  },
  {
   "cell_type": "code",
   "execution_count": 71,
   "metadata": {},
   "outputs": [
    {
     "name": "stdout",
     "output_type": "stream",
     "text": [
      "403 403\n"
     ]
    }
   ],
   "source": [
    "shop_list = driver.find_elements(By.TAG_NAME,'li')\n",
    "\n",
    "shop_lat = [option.get_attribute('data-lat') for option in shop_list if not option.get_attribute('data-lat') is None ]\n",
    "shop_lng = [option.get_attribute('data-lng') for option in shop_list if not option.get_attribute('data-lng') is None ]\n",
    "\n",
    "print(len(shop_lat), len(shop_lng))"
   ]
  },
  {
   "cell_type": "code",
   "execution_count": 103,
   "metadata": {},
   "outputs": [],
   "source": [
    "# li 부분 숫자 늘려주면 됨\n",
    "xpath = f'//*[@id=\"result_store\"]/div[1]/ol/li[199]/a'\n",
    "driver.find_element(By.XPATH,xpath).click()\n",
    "\n",
    "xpath = f'//*[@id=\"map\"]/div[1]/div/div[6]/div[{len(shops)+1}]/div/div[2]/a'\n",
    "driver.find_element(By.XPATH,xpath).click()"
   ]
  },
  {
   "cell_type": "code",
   "execution_count": 107,
   "metadata": {},
   "outputs": [
    {
     "ename": "UnicodeEncodeError",
     "evalue": "'ascii' codec can't encode characters in position 39-40: ordinal not in range(128)",
     "output_type": "error",
     "traceback": [
      "\u001b[0;31m---------------------------------------------------------------------------\u001b[0m",
      "\u001b[0;31mUnicodeEncodeError\u001b[0m                        Traceback (most recent call last)",
      "Cell \u001b[0;32mIn[107], line 6\u001b[0m\n\u001b[1;32m      3\u001b[0m url\u001b[39m=\u001b[39m\u001b[39m'\u001b[39m\u001b[39mhttps://gajok.kr/\u001b[39m\u001b[39m'\u001b[39m\u001b[39m+\u001b[39mimage\u001b[39m.\u001b[39mget_attribute(\u001b[39m'\u001b[39m\u001b[39mstyle\u001b[39m\u001b[39m'\u001b[39m)\u001b[39m.\u001b[39msplit(\u001b[39m'\u001b[39m\u001b[39m\"\u001b[39m\u001b[39m'\u001b[39m)[\u001b[39m1\u001b[39m]\n\u001b[1;32m      5\u001b[0m saveName \u001b[39m=\u001b[39m \u001b[39m\"\u001b[39m\u001b[39m../Data/1.jpg\u001b[39m\u001b[39m\"\u001b[39m\n\u001b[0;32m----> 6\u001b[0m req\u001b[39m.\u001b[39;49murlretrieve(url, saveName)\n",
      "File \u001b[0;32m~/miniforge3/envs/tensorflow/lib/python3.9/urllib/request.py:239\u001b[0m, in \u001b[0;36murlretrieve\u001b[0;34m(url, filename, reporthook, data)\u001b[0m\n\u001b[1;32m    222\u001b[0m \u001b[39m\u001b[39m\u001b[39m\"\"\"\u001b[39;00m\n\u001b[1;32m    223\u001b[0m \u001b[39mRetrieve a URL into a temporary location on disk.\u001b[39;00m\n\u001b[1;32m    224\u001b[0m \n\u001b[0;32m   (...)\u001b[0m\n\u001b[1;32m    235\u001b[0m \u001b[39mdata file as well as the resulting HTTPMessage object.\u001b[39;00m\n\u001b[1;32m    236\u001b[0m \u001b[39m\"\"\"\u001b[39;00m\n\u001b[1;32m    237\u001b[0m url_type, path \u001b[39m=\u001b[39m _splittype(url)\n\u001b[0;32m--> 239\u001b[0m \u001b[39mwith\u001b[39;00m contextlib\u001b[39m.\u001b[39mclosing(urlopen(url, data)) \u001b[39mas\u001b[39;00m fp:\n\u001b[1;32m    240\u001b[0m     headers \u001b[39m=\u001b[39m fp\u001b[39m.\u001b[39minfo()\n\u001b[1;32m    242\u001b[0m     \u001b[39m# Just return the local path and the \"headers\" for file://\u001b[39;00m\n\u001b[1;32m    243\u001b[0m     \u001b[39m# URLs. No sense in performing a copy unless requested.\u001b[39;00m\n",
      "File \u001b[0;32m~/miniforge3/envs/tensorflow/lib/python3.9/urllib/request.py:214\u001b[0m, in \u001b[0;36murlopen\u001b[0;34m(url, data, timeout, cafile, capath, cadefault, context)\u001b[0m\n\u001b[1;32m    212\u001b[0m \u001b[39melse\u001b[39;00m:\n\u001b[1;32m    213\u001b[0m     opener \u001b[39m=\u001b[39m _opener\n\u001b[0;32m--> 214\u001b[0m \u001b[39mreturn\u001b[39;00m opener\u001b[39m.\u001b[39;49mopen(url, data, timeout)\n",
      "File \u001b[0;32m~/miniforge3/envs/tensorflow/lib/python3.9/urllib/request.py:517\u001b[0m, in \u001b[0;36mOpenerDirector.open\u001b[0;34m(self, fullurl, data, timeout)\u001b[0m\n\u001b[1;32m    514\u001b[0m     req \u001b[39m=\u001b[39m meth(req)\n\u001b[1;32m    516\u001b[0m sys\u001b[39m.\u001b[39maudit(\u001b[39m'\u001b[39m\u001b[39murllib.Request\u001b[39m\u001b[39m'\u001b[39m, req\u001b[39m.\u001b[39mfull_url, req\u001b[39m.\u001b[39mdata, req\u001b[39m.\u001b[39mheaders, req\u001b[39m.\u001b[39mget_method())\n\u001b[0;32m--> 517\u001b[0m response \u001b[39m=\u001b[39m \u001b[39mself\u001b[39;49m\u001b[39m.\u001b[39;49m_open(req, data)\n\u001b[1;32m    519\u001b[0m \u001b[39m# post-process response\u001b[39;00m\n\u001b[1;32m    520\u001b[0m meth_name \u001b[39m=\u001b[39m protocol\u001b[39m+\u001b[39m\u001b[39m\"\u001b[39m\u001b[39m_response\u001b[39m\u001b[39m\"\u001b[39m\n",
      "File \u001b[0;32m~/miniforge3/envs/tensorflow/lib/python3.9/urllib/request.py:534\u001b[0m, in \u001b[0;36mOpenerDirector._open\u001b[0;34m(self, req, data)\u001b[0m\n\u001b[1;32m    531\u001b[0m     \u001b[39mreturn\u001b[39;00m result\n\u001b[1;32m    533\u001b[0m protocol \u001b[39m=\u001b[39m req\u001b[39m.\u001b[39mtype\n\u001b[0;32m--> 534\u001b[0m result \u001b[39m=\u001b[39m \u001b[39mself\u001b[39;49m\u001b[39m.\u001b[39;49m_call_chain(\u001b[39mself\u001b[39;49m\u001b[39m.\u001b[39;49mhandle_open, protocol, protocol \u001b[39m+\u001b[39;49m\n\u001b[1;32m    535\u001b[0m                           \u001b[39m'\u001b[39;49m\u001b[39m_open\u001b[39;49m\u001b[39m'\u001b[39;49m, req)\n\u001b[1;32m    536\u001b[0m \u001b[39mif\u001b[39;00m result:\n\u001b[1;32m    537\u001b[0m     \u001b[39mreturn\u001b[39;00m result\n",
      "File \u001b[0;32m~/miniforge3/envs/tensorflow/lib/python3.9/urllib/request.py:494\u001b[0m, in \u001b[0;36mOpenerDirector._call_chain\u001b[0;34m(self, chain, kind, meth_name, *args)\u001b[0m\n\u001b[1;32m    492\u001b[0m \u001b[39mfor\u001b[39;00m handler \u001b[39min\u001b[39;00m handlers:\n\u001b[1;32m    493\u001b[0m     func \u001b[39m=\u001b[39m \u001b[39mgetattr\u001b[39m(handler, meth_name)\n\u001b[0;32m--> 494\u001b[0m     result \u001b[39m=\u001b[39m func(\u001b[39m*\u001b[39;49margs)\n\u001b[1;32m    495\u001b[0m     \u001b[39mif\u001b[39;00m result \u001b[39mis\u001b[39;00m \u001b[39mnot\u001b[39;00m \u001b[39mNone\u001b[39;00m:\n\u001b[1;32m    496\u001b[0m         \u001b[39mreturn\u001b[39;00m result\n",
      "File \u001b[0;32m~/miniforge3/envs/tensorflow/lib/python3.9/urllib/request.py:1389\u001b[0m, in \u001b[0;36mHTTPSHandler.https_open\u001b[0;34m(self, req)\u001b[0m\n\u001b[1;32m   1388\u001b[0m \u001b[39mdef\u001b[39;00m \u001b[39mhttps_open\u001b[39m(\u001b[39mself\u001b[39m, req):\n\u001b[0;32m-> 1389\u001b[0m     \u001b[39mreturn\u001b[39;00m \u001b[39mself\u001b[39;49m\u001b[39m.\u001b[39;49mdo_open(http\u001b[39m.\u001b[39;49mclient\u001b[39m.\u001b[39;49mHTTPSConnection, req,\n\u001b[1;32m   1390\u001b[0m         context\u001b[39m=\u001b[39;49m\u001b[39mself\u001b[39;49m\u001b[39m.\u001b[39;49m_context, check_hostname\u001b[39m=\u001b[39;49m\u001b[39mself\u001b[39;49m\u001b[39m.\u001b[39;49m_check_hostname)\n",
      "File \u001b[0;32m~/miniforge3/envs/tensorflow/lib/python3.9/urllib/request.py:1346\u001b[0m, in \u001b[0;36mAbstractHTTPHandler.do_open\u001b[0;34m(self, http_class, req, **http_conn_args)\u001b[0m\n\u001b[1;32m   1344\u001b[0m \u001b[39mtry\u001b[39;00m:\n\u001b[1;32m   1345\u001b[0m     \u001b[39mtry\u001b[39;00m:\n\u001b[0;32m-> 1346\u001b[0m         h\u001b[39m.\u001b[39;49mrequest(req\u001b[39m.\u001b[39;49mget_method(), req\u001b[39m.\u001b[39;49mselector, req\u001b[39m.\u001b[39;49mdata, headers,\n\u001b[1;32m   1347\u001b[0m                   encode_chunked\u001b[39m=\u001b[39;49mreq\u001b[39m.\u001b[39;49mhas_header(\u001b[39m'\u001b[39;49m\u001b[39mTransfer-encoding\u001b[39;49m\u001b[39m'\u001b[39;49m))\n\u001b[1;32m   1348\u001b[0m     \u001b[39mexcept\u001b[39;00m \u001b[39mOSError\u001b[39;00m \u001b[39mas\u001b[39;00m err: \u001b[39m# timeout error\u001b[39;00m\n\u001b[1;32m   1349\u001b[0m         \u001b[39mraise\u001b[39;00m URLError(err)\n",
      "File \u001b[0;32m~/miniforge3/envs/tensorflow/lib/python3.9/http/client.py:1285\u001b[0m, in \u001b[0;36mHTTPConnection.request\u001b[0;34m(self, method, url, body, headers, encode_chunked)\u001b[0m\n\u001b[1;32m   1282\u001b[0m \u001b[39mdef\u001b[39;00m \u001b[39mrequest\u001b[39m(\u001b[39mself\u001b[39m, method, url, body\u001b[39m=\u001b[39m\u001b[39mNone\u001b[39;00m, headers\u001b[39m=\u001b[39m{}, \u001b[39m*\u001b[39m,\n\u001b[1;32m   1283\u001b[0m             encode_chunked\u001b[39m=\u001b[39m\u001b[39mFalse\u001b[39;00m):\n\u001b[1;32m   1284\u001b[0m \u001b[39m    \u001b[39m\u001b[39m\"\"\"Send a complete request to the server.\"\"\"\u001b[39;00m\n\u001b[0;32m-> 1285\u001b[0m     \u001b[39mself\u001b[39;49m\u001b[39m.\u001b[39;49m_send_request(method, url, body, headers, encode_chunked)\n",
      "File \u001b[0;32m~/miniforge3/envs/tensorflow/lib/python3.9/http/client.py:1296\u001b[0m, in \u001b[0;36mHTTPConnection._send_request\u001b[0;34m(self, method, url, body, headers, encode_chunked)\u001b[0m\n\u001b[1;32m   1293\u001b[0m \u001b[39mif\u001b[39;00m \u001b[39m'\u001b[39m\u001b[39maccept-encoding\u001b[39m\u001b[39m'\u001b[39m \u001b[39min\u001b[39;00m header_names:\n\u001b[1;32m   1294\u001b[0m     skips[\u001b[39m'\u001b[39m\u001b[39mskip_accept_encoding\u001b[39m\u001b[39m'\u001b[39m] \u001b[39m=\u001b[39m \u001b[39m1\u001b[39m\n\u001b[0;32m-> 1296\u001b[0m \u001b[39mself\u001b[39;49m\u001b[39m.\u001b[39;49mputrequest(method, url, \u001b[39m*\u001b[39;49m\u001b[39m*\u001b[39;49mskips)\n\u001b[1;32m   1298\u001b[0m \u001b[39m# chunked encoding will happen if HTTP/1.1 is used and either\u001b[39;00m\n\u001b[1;32m   1299\u001b[0m \u001b[39m# the caller passes encode_chunked=True or the following\u001b[39;00m\n\u001b[1;32m   1300\u001b[0m \u001b[39m# conditions hold:\u001b[39;00m\n\u001b[1;32m   1301\u001b[0m \u001b[39m# 1. content-length has not been explicitly set\u001b[39;00m\n\u001b[1;32m   1302\u001b[0m \u001b[39m# 2. the body is a file or iterable, but not a str or bytes-like\u001b[39;00m\n\u001b[1;32m   1303\u001b[0m \u001b[39m# 3. Transfer-Encoding has NOT been explicitly set by the caller\u001b[39;00m\n\u001b[1;32m   1305\u001b[0m \u001b[39mif\u001b[39;00m \u001b[39m'\u001b[39m\u001b[39mcontent-length\u001b[39m\u001b[39m'\u001b[39m \u001b[39mnot\u001b[39;00m \u001b[39min\u001b[39;00m header_names:\n\u001b[1;32m   1306\u001b[0m     \u001b[39m# only chunk body if not explicitly set for backwards\u001b[39;00m\n\u001b[1;32m   1307\u001b[0m     \u001b[39m# compatibility, assuming the client code is already handling the\u001b[39;00m\n\u001b[1;32m   1308\u001b[0m     \u001b[39m# chunking\u001b[39;00m\n",
      "File \u001b[0;32m~/miniforge3/envs/tensorflow/lib/python3.9/http/client.py:1134\u001b[0m, in \u001b[0;36mHTTPConnection.putrequest\u001b[0;34m(self, method, url, skip_host, skip_accept_encoding)\u001b[0m\n\u001b[1;32m   1130\u001b[0m \u001b[39mself\u001b[39m\u001b[39m.\u001b[39m_validate_path(url)\n\u001b[1;32m   1132\u001b[0m request \u001b[39m=\u001b[39m \u001b[39m'\u001b[39m\u001b[39m%s\u001b[39;00m\u001b[39m \u001b[39m\u001b[39m%s\u001b[39;00m\u001b[39m \u001b[39m\u001b[39m%s\u001b[39;00m\u001b[39m'\u001b[39m \u001b[39m%\u001b[39m (method, url, \u001b[39mself\u001b[39m\u001b[39m.\u001b[39m_http_vsn_str)\n\u001b[0;32m-> 1134\u001b[0m \u001b[39mself\u001b[39m\u001b[39m.\u001b[39m_output(\u001b[39mself\u001b[39;49m\u001b[39m.\u001b[39;49m_encode_request(request))\n\u001b[1;32m   1136\u001b[0m \u001b[39mif\u001b[39;00m \u001b[39mself\u001b[39m\u001b[39m.\u001b[39m_http_vsn \u001b[39m==\u001b[39m \u001b[39m11\u001b[39m:\n\u001b[1;32m   1137\u001b[0m     \u001b[39m# Issue some standard headers for better HTTP/1.1 compliance\u001b[39;00m\n\u001b[1;32m   1139\u001b[0m     \u001b[39mif\u001b[39;00m \u001b[39mnot\u001b[39;00m skip_host:\n\u001b[1;32m   1140\u001b[0m         \u001b[39m# this header is issued *only* for HTTP/1.1\u001b[39;00m\n\u001b[1;32m   1141\u001b[0m         \u001b[39m# connections. more specifically, this means it is\u001b[39;00m\n\u001b[0;32m   (...)\u001b[0m\n\u001b[1;32m   1151\u001b[0m         \u001b[39m# but the host of the actual URL, not the host of the\u001b[39;00m\n\u001b[1;32m   1152\u001b[0m         \u001b[39m# proxy.\u001b[39;00m\n",
      "File \u001b[0;32m~/miniforge3/envs/tensorflow/lib/python3.9/http/client.py:1214\u001b[0m, in \u001b[0;36mHTTPConnection._encode_request\u001b[0;34m(self, request)\u001b[0m\n\u001b[1;32m   1212\u001b[0m \u001b[39mdef\u001b[39;00m \u001b[39m_encode_request\u001b[39m(\u001b[39mself\u001b[39m, request):\n\u001b[1;32m   1213\u001b[0m     \u001b[39m# ASCII also helps prevent CVE-2019-9740.\u001b[39;00m\n\u001b[0;32m-> 1214\u001b[0m     \u001b[39mreturn\u001b[39;00m request\u001b[39m.\u001b[39;49mencode(\u001b[39m'\u001b[39;49m\u001b[39mascii\u001b[39;49m\u001b[39m'\u001b[39;49m)\n",
      "\u001b[0;31mUnicodeEncodeError\u001b[0m: 'ascii' codec can't encode characters in position 39-40: ordinal not in range(128)"
     ]
    }
   ],
   "source": [
    "# 거기서 정보 가져오기\n",
    "image = driver.find_element(By.XPATH,'//*[@id=\"detail\"]/div/div/div/div[1]/div')\n",
    "url='https://gajok.kr/'+image.get_attribute('style').split('\"')[1]\n",
    "\n",
    "saveName = \"../Data/1.jpg\"\n",
    "req.urlretrieve(url, saveName)\n"
   ]
  },
  {
   "cell_type": "code",
   "execution_count": 75,
   "metadata": {},
   "outputs": [
    {
     "name": "stdout",
     "output_type": "stream",
     "text": [
      "서울시 서초구 서초대로73길 42(서초동)\n",
      "02-595-5849\n"
     ]
    }
   ],
   "source": [
    "# delay 넣어야 됨\n",
    "# selenium에서 Beautiful sopu 이용해서 텍스트 정보 가져오기 \n",
    "html = driver.page_source\n",
    "soup = BeautifulSoup(html, 'html.parser') \n",
    "\n",
    "# 가게 이름\n",
    "soup.select_one('h4').text\n",
    "# 주소\n",
    "address = soup.select_one('div.info li')\n",
    "print(address.text.replace('매장주소',''))\n",
    "\n",
    "# 전화번호\n",
    "phone=soup.select_one('div.info a')\n",
    "print(phone.text)\n"
   ]
  },
  {
   "cell_type": "code",
   "execution_count": 101,
   "metadata": {},
   "outputs": [],
   "source": [
    "# 닫기\n",
    "xpath = '//*[@id=\"detail\"]/div/div/a'\n",
    "driver.find_element(By.XPATH,xpath).click()"
   ]
  },
  {
   "cell_type": "code",
   "execution_count": 97,
   "metadata": {},
   "outputs": [
    {
     "name": "stdout",
     "output_type": "stream",
     "text": [
      "가게이름 :  강남1호점\n",
      "가게주소 :  서울시 서초구 서초대로73길 42(서초동)\n",
      "가게번호 :  02-595-5849\n",
      "이미지이 :  https://gajok.kr/upload/store/none01.png\n",
      "가게이름 :  신림점\n",
      "가게주소 :  서울시 관악구 신림동길 5\n",
      "가게번호 :  02-812-1515\n",
      "이미지이 :  https://gajok.kr/upload/store/none01.png\n",
      "가게이름 :  관악미성점\n",
      "가게주소 :  서울시 관악구 신림동 606-5 1층\n",
      "가게번호 :  02-866-2656\n",
      "이미지이 :  https://gajok.kr/upload/store/none01.png\n",
      "error\n",
      "error\n",
      "error\n",
      "error\n",
      "error\n",
      "error\n"
     ]
    }
   ],
   "source": [
    "# 천안성정점\n",
    "import time\n",
    "\n",
    "names = []\n",
    "addresses = []\n",
    "phones = []\n",
    "images = []\n",
    "\n",
    "for i in range(1,10):\n",
    "    try:\n",
    "        xpath = f'//*[@id=\"result_store\"]/div[1]/ol/li[{i}]/a'\n",
    "        driver.find_element(By.XPATH,xpath).click()\n",
    "\n",
    "        time.sleep(1)\n",
    "\n",
    "        xpath = f'//*[@id=\"map\"]/div[1]/div/div[6]/div[{len(shops)+1}]/div/div[2]/a'\n",
    "        driver.find_element(By.XPATH,xpath).click()\n",
    "\n",
    "        time.sleep(1)\n",
    "\n",
    "        # 텍스트 정보 가져오기\n",
    "        # selenium에서 Beautiful soup 이용해서 텍스트 정보 가져오기 \n",
    "        html = driver.page_source\n",
    "        soup = BeautifulSoup(html, 'html.parser') \n",
    "\n",
    "        # 가게 이름\n",
    "        names.append(soup.select_one('h4').text)\n",
    "        print(\"가게이름 : \",soup.select_one('h4').text)\n",
    "        \n",
    "        # 주소\n",
    "        address = soup.select_one('div.info li')\n",
    "        addresses.append(address.text.replace('매장주소',''))\n",
    "        print(\"가게주소 : \",address.text.replace('매장주소',''))\n",
    "\n",
    "        # 전화번호\n",
    "        phone=soup.select_one('div.info a')\n",
    "        phones.append(phone.text)\n",
    "        print(\"가게번호 : \",phone.text)\n",
    "        \n",
    "\n",
    "        # 이미지 저장하기\n",
    "        image = driver.find_element(By.XPATH,'//*[@id=\"detail\"]/div/div/div/div[1]/div')\n",
    "        url='https://gajok.kr'+image.get_attribute('style').split(';')[0][23:-2]\n",
    "\n",
    "        images.append(url)\n",
    "        print(\"이미지이 : \",url)\n",
    "\n",
    "        saveName = f\"../Image/{i}.jpg\"\n",
    "        req.urlretrieve(url, saveName)\n",
    "\n",
    "        xpath = '//*[@id=\"detail\"]/div/div/a/img'\n",
    "        driver.find_element(By.XPATH,xpath).click()\n",
    "\n",
    "        time.sleep(1)\n",
    "\n",
    "    except:\n",
    "        print('error')"
   ]
  },
  {
   "cell_type": "code",
   "execution_count": null,
   "metadata": {},
   "outputs": [],
   "source": []
  }
 ],
 "metadata": {
  "kernelspec": {
   "display_name": "tensorflow",
   "language": "python",
   "name": "python3"
  },
  "language_info": {
   "codemirror_mode": {
    "name": "ipython",
    "version": 3
   },
   "file_extension": ".py",
   "mimetype": "text/x-python",
   "name": "python",
   "nbconvert_exporter": "python",
   "pygments_lexer": "ipython3",
   "version": "3.11.0"
  },
  "orig_nbformat": 4,
  "vscode": {
   "interpreter": {
    "hash": "a3680a952170aa4879024e73d39878b7aac962f0b16bced1a9689b2321800c8b"
   }
  }
 },
 "nbformat": 4,
 "nbformat_minor": 2
}

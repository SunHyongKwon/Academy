{
 "cells": [
  {
   "attachments": {},
   "cell_type": "markdown",
   "metadata": {},
   "source": [
    "### Auto Encoder\n",
    "- 주성분 분석을 하면서 컬럼의 수는 유지하는 방법이다. <br><br>\n",
    "- 강화학습 전에 auto-encoder를 통해 noise를 제거 하게 되면 데이터는 축소되고 특징은 더 살아나게 된다. <br><br>\n",
    "- 비지도학습 딥러닝 모델 <br><br>\n",
    "- 입력값을 압축시킨 후 다시 압축된 정보를 복원해서 입력 값과 동일 출력값으로 학습되는 모델 <br><br>\n",
    "- 학습 과정을 통해 최대한 입력값과 출력값이 일치되도록 모델 파라미터가 최적화 된다. <br><br>\n",
    "- 오토 인코더의 압축된 정보는 입력값에서 노이즈가 제거된 핵심 특징들로 구성된 저차원 데이터로 간주되어 주로 차원 축소의 목적으로 활용 <br><br>"
   ]
  },
  {
   "cell_type": "code",
   "execution_count": 148,
   "metadata": {},
   "outputs": [
    {
     "data": {
      "text/html": [
       "<img src=\"https://raw.githubusercontent.com/captainchargers/deeplearning/master/img/autoencoder1.png\" width=\"500\" height=\"100\"/>"
      ],
      "text/plain": [
       "<IPython.core.display.Image object>"
      ]
     },
     "execution_count": 148,
     "metadata": {},
     "output_type": "execute_result"
    }
   ],
   "source": [
    "from IPython.display import Image\n",
    "Image(url= \"https://raw.githubusercontent.com/captainchargers/deeplearning/master/img/autoencoder1.png\", width=500, height=100)"
   ]
  },
  {
   "attachments": {},
   "cell_type": "markdown",
   "metadata": {},
   "source": [
    "### 손글씨 숫자 데이터"
   ]
  },
  {
   "cell_type": "code",
   "execution_count": 149,
   "metadata": {},
   "outputs": [],
   "source": [
    "from tensorflow import keras\n",
    "import numpy as np\n",
    "import matplotlib.pyplot as plt"
   ]
  },
  {
   "cell_type": "code",
   "execution_count": 150,
   "metadata": {},
   "outputs": [],
   "source": [
    "(x_train , y_train ), (x_test , y_test) = keras.datasets.mnist.load_data()"
   ]
  },
  {
   "cell_type": "code",
   "execution_count": 151,
   "metadata": {},
   "outputs": [
    {
     "data": {
      "text/plain": [
       "(60000, 28, 28)"
      ]
     },
     "execution_count": 151,
     "metadata": {},
     "output_type": "execute_result"
    }
   ],
   "source": [
    "x_train.shape"
   ]
  },
  {
   "cell_type": "code",
   "execution_count": 152,
   "metadata": {},
   "outputs": [],
   "source": [
    "# data의 정규화\n",
    "x_train = x_train.astype('float32') / 255\n",
    "x_test = x_test.astype('float32') / 255\n",
    "\n",
    "x_train = x_train.reshape(len(x_train),28*28)\n",
    "x_test = x_test.reshape(len(x_test),28*28)"
   ]
  },
  {
   "cell_type": "code",
   "execution_count": 153,
   "metadata": {},
   "outputs": [
    {
     "data": {
      "text/plain": [
       "(10000, 784)"
      ]
     },
     "execution_count": 153,
     "metadata": {},
     "output_type": "execute_result"
    }
   ],
   "source": [
    "x_test.shape"
   ]
  },
  {
   "attachments": {},
   "cell_type": "markdown",
   "metadata": {},
   "source": [
    "### Tensorflow model 만들기"
   ]
  },
  {
   "cell_type": "code",
   "execution_count": 154,
   "metadata": {},
   "outputs": [],
   "source": [
    "InputModel = keras.layers.Input(shape=(28*28))"
   ]
  },
  {
   "cell_type": "code",
   "execution_count": 155,
   "metadata": {},
   "outputs": [],
   "source": [
    "# EncoderLayer는 3차원으로 축소된 입력값\n",
    "EncodedLayer = keras.layers.Dense(32,activation = 'relu')(InputModel) # 이렇게 하면 두개층이 붙은 것이다."
   ]
  },
  {
   "cell_type": "code",
   "execution_count": 156,
   "metadata": {},
   "outputs": [],
   "source": [
    "# DecodeLayer는 MNIST차원으로 복원된 값\n",
    "DecodeLayer = keras.layers.Dense(28 * 28,activation = 'sigmoid')(EncodedLayer) # 0아니면 1값으로 비교해서 이게 쓸만한건지 안쓸만한건지 구분하기 위해서"
   ]
  },
  {
   "cell_type": "code",
   "execution_count": 157,
   "metadata": {},
   "outputs": [],
   "source": [
    "# AutoEncoderModel은 입력값과 복원값을 최소화 하는 과정\n",
    "AutoencoderModel = keras.models.Model(InputModel , DecodeLayer)"
   ]
  },
  {
   "cell_type": "code",
   "execution_count": 158,
   "metadata": {},
   "outputs": [],
   "source": [
    "AutoencoderModel.compile(optimizer='adam',loss='binary_crossentropy')"
   ]
  },
  {
   "cell_type": "code",
   "execution_count": 159,
   "metadata": {},
   "outputs": [
    {
     "name": "stdout",
     "output_type": "stream",
     "text": [
      "Epoch 1/20\n",
      "6000/6000 [==============================] - 4s 681us/step - loss: 0.1289 - val_loss: 0.0972\n",
      "Epoch 2/20\n",
      "6000/6000 [==============================] - 4s 673us/step - loss: 0.0966 - val_loss: 0.0942\n",
      "Epoch 3/20\n",
      "6000/6000 [==============================] - 4s 672us/step - loss: 0.0954 - val_loss: 0.0940\n",
      "Epoch 4/20\n",
      "6000/6000 [==============================] - 4s 655us/step - loss: 0.0950 - val_loss: 0.0932\n",
      "Epoch 5/20\n",
      "6000/6000 [==============================] - 4s 678us/step - loss: 0.0947 - val_loss: 0.0935\n",
      "Epoch 6/20\n",
      "6000/6000 [==============================] - 4s 669us/step - loss: 0.0945 - val_loss: 0.0930\n",
      "Epoch 7/20\n",
      "6000/6000 [==============================] - 4s 677us/step - loss: 0.0943 - val_loss: 0.0932\n",
      "Epoch 8/20\n",
      "6000/6000 [==============================] - 4s 700us/step - loss: 0.0942 - val_loss: 0.0928\n",
      "Epoch 9/20\n",
      "6000/6000 [==============================] - 4s 640us/step - loss: 0.0941 - val_loss: 0.0928\n",
      "Epoch 10/20\n",
      "6000/6000 [==============================] - 4s 720us/step - loss: 0.0940 - val_loss: 0.0928\n",
      "Epoch 11/20\n",
      "6000/6000 [==============================] - 4s 675us/step - loss: 0.0939 - val_loss: 0.0927\n",
      "Epoch 12/20\n",
      "6000/6000 [==============================] - 4s 690us/step - loss: 0.0939 - val_loss: 0.0930\n",
      "Epoch 13/20\n",
      "6000/6000 [==============================] - 4s 710us/step - loss: 0.0938 - val_loss: 0.0924\n",
      "Epoch 14/20\n",
      "6000/6000 [==============================] - 4s 714us/step - loss: 0.0938 - val_loss: 0.0925\n",
      "Epoch 15/20\n",
      "6000/6000 [==============================] - 4s 709us/step - loss: 0.0937 - val_loss: 0.0924\n",
      "Epoch 16/20\n",
      "6000/6000 [==============================] - 4s 660us/step - loss: 0.0936 - val_loss: 0.0925\n",
      "Epoch 17/20\n",
      "6000/6000 [==============================] - 4s 644us/step - loss: 0.0936 - val_loss: 0.0926\n",
      "Epoch 18/20\n",
      "6000/6000 [==============================] - 4s 644us/step - loss: 0.0935 - val_loss: 0.0923\n",
      "Epoch 19/20\n",
      "6000/6000 [==============================] - 4s 691us/step - loss: 0.0935 - val_loss: 0.0923\n",
      "Epoch 20/20\n",
      "6000/6000 [==============================] - 4s 706us/step - loss: 0.0935 - val_loss: 0.0921\n"
     ]
    }
   ],
   "source": [
    "history = AutoencoderModel.fit(x_train,x_train,batch_size=256,epochs=20,shuffle=True,\n",
    "                               validation_data = (x_test, x_test)\n",
    "                               )"
   ]
  },
  {
   "cell_type": "code",
   "execution_count": 160,
   "metadata": {},
   "outputs": [
    {
     "name": "stdout",
     "output_type": "stream",
     "text": [
      "313/313 [==============================] - 0s 404us/step\n"
     ]
    }
   ],
   "source": [
    "DecodedDigits = AutoencoderModel.predict(x_test)"
   ]
  },
  {
   "cell_type": "code",
   "execution_count": 161,
   "metadata": {},
   "outputs": [
    {
     "name": "stdout",
     "output_type": "stream",
     "text": [
      "(10000, 784)\n",
      "(10000, 784)\n"
     ]
    }
   ],
   "source": [
    "print(x_test.shape)\n",
    "print(DecodedDigits.shape)"
   ]
  },
  {
   "cell_type": "code",
   "execution_count": 162,
   "metadata": {},
   "outputs": [
    {
     "data": {
      "image/png": "[encoded data removed]",
      "text/plain": [
       "<Figure size 640x480 with 1 Axes>"
      ]
     },
     "metadata": {},
     "output_type": "display_data"
    }
   ],
   "source": [
    "plt.plot(history.history['loss'],label='train')\n",
    "plt.plot(history.history['val_loss'],label='valid')\n",
    "\n",
    "plt.xlabel('epochs')\n",
    "plt.ylabel('loss')\n",
    "plt.title('AutoEncoder Model Loss')\n",
    "plt.legend()\n",
    "\n",
    "plt.show()"
   ]
  },
  {
   "cell_type": "code",
   "execution_count": 163,
   "metadata": {},
   "outputs": [
    {
     "data": {
      "image/png": "[encoded data removed]",
      "text/plain": [
       "<Figure size 2000x400 with 20 Axes>"
      ]
     },
     "metadata": {},
     "output_type": "display_data"
    }
   ],
   "source": [
    "n = 10\n",
    "plt.figure(figsize=(20,4))\n",
    "for i in range(n):\n",
    "    ax = plt.subplot(2, n , i+1)\n",
    "\n",
    "    plt.imshow(x_test[i].reshape(28,28))\n",
    "    \n",
    "    plt.axis('off')\n",
    "\n",
    "    plt.gray()\n",
    "    ax = plt.subplot(2, n , i+1+n)\n",
    "\n",
    "    plt.imshow(DecodedDigits[i].reshape(28,28))\n",
    "    \n",
    "    plt.axis('off')\n",
    "\n",
    "    plt.gray()"
   ]
  },
  {
   "cell_type": "code",
   "execution_count": null,
   "metadata": {},
   "outputs": [],
   "source": []
  }
 ],
 "metadata": {
  "kernelspec": {
   "display_name": "Python 3",
   "language": "python",
   "name": "python3"
  },
  "language_info": {
   "codemirror_mode": {
    "name": "ipython",
    "version": 3
   },
   "file_extension": ".py",
   "mimetype": "text/x-python",
   "name": "python",
   "nbconvert_exporter": "python",
   "pygments_lexer": "ipython3",
   "version": "3.10.9"
  },
  "orig_nbformat": 4
 },
 "nbformat": 4,
 "nbformat_minor": 2
}

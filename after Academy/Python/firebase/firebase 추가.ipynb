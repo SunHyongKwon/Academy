{
 "cells": [
  {
   "cell_type": "code",
   "execution_count": 1,
   "metadata": {},
   "outputs": [],
   "source": [
    "import pandas as pd\n",
    "import json"
   ]
  },
  {
   "cell_type": "code",
   "execution_count": 2,
   "metadata": {},
   "outputs": [],
   "source": [
    "df =pd.read_csv('./Data/words.csv')"
   ]
  },
  {
   "cell_type": "code",
   "execution_count": 3,
   "metadata": {},
   "outputs": [],
   "source": [
    "df['wrong one']=df['뜻'].shift(1)\n",
    "df['wrong two']=df['뜻'].shift(2)\n",
    "df.iloc[0:1,4:] = [[df['뜻'][2999],df['뜻'][2998]]]\n",
    "df.iloc[1:2,4:] = [[df['뜻'][0],df['뜻'][2999]]]\n",
    "df = df.iloc[0:100,:]"
   ]
  },
  {
   "cell_type": "code",
   "execution_count": 4,
   "metadata": {},
   "outputs": [],
   "source": [
    "df = df.sort_values(by='단계',ascending=False)"
   ]
  },
  {
   "cell_type": "code",
   "execution_count": 5,
   "metadata": {},
   "outputs": [
    {
     "data": {
      "text/html": [
       "<div>\n",
       "<style scoped>\n",
       "    .dataframe tbody tr th:only-of-type {\n",
       "        vertical-align: middle;\n",
       "    }\n",
       "\n",
       "    .dataframe tbody tr th {\n",
       "        vertical-align: top;\n",
       "    }\n",
       "\n",
       "    .dataframe thead th {\n",
       "        text-align: right;\n",
       "    }\n",
       "</style>\n",
       "<table border=\"1\" class=\"dataframe\">\n",
       "  <thead>\n",
       "    <tr style=\"text-align: right;\">\n",
       "      <th></th>\n",
       "      <th>번호</th>\n",
       "      <th>단어</th>\n",
       "      <th>뜻</th>\n",
       "      <th>단계</th>\n",
       "      <th>wrong one</th>\n",
       "      <th>wrong two</th>\n",
       "    </tr>\n",
       "  </thead>\n",
       "  <tbody>\n",
       "    <tr>\n",
       "      <th>0</th>\n",
       "      <td>1</td>\n",
       "      <td>a</td>\n",
       "      <td>하나의</td>\n",
       "      <td>초등</td>\n",
       "      <td>동물원</td>\n",
       "      <td>대</td>\n",
       "    </tr>\n",
       "    <tr>\n",
       "      <th>36</th>\n",
       "      <td>37</td>\n",
       "      <td>act</td>\n",
       "      <td>vi행동하다</td>\n",
       "      <td>초등</td>\n",
       "      <td>가로질러</td>\n",
       "      <td>획득</td>\n",
       "    </tr>\n",
       "    <tr>\n",
       "      <th>82</th>\n",
       "      <td>83</td>\n",
       "      <td>air</td>\n",
       "      <td>공기</td>\n",
       "      <td>초등</td>\n",
       "      <td>겨누다</td>\n",
       "      <td>도와 주다</td>\n",
       "    </tr>\n",
       "    <tr>\n",
       "      <th>79</th>\n",
       "      <td>80</td>\n",
       "      <td>ahead</td>\n",
       "      <td>전방에</td>\n",
       "      <td>초등</td>\n",
       "      <td>농업</td>\n",
       "      <td>동의하다</td>\n",
       "    </tr>\n",
       "    <tr>\n",
       "      <th>77</th>\n",
       "      <td>78</td>\n",
       "      <td>agree</td>\n",
       "      <td>동의하다</td>\n",
       "      <td>초등</td>\n",
       "      <td>이전에</td>\n",
       "      <td>침략적인</td>\n",
       "    </tr>\n",
       "    <tr>\n",
       "      <th>...</th>\n",
       "      <td>...</td>\n",
       "      <td>...</td>\n",
       "      <td>...</td>\n",
       "      <td>...</td>\n",
       "      <td>...</td>\n",
       "      <td>...</td>\n",
       "    </tr>\n",
       "    <tr>\n",
       "      <th>26</th>\n",
       "      <td>27</td>\n",
       "      <td>accumulate</td>\n",
       "      <td>축적하다</td>\n",
       "      <td>전문</td>\n",
       "      <td>설명하다 계산</td>\n",
       "      <td>일치하다</td>\n",
       "    </tr>\n",
       "    <tr>\n",
       "      <th>4</th>\n",
       "      <td>5</td>\n",
       "      <td>abort</td>\n",
       "      <td>유산하다</td>\n",
       "      <td>전문</td>\n",
       "      <td>배로</td>\n",
       "      <td>할 수 있는</td>\n",
       "    </tr>\n",
       "    <tr>\n",
       "      <th>32</th>\n",
       "      <td>33</td>\n",
       "      <td>acquaint</td>\n",
       "      <td>알리다</td>\n",
       "      <td>전문</td>\n",
       "      <td>인정하다</td>\n",
       "      <td>산 신</td>\n",
       "    </tr>\n",
       "    <tr>\n",
       "      <th>56</th>\n",
       "      <td>57</td>\n",
       "      <td>adverse</td>\n",
       "      <td>거꾸로의</td>\n",
       "      <td>전문</td>\n",
       "      <td>모험 모험하다</td>\n",
       "      <td>유리한 입장</td>\n",
       "    </tr>\n",
       "    <tr>\n",
       "      <th>64</th>\n",
       "      <td>65</td>\n",
       "      <td>affiliate</td>\n",
       "      <td>회원으로 가입시키다</td>\n",
       "      <td>전문</td>\n",
       "      <td>애정</td>\n",
       "      <td>영향을 주다</td>\n",
       "    </tr>\n",
       "  </tbody>\n",
       "</table>\n",
       "<p>100 rows × 6 columns</p>\n",
       "</div>"
      ],
      "text/plain": [
       "    번호          단어           뜻  단계 wrong one wrong two\n",
       "0    1           a         하나의  초등       동물원         대\n",
       "36  37         act      vi행동하다  초등      가로질러        획득\n",
       "82  83         air          공기  초등       겨누다     도와 주다\n",
       "79  80       ahead         전방에  초등        농업      동의하다\n",
       "77  78       agree        동의하다  초등       이전에      침략적인\n",
       "..  ..         ...         ...  ..       ...       ...\n",
       "26  27  accumulate        축적하다  전문   설명하다 계산      일치하다\n",
       "4    5       abort        유산하다  전문        배로    할 수 있는\n",
       "32  33    acquaint         알리다  전문      인정하다       산 신\n",
       "56  57     adverse        거꾸로의  전문   모험 모험하다    유리한 입장\n",
       "64  65   affiliate  회원으로 가입시키다  전문        애정    영향을 주다\n",
       "\n",
       "[100 rows x 6 columns]"
      ]
     },
     "execution_count": 5,
     "metadata": {},
     "output_type": "execute_result"
    }
   ],
   "source": [
    "df"
   ]
  },
  {
   "cell_type": "code",
   "execution_count": 6,
   "metadata": {},
   "outputs": [],
   "source": [
    "indexs = df.index\n",
    "words = df['단어']\n",
    "means = df['뜻']\n",
    "wrong1 = df['wrong one']\n",
    "wrong2 = df['wrong two']\n",
    "steps = df['단계']"
   ]
  },
  {
   "cell_type": "code",
   "execution_count": 7,
   "metadata": {},
   "outputs": [
    {
     "data": {
      "text/plain": [
       "'a'"
      ]
     },
     "execution_count": 7,
     "metadata": {},
     "output_type": "execute_result"
    }
   ],
   "source": [
    "words[0]"
   ]
  },
  {
   "cell_type": "code",
   "execution_count": 8,
   "metadata": {},
   "outputs": [],
   "source": [
    "\n",
    "wordList = []\n",
    "for i in range(100):\n",
    "    wordMap = {}\n",
    "    wordMap['word'] = words[i]\n",
    "    wordMap['mean'] = means[i]\n",
    "    wordMap['wrong1'] = wrong1[i]\n",
    "    wordMap['wrong2'] = wrong2[i]\n",
    "    wordMap['step'] = steps[i]\n",
    "\n",
    "    wordList.append(wordMap)"
   ]
  },
  {
   "cell_type": "code",
   "execution_count": 9,
   "metadata": {},
   "outputs": [
    {
     "data": {
      "text/plain": [
       "100"
      ]
     },
     "execution_count": 9,
     "metadata": {},
     "output_type": "execute_result"
    }
   ],
   "source": [
    "len(wordList)"
   ]
  },
  {
   "cell_type": "code",
   "execution_count": 10,
   "metadata": {},
   "outputs": [],
   "source": [
    "with open('./Data/words.json','w') as f:\n",
    "    json.dump(wordList,f)"
   ]
  },
  {
   "cell_type": "code",
   "execution_count": 11,
   "metadata": {},
   "outputs": [],
   "source": [
    "import firebase_admin\n",
    "from firebase_admin import credentials\n",
    "from firebase_admin import firestore\n",
    "\n",
    "cred = credentials.Certificate(\"./Data/serviceAccountKey.json\")\n",
    "firebase_admin.initialize_app(cred)\n",
    "\n",
    "db = firestore.client()"
   ]
  },
  {
   "cell_type": "code",
   "execution_count": 12,
   "metadata": {},
   "outputs": [],
   "source": [
    "with open(\"./Data/words.json\", \"r\") as st_json:\n",
    "\n",
    "    st_python = json.load(st_json)"
   ]
  },
  {
   "cell_type": "code",
   "execution_count": 13,
   "metadata": {},
   "outputs": [],
   "source": [
    "datas = st_python"
   ]
  },
  {
   "cell_type": "code",
   "execution_count": 14,
   "metadata": {},
   "outputs": [],
   "source": [
    "i = 1\n",
    "for data in datas:\n",
    "    document = db.collection('words').document('%04d'%i)\n",
    "    document.set(data)\n",
    "    i += 1"
   ]
  },
  {
   "cell_type": "code",
   "execution_count": null,
   "metadata": {},
   "outputs": [],
   "source": []
  }
 ],
 "metadata": {
  "kernelspec": {
   "display_name": "tf",
   "language": "python",
   "name": "python3"
  },
  "language_info": {
   "codemirror_mode": {
    "name": "ipython",
    "version": 3
   },
   "file_extension": ".py",
   "mimetype": "text/x-python",
   "name": "python",
   "nbconvert_exporter": "python",
   "pygments_lexer": "ipython3",
   "version": "3.10.4"
  },
  "orig_nbformat": 4
 },
 "nbformat": 4,
 "nbformat_minor": 2
}
